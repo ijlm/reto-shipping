{
  "cells": [
    {
      "cell_type": "code",
      "execution_count": 1,
      "metadata": {},
      "outputs": [],
      "source": [
        "import pandas as pd\n",
        "import numpy as np\n",
        "import matplotlib.pyplot as plt\n",
        "import seaborn as sns\n",
        "from datetime import timedelta\n",
        "import warnings\n",
        "warnings.filterwarnings('ignore')"
      ]
    },
    {
      "cell_type": "markdown",
      "metadata": {},
      "source": [
        "## Explorar Datos"
      ]
    },
    {
      "cell_type": "code",
      "execution_count": 2,
      "metadata": {},
      "outputs": [
        {
          "data": {
            "text/html": [
              "<div>\n",
              "<style scoped>\n",
              "    .dataframe tbody tr th:only-of-type {\n",
              "        vertical-align: middle;\n",
              "    }\n",
              "\n",
              "    .dataframe tbody tr th {\n",
              "        vertical-align: top;\n",
              "    }\n",
              "\n",
              "    .dataframe thead th {\n",
              "        text-align: right;\n",
              "    }\n",
              "</style>\n",
              "<table border=\"1\" class=\"dataframe\">\n",
              "  <thead>\n",
              "    <tr style=\"text-align: right;\">\n",
              "      <th></th>\n",
              "      <th>date</th>\n",
              "      <th>device</th>\n",
              "      <th>failure</th>\n",
              "      <th>attribute1</th>\n",
              "      <th>attribute2</th>\n",
              "      <th>attribute3</th>\n",
              "      <th>attribute4</th>\n",
              "      <th>attribute5</th>\n",
              "      <th>attribute6</th>\n",
              "      <th>attribute7</th>\n",
              "      <th>attribute8</th>\n",
              "      <th>attribute9</th>\n",
              "    </tr>\n",
              "  </thead>\n",
              "  <tbody>\n",
              "    <tr>\n",
              "      <th>0</th>\n",
              "      <td>2015-01-01</td>\n",
              "      <td>S1F01085</td>\n",
              "      <td>0</td>\n",
              "      <td>215630672</td>\n",
              "      <td>56</td>\n",
              "      <td>0</td>\n",
              "      <td>52</td>\n",
              "      <td>6</td>\n",
              "      <td>407438</td>\n",
              "      <td>0</td>\n",
              "      <td>0</td>\n",
              "      <td>7</td>\n",
              "    </tr>\n",
              "    <tr>\n",
              "      <th>1</th>\n",
              "      <td>2015-01-01</td>\n",
              "      <td>S1F0166B</td>\n",
              "      <td>0</td>\n",
              "      <td>61370680</td>\n",
              "      <td>0</td>\n",
              "      <td>3</td>\n",
              "      <td>0</td>\n",
              "      <td>6</td>\n",
              "      <td>403174</td>\n",
              "      <td>0</td>\n",
              "      <td>0</td>\n",
              "      <td>0</td>\n",
              "    </tr>\n",
              "  </tbody>\n",
              "</table>\n",
              "</div>"
            ],
            "text/plain": [
              "         date    device  failure  attribute1  attribute2  attribute3  \\\n",
              "0  2015-01-01  S1F01085        0   215630672          56           0   \n",
              "1  2015-01-01  S1F0166B        0    61370680           0           3   \n",
              "\n",
              "   attribute4  attribute5  attribute6  attribute7  attribute8  attribute9  \n",
              "0          52           6      407438           0           0           7  \n",
              "1           0           6      403174           0           0           0  "
            ]
          },
          "execution_count": 2,
          "metadata": {},
          "output_type": "execute_result"
        }
      ],
      "source": [
        "path='../data/full_devices.csv'\n",
        "df = pd.read_csv(path, encoding='Latin-1')\n",
        "df.head(2)"
      ]
    },
    {
      "cell_type": "code",
      "execution_count": 3,
      "metadata": {},
      "outputs": [
        {
          "name": "stdout",
          "output_type": "stream",
          "text": [
            "Shape: (124494, 12)\n",
            "Periodo: 2015-01-01 00:00:00 a 2015-11-02 00:00:00\n",
            "Devices únicos: 1169\n",
            "Columnas: ['date', 'device', 'failure', 'attribute1', 'attribute2', 'attribute3', 'attribute4', 'attribute5', 'attribute6', 'attribute7', 'attribute8', 'attribute9']\n"
          ]
        },
        {
          "data": {
            "text/html": [
              "<div>\n",
              "<style scoped>\n",
              "    .dataframe tbody tr th:only-of-type {\n",
              "        vertical-align: middle;\n",
              "    }\n",
              "\n",
              "    .dataframe tbody tr th {\n",
              "        vertical-align: top;\n",
              "    }\n",
              "\n",
              "    .dataframe thead th {\n",
              "        text-align: right;\n",
              "    }\n",
              "</style>\n",
              "<table border=\"1\" class=\"dataframe\">\n",
              "  <thead>\n",
              "    <tr style=\"text-align: right;\">\n",
              "      <th></th>\n",
              "      <th>date</th>\n",
              "      <th>device</th>\n",
              "      <th>failure</th>\n",
              "      <th>attribute1</th>\n",
              "      <th>attribute2</th>\n",
              "      <th>attribute3</th>\n",
              "      <th>attribute4</th>\n",
              "      <th>attribute5</th>\n",
              "      <th>attribute6</th>\n",
              "      <th>attribute7</th>\n",
              "      <th>attribute8</th>\n",
              "      <th>attribute9</th>\n",
              "    </tr>\n",
              "  </thead>\n",
              "  <tbody>\n",
              "    <tr>\n",
              "      <th>0</th>\n",
              "      <td>2015-01-01</td>\n",
              "      <td>S1F01085</td>\n",
              "      <td>0</td>\n",
              "      <td>215630672</td>\n",
              "      <td>56</td>\n",
              "      <td>0</td>\n",
              "      <td>52</td>\n",
              "      <td>6</td>\n",
              "      <td>407438</td>\n",
              "      <td>0</td>\n",
              "      <td>0</td>\n",
              "      <td>7</td>\n",
              "    </tr>\n",
              "    <tr>\n",
              "      <th>1</th>\n",
              "      <td>2015-01-02</td>\n",
              "      <td>S1F01085</td>\n",
              "      <td>0</td>\n",
              "      <td>1650864</td>\n",
              "      <td>56</td>\n",
              "      <td>0</td>\n",
              "      <td>52</td>\n",
              "      <td>6</td>\n",
              "      <td>407438</td>\n",
              "      <td>0</td>\n",
              "      <td>0</td>\n",
              "      <td>7</td>\n",
              "    </tr>\n",
              "    <tr>\n",
              "      <th>2</th>\n",
              "      <td>2015-01-03</td>\n",
              "      <td>S1F01085</td>\n",
              "      <td>0</td>\n",
              "      <td>124017368</td>\n",
              "      <td>56</td>\n",
              "      <td>0</td>\n",
              "      <td>52</td>\n",
              "      <td>6</td>\n",
              "      <td>407438</td>\n",
              "      <td>0</td>\n",
              "      <td>0</td>\n",
              "      <td>7</td>\n",
              "    </tr>\n",
              "    <tr>\n",
              "      <th>3</th>\n",
              "      <td>2015-01-04</td>\n",
              "      <td>S1F01085</td>\n",
              "      <td>0</td>\n",
              "      <td>128073224</td>\n",
              "      <td>56</td>\n",
              "      <td>0</td>\n",
              "      <td>52</td>\n",
              "      <td>6</td>\n",
              "      <td>407439</td>\n",
              "      <td>0</td>\n",
              "      <td>0</td>\n",
              "      <td>7</td>\n",
              "    </tr>\n",
              "    <tr>\n",
              "      <th>4</th>\n",
              "      <td>2015-01-05</td>\n",
              "      <td>S1F01085</td>\n",
              "      <td>0</td>\n",
              "      <td>97393448</td>\n",
              "      <td>56</td>\n",
              "      <td>0</td>\n",
              "      <td>52</td>\n",
              "      <td>6</td>\n",
              "      <td>408114</td>\n",
              "      <td>0</td>\n",
              "      <td>0</td>\n",
              "      <td>7</td>\n",
              "    </tr>\n",
              "  </tbody>\n",
              "</table>\n",
              "</div>"
            ],
            "text/plain": [
              "        date    device  failure  attribute1  attribute2  attribute3  \\\n",
              "0 2015-01-01  S1F01085        0   215630672          56           0   \n",
              "1 2015-01-02  S1F01085        0     1650864          56           0   \n",
              "2 2015-01-03  S1F01085        0   124017368          56           0   \n",
              "3 2015-01-04  S1F01085        0   128073224          56           0   \n",
              "4 2015-01-05  S1F01085        0    97393448          56           0   \n",
              "\n",
              "   attribute4  attribute5  attribute6  attribute7  attribute8  attribute9  \n",
              "0          52           6      407438           0           0           7  \n",
              "1          52           6      407438           0           0           7  \n",
              "2          52           6      407438           0           0           7  \n",
              "3          52           6      407439           0           0           7  \n",
              "4          52           6      408114           0           0           7  "
            ]
          },
          "execution_count": 3,
          "metadata": {},
          "output_type": "execute_result"
        }
      ],
      "source": [
        "\n",
        "df['date'] = pd.to_datetime(df['date'])\n",
        "df = df.sort_values(['device', 'date']).reset_index(drop=True)\n",
        "print(f'Shape: {df.shape}')\n",
        "print(f'Periodo: {df[\"date\"].min()} a {df[\"date\"].max()}')\n",
        "print(f'Devices únicos: {df[\"device\"].nunique()}')\n",
        "print(f'Columnas: {list(df.columns)}')\n",
        "df.head()"
      ]
    },
    {
      "cell_type": "code",
      "execution_count": 4,
      "metadata": {},
      "outputs": [
        {
          "name": "stdout",
          "output_type": "stream",
          "text": [
            "<class 'pandas.core.frame.DataFrame'>\n",
            "RangeIndex: 124494 entries, 0 to 124493\n",
            "Data columns (total 12 columns):\n",
            " #   Column      Non-Null Count   Dtype         \n",
            "---  ------      --------------   -----         \n",
            " 0   date        124494 non-null  datetime64[ns]\n",
            " 1   device      124494 non-null  object        \n",
            " 2   failure     124494 non-null  int64         \n",
            " 3   attribute1  124494 non-null  int64         \n",
            " 4   attribute2  124494 non-null  int64         \n",
            " 5   attribute3  124494 non-null  int64         \n",
            " 6   attribute4  124494 non-null  int64         \n",
            " 7   attribute5  124494 non-null  int64         \n",
            " 8   attribute6  124494 non-null  int64         \n",
            " 9   attribute7  124494 non-null  int64         \n",
            " 10  attribute8  124494 non-null  int64         \n",
            " 11  attribute9  124494 non-null  int64         \n",
            "dtypes: datetime64[ns](1), int64(10), object(1)\n",
            "memory usage: 11.4+ MB\n"
          ]
        }
      ],
      "source": [
        "# positivo no tener datos nullos \n",
        "df.info() "
      ]
    },
    {
      "cell_type": "code",
      "execution_count": 5,
      "metadata": {},
      "outputs": [
        {
          "data": {
            "text/html": [
              "<div>\n",
              "<style scoped>\n",
              "    .dataframe tbody tr th:only-of-type {\n",
              "        vertical-align: middle;\n",
              "    }\n",
              "\n",
              "    .dataframe tbody tr th {\n",
              "        vertical-align: top;\n",
              "    }\n",
              "\n",
              "    .dataframe thead th {\n",
              "        text-align: right;\n",
              "    }\n",
              "</style>\n",
              "<table border=\"1\" class=\"dataframe\">\n",
              "  <thead>\n",
              "    <tr style=\"text-align: right;\">\n",
              "      <th></th>\n",
              "      <th>50%</th>\n",
              "      <th>mean</th>\n",
              "      <th>diferencia</th>\n",
              "      <th>unique</th>\n",
              "    </tr>\n",
              "  </thead>\n",
              "  <tbody>\n",
              "    <tr>\n",
              "      <th>date</th>\n",
              "      <td>2015-03-27 00:00:00</td>\n",
              "      <td>2015-04-16 05:20:49.737336832</td>\n",
              "      <td>20 days 05:20:49.737336832</td>\n",
              "      <td>304</td>\n",
              "    </tr>\n",
              "    <tr>\n",
              "      <th>failure</th>\n",
              "      <td>0.0</td>\n",
              "      <td>0.0</td>\n",
              "      <td>0.0</td>\n",
              "      <td>2.0</td>\n",
              "    </tr>\n",
              "    <tr>\n",
              "      <th>attribute1</th>\n",
              "      <td>122797388.0</td>\n",
              "      <td>122388103.2</td>\n",
              "      <td>-409284.8</td>\n",
              "      <td>123877.0</td>\n",
              "    </tr>\n",
              "    <tr>\n",
              "      <th>attribute2</th>\n",
              "      <td>0.0</td>\n",
              "      <td>159.5</td>\n",
              "      <td>159.5</td>\n",
              "      <td>558.0</td>\n",
              "    </tr>\n",
              "    <tr>\n",
              "      <th>attribute3</th>\n",
              "      <td>0.0</td>\n",
              "      <td>9.9</td>\n",
              "      <td>9.9</td>\n",
              "      <td>47.0</td>\n",
              "    </tr>\n",
              "    <tr>\n",
              "      <th>attribute4</th>\n",
              "      <td>0.0</td>\n",
              "      <td>1.7</td>\n",
              "      <td>1.7</td>\n",
              "      <td>115.0</td>\n",
              "    </tr>\n",
              "    <tr>\n",
              "      <th>attribute5</th>\n",
              "      <td>10.0</td>\n",
              "      <td>14.2</td>\n",
              "      <td>4.2</td>\n",
              "      <td>60.0</td>\n",
              "    </tr>\n",
              "    <tr>\n",
              "      <th>attribute6</th>\n",
              "      <td>249799.5</td>\n",
              "      <td>260172.7</td>\n",
              "      <td>10373.2</td>\n",
              "      <td>44838.0</td>\n",
              "    </tr>\n",
              "    <tr>\n",
              "      <th>attribute7</th>\n",
              "      <td>0.0</td>\n",
              "      <td>0.3</td>\n",
              "      <td>0.3</td>\n",
              "      <td>28.0</td>\n",
              "    </tr>\n",
              "    <tr>\n",
              "      <th>attribute8</th>\n",
              "      <td>0.0</td>\n",
              "      <td>0.3</td>\n",
              "      <td>0.3</td>\n",
              "      <td>28.0</td>\n",
              "    </tr>\n",
              "    <tr>\n",
              "      <th>attribute9</th>\n",
              "      <td>0.0</td>\n",
              "      <td>12.5</td>\n",
              "      <td>12.5</td>\n",
              "      <td>65.0</td>\n",
              "    </tr>\n",
              "  </tbody>\n",
              "</table>\n",
              "</div>"
            ],
            "text/plain": [
              "                            50%                           mean  \\\n",
              "date        2015-03-27 00:00:00  2015-04-16 05:20:49.737336832   \n",
              "failure                     0.0                            0.0   \n",
              "attribute1          122797388.0                    122388103.2   \n",
              "attribute2                  0.0                          159.5   \n",
              "attribute3                  0.0                            9.9   \n",
              "attribute4                  0.0                            1.7   \n",
              "attribute5                 10.0                           14.2   \n",
              "attribute6             249799.5                       260172.7   \n",
              "attribute7                  0.0                            0.3   \n",
              "attribute8                  0.0                            0.3   \n",
              "attribute9                  0.0                           12.5   \n",
              "\n",
              "                            diferencia    unique  \n",
              "date        20 days 05:20:49.737336832       304  \n",
              "failure                            0.0       2.0  \n",
              "attribute1                   -409284.8  123877.0  \n",
              "attribute2                       159.5     558.0  \n",
              "attribute3                         9.9      47.0  \n",
              "attribute4                         1.7     115.0  \n",
              "attribute5                         4.2      60.0  \n",
              "attribute6                     10373.2   44838.0  \n",
              "attribute7                         0.3      28.0  \n",
              "attribute8                         0.3      28.0  \n",
              "attribute9                        12.5      65.0  "
            ]
          },
          "execution_count": 5,
          "metadata": {},
          "output_type": "execute_result"
        }
      ],
      "source": [
        "desc = df.describe()\n",
        "df_comparacion = desc.loc[['50%', 'mean']]\n",
        "df_comparacion.loc['diferencia'] = df_comparacion.loc['mean'] - df_comparacion.loc['50%']\n",
        "df_comparacion.loc['unique'] = df.select_dtypes(exclude=['object']).nunique()\n",
        "df_comparacion.round(1).T"
      ]
    },
    {
      "cell_type": "code",
      "execution_count": 6,
      "metadata": {},
      "outputs": [
        {
          "data": {
            "text/plain": [
              "<Axes: >"
            ]
          },
          "execution_count": 6,
          "metadata": {},
          "output_type": "execute_result"
        },
        {
          "data": {
            "image/png": "[encoded data removed]",
            "text/plain": [
              "<Figure size 640x480 with 2 Axes>"
            ]
          },
          "metadata": {},
          "output_type": "display_data"
        }
      ],
      "source": [
        "attributes = [col for col in df.columns if col.startswith('attribute')]\n",
        "sns.heatmap(df[attributes].corr(), annot=True, cmap='coolwarm')"
      ]
    },
    {
      "cell_type": "code",
      "execution_count": 7,
      "metadata": {},
      "outputs": [
        {
          "data": {
            "text/plain": [
              "np.float64(0.0)"
            ]
          },
          "execution_count": 7,
          "metadata": {},
          "output_type": "execute_result"
        }
      ],
      "source": [
        "df[['attribute7','attribute8']].sort_values(by='attribute7',\n",
        "    ascending=False).apply(lambda x: x['attribute8']-x['attribute7'],axis=1).mean()"
      ]
    },
    {
      "cell_type": "code",
      "execution_count": 8,
      "metadata": {},
      "outputs": [],
      "source": [
        "### Attribute 7 y 8 son los mismos por lo que se puede eliminar uno de ellos dado que no aportan información\n",
        "df.drop(columns=['attribute8'], inplace=True)"
      ]
    },
    {
      "cell_type": "code",
      "execution_count": 9,
      "metadata": {},
      "outputs": [
        {
          "data": {
            "text/plain": [
              "first_date_device  last_date_device\n",
              "2015-01            2015-08             33694\n",
              "                   2015-10             32544\n",
              "                   2015-03             15123\n",
              "                   2015-04             10944\n",
              "                   2015-11              9092\n",
              "                   2015-09              8970\n",
              "                   2015-05              5414\n",
              "                   2015-07              2985\n",
              "                   2015-01              2740\n",
              "                   2015-02              2121\n",
              "                   2015-06               842\n",
              "2015-05            2015-05                24\n",
              "2015-06            2015-06                 1\n",
              "Name: count, dtype: int64"
            ]
          },
          "execution_count": 9,
          "metadata": {},
          "output_type": "execute_result"
        }
      ],
      "source": [
        "# Marcar el día (fecha) en donde aparece el device por primera vez  y utima vez\n",
        "df['first_date_device'] = df.groupby('device')['date'].transform('min').astype(str).str[:7]\n",
        "df['last_date_device'] = df.groupby('device')['date'].transform('max').astype(str).str[:7]\n",
        "df['last_date'] = df.groupby('device')['date'].transform('max')\n",
        "df[['first_date_device','last_date_device']].value_counts()"
      ]
    },
    {
      "cell_type": "code",
      "execution_count": 10,
      "metadata": {},
      "outputs": [],
      "source": [
        "device_failure=df[df.failure==1].groupby('device').agg({'date':['last']}).reset_index()\n",
        "device_normal=df[df.failure==0].groupby('device').agg({'date':['last']}).reset_index()\n",
        "device_failure.columns=['device','last_failure']\n",
        "device_normal.columns=['device','last_normal']\n",
        "\n",
        "\n",
        "feature_cols = [col for col in df.columns if col.startswith('attribute')]\n",
        "\n",
        "historicos_falla = []\n",
        "for idx, row in device_failure.iterrows():\n",
        "    device = row['device']\n",
        "    fecha_ref = row['last_failure']\n",
        "    mask = (df['device'] == device) & (df['date'] <= fecha_ref) & (df['date'] > (fecha_ref - timedelta(days=10)))\n",
        "    historico = df.loc[mask, ['device', 'date'] + feature_cols + ['failure']].copy()\n",
        "    historicos_falla.append(historico)\n",
        "\n",
        "historico_falla_df = pd.concat(historicos_falla, ignore_index=True)\n",
        "\n",
        "\n",
        "historicos_normal = []\n",
        "for idx, row in device_normal.iterrows():\n",
        "    device = row['device']\n",
        "    fecha_ref = row['last_normal']\n",
        "    mask = (df['device'] == device) & (df['date'] <= fecha_ref) & (df['date'] > (fecha_ref - timedelta(days=10)))\n",
        "    historico = df.loc[mask, ['device', 'date'] + feature_cols + ['failure']].copy()\n",
        "    historicos_normal.append(historico)\n",
        "\n",
        "historico_normal_df = pd.concat(historicos_normal, ignore_index=True)\n",
        "\n"
      ]
    },
    {
      "cell_type": "code",
      "execution_count": 11,
      "metadata": {},
      "outputs": [],
      "source": [
        "def add_relative_day_index(df_ref):\n",
        "    df_ref = df_ref.sort_values(['device', 'date']).copy()\n",
        "    def relative_idx(subdf):\n",
        "        n = len(subdf)\n",
        "        subdf['relative_day_index'] = range(-n+1, 1)\n",
        "        return subdf\n",
        "    return df_ref.groupby('device', group_keys=False).apply(relative_idx)\n",
        "\n",
        "historico_falla_df = add_relative_day_index(historico_falla_df)\n",
        "historico_normal_df = add_relative_day_index(historico_normal_df)\n"
      ]
    },
    {
      "cell_type": "code",
      "execution_count": 12,
      "metadata": {},
      "outputs": [
        {
          "data": {
            "image/png": "[encoded data removed]",
            "text/plain": [
              "<Figure size 1600x1600 with 8 Axes>"
            ]
          },
          "metadata": {},
          "output_type": "display_data"
        }
      ],
      "source": [
        "\n",
        "tmp1=historico_falla_df[feature_cols+['relative_day_index']].groupby('relative_day_index').agg(['mean']).reset_index()\n",
        "tmp2=historico_normal_df[feature_cols+['relative_day_index']].groupby('relative_day_index').agg(['mean']).reset_index()\n",
        "\n",
        "tmp1.columns=tmp1.columns.map(lambda x: x[0] if len(x) == 1 else '_'.join(x))\n",
        "tmp2.columns=tmp2.columns.map(lambda x: x[0] if len(x) == 1 else '_'.join(x))\n",
        "\n",
        "merged = tmp1.merge(tmp2, on='relative_day_index_', suffixes=('_falla', '_normal'))\n",
        "\n",
        "dias = range(-9, 1)\n",
        "filtered = merged[merged['relative_day_index_'].isin(dias)]\n",
        "\n",
        "feature_means_falla = [f\"{c}_mean_falla\" for c in feature_cols]\n",
        "feature_means_normal = [f\"{c}_mean_normal\" for c in feature_cols]\n",
        "\n",
        "fig, axes = plt.subplots(nrows=len(feature_cols)//2 + len(feature_cols)%2, ncols=2, figsize=(16, 16))\n",
        "axes = axes.flatten()\n",
        "\n",
        "for idx, col in enumerate(feature_cols):\n",
        "    ax = axes[idx]\n",
        "    ax.plot(filtered['relative_day_index_'], filtered[f\"{col}_mean_falla\"], label='Falla', marker='o')\n",
        "    ax.plot(filtered['relative_day_index_'], filtered[f\"{col}_mean_normal\"], label='Normal', marker='o', linestyle='--')\n",
        "    ax.set_title(f'Comportamiento: {col}')\n",
        "    ax.set_xlabel('Día relativo')\n",
        "    ax.set_ylabel('Valor medio')\n",
        "    ax.legend()\n",
        "    ax.grid(True)\n",
        "\n",
        "plt.tight_layout()\n",
        "plt.show()\n",
        "\n"
      ]
    },
    {
      "cell_type": "code",
      "execution_count": 13,
      "metadata": {},
      "outputs": [],
      "source": [
        "## Tenemso attributos que no son relevantes para el modelo"
      ]
    },
    {
      "cell_type": "markdown",
      "metadata": {},
      "source": [
        "### Análisis del Target (Failure)"
      ]
    },
    {
      "cell_type": "code",
      "execution_count": 14,
      "metadata": {},
      "outputs": [
        {
          "name": "stdout",
          "output_type": "stream",
          "text": [
            "Distribución de fallas:\n",
            "failure\n",
            "0    124388\n",
            "1       106\n",
            "Name: count, dtype: int64\n",
            "\n",
            "Porcentaje de fallas: 0.09%\n",
            "\n",
            "Procentaje de fallas por device unico: 8.313725490196077\n"
          ]
        }
      ],
      "source": [
        "print('Distribución de fallas:')\n",
        "print(df['failure'].value_counts())\n",
        "print(f'\\nPorcentaje de fallas: {df[\"failure\"].mean()*100:.2f}%')\n",
        "print(f'\\nProcentaje de fallas por device unico: {df[['device','failure']].drop_duplicates()[\"failure\"].mean()*100}')\n",
        "#este comportamiento es por qeu un device no falla tanto en el tiempo, si se mira a nivel de device. la proportcion es menor"
      ]
    },
    {
      "cell_type": "markdown",
      "metadata": {},
      "source": [
        "### Construcción del Target\n"
      ]
    },
    {
      "cell_type": "code",
      "execution_count": 15,
      "metadata": {},
      "outputs": [
        {
          "name": "stdout",
          "output_type": "stream",
          "text": [
            "Shape antes: (124494, 14)\n",
            "\n",
            "Shape después: (124494, 15)\n",
            " en target: 106.0\n",
            "\n",
            "Shape final: (123325, 15)\n",
            "Distribución target: {0.0: 123219, 1.0: 106}\n"
          ]
        }
      ],
      "source": [
        "#como la idea es predecir la falla un día antes  de que falle, se le da un shift a la falla un día antes,\n",
        "#los valores del target 0 de la falla se retiran. solo si fueron falla\n",
        "print(f'Shape antes: {df.shape}')\n",
        "\n",
        "df['target'] = df.sort_values(['device','date']).groupby('device')['failure'].shift(-1)\n",
        "\n",
        "df['target']=df.apply(lambda x: 0 if x['failure']==0 and x['target']==0 else x['target'],axis=1)\n",
        "\n",
        "print(f'\\nShape después: {df.shape}')\n",
        "print(f' en target: {df[\"target\"].sum()}')\n",
        "\n",
        "# Eliminar nulls (última fila de cada device)\n",
        "df = df.dropna(subset=['target'])\n",
        "print(f'\\nShape final: {df.shape}')\n",
        "print(f'Distribución target: {df[\"target\"].value_counts().to_dict()}')"
      ]
    },
    {
      "cell_type": "code",
      "execution_count": 16,
      "metadata": {},
      "outputs": [
        {
          "name": "stdout",
          "output_type": "stream",
          "text": [
            "\n",
            "Shape final: (123325, 16)\n",
            "Distribución extended_target: {0: 122901, 1: 424}\n"
          ]
        }
      ],
      "source": [
        "# Creamos una \"marca extendida\": para cada failure (falla=1), como vimos anteriormente las features se mueven desde antes.\n",
        "\n",
        "N = 3  # eventos previos a la falla\n",
        "df['extended_target'] = 0\n",
        "\n",
        "# Por cada device, marcamos como 1 la fila con target=1 y las N previas\n",
        "for dev in df['device'].unique():\n",
        "    idx = df[df['device'] == dev].index\n",
        "    fails = df.loc[idx, 'target'][df.loc[idx, 'target'] == 1].index\n",
        "    for fail_idx in fails:\n",
        "        # Nos aseguramos de no pasarnos al inicio del subconjunto del device\n",
        "        window_idx = df.loc[idx].loc[:fail_idx].tail(N+1).index\n",
        "        df.loc[window_idx, 'extended_target'] = 1\n",
        "print(f'\\nShape final: {df.shape}')\n",
        "print(f'Distribución extended_target: {df[\"extended_target\"].value_counts().to_dict()}')\n"
      ]
    },
    {
      "cell_type": "markdown",
      "metadata": {},
      "source": [
        "### Feature Engineering\n"
      ]
    },
    {
      "cell_type": "code",
      "execution_count": 17,
      "metadata": {},
      "outputs": [
        {
          "name": "stdout",
          "output_type": "stream",
          "text": [
            "Attributes: ['attribute1', 'attribute2', 'attribute3', 'attribute4', 'attribute5', 'attribute6', 'attribute7', 'attribute9']\n",
            "Total: 8\n",
            "\n",
            "Shape antes de features: (123325, 16)\n"
          ]
        }
      ],
      "source": [
        "attributes = [col for col in df.columns if col.startswith('attribute')]\n",
        "print(f'Attributes: {attributes}')\n",
        "print(f'Total: {len(attributes)}')\n",
        "print(f'\\nShape antes de features: {df.shape}')"
      ]
    },
    {
      "cell_type": "code",
      "execution_count": 18,
      "metadata": {},
      "outputs": [
        {
          "name": "stdout",
          "output_type": "stream",
          "text": [
            "Creando lags...\n",
            "  Lag 1 creado\n",
            "  Lag 2 creado\n",
            "  Lag 3 creado\n",
            "  Lag 5 creado\n",
            "  Lag 7 creado\n",
            "Lag features: 40\n"
          ]
        }
      ],
      "source": [
        "# creando lags son features de como se ve las variables en el tiempo\n",
        "print('Creando lags...')\n",
        "for lag in [1, 2, 3,5,7]:\n",
        "    for attr in attributes:\n",
        "        df[f'{attr}_lag_{lag}'] = df.groupby('device')[attr].shift(lag).fillna(0)\n",
        "    print(f'  Lag {lag} creado')\n",
        "\n",
        "lag_cols = [col for col in df.columns if '_lag_' in col]\n",
        "print(f'Lag features: {len(lag_cols)}')"
      ]
    },
    {
      "cell_type": "code",
      "execution_count": 19,
      "metadata": {},
      "outputs": [
        {
          "name": "stdout",
          "output_type": "stream",
          "text": [
            "Creando rolling...\n",
            "  Rolling 1 creado\n",
            "  Rolling 2 creado\n",
            "  Rolling 3 creado\n",
            "  Rolling 5 creado\n",
            "  Rolling 7 creado\n",
            "  Rolling 14 creado\n",
            "Rolling features: 96\n"
          ]
        }
      ],
      "source": [
        "# acumulados de los datos en el tiempo por promedio y desviacion estandar\n",
        "print('Creando rolling...')\n",
        "for window in [1,2,3,5,7, 14]:\n",
        "    for attr in attributes:\n",
        "        df[f'{attr}_roll_{window}_mean'] = df.groupby('device')[attr].rolling(window, min_periods=1).mean().fillna(0).values\n",
        "        df[f'{attr}_roll_{window}_std'] = df.groupby('device')[attr].rolling(window, min_periods=1).std().fillna(0).values\n",
        "    print(f'  Rolling {window} creado')\n",
        "\n",
        "roll_cols = [col for col in df.columns if '_roll_' in col]\n",
        "print(f'Rolling features: {len(roll_cols)}')"
      ]
    },
    {
      "cell_type": "code",
      "execution_count": 20,
      "metadata": {},
      "outputs": [
        {
          "name": "stdout",
          "output_type": "stream",
          "text": [
            "Creando ventanas disjuntas...\n",
            "  Ventanas para attribute1 creadas\n",
            "  Ventanas para attribute2 creadas\n",
            "  Ventanas para attribute3 creadas\n",
            "  Ventanas para attribute4 creadas\n",
            "  Ventanas para attribute5 creadas\n",
            "  Ventanas para attribute6 creadas\n",
            "  Ventanas para attribute7 creadas\n",
            "  Ventanas para attribute9 creadas\n",
            "Ventanas disjuntas: 64\n"
          ]
        }
      ],
      "source": [
        "# 3. Ventanas disjuntas, similar a las rolling pero con ventanas fijas\n",
        "print('Creando ventanas disjuntas...')\n",
        "ventanas = [(1,2),(3,4),(4, 7), (8, 14)]\n",
        "\n",
        "for attr in attributes:\n",
        "    for start, end in ventanas:\n",
        "        window_size = end - start + 1\n",
        "        df[f'{attr}_w{start}_{end}d_mean'] = df.groupby('device')[attr].transform(\n",
        "            lambda x: x.shift(start).rolling(window_size, min_periods=1).mean().fillna(0)\n",
        "        )\n",
        "        df[f'{attr}_w{start}_{end}d_std'] = df.groupby('device')[attr].transform(\n",
        "            lambda x: x.shift(start).rolling(window_size, min_periods=1).std().fillna(0)\n",
        "        )\n",
        "    print(f'  Ventanas para {attr} creadas')\n",
        "\n",
        "window_cols = [col for col in df.columns if '_w' in col]\n",
        "print(f'Ventanas disjuntas: {len(window_cols)}')"
      ]
    },
    {
      "cell_type": "code",
      "execution_count": 21,
      "metadata": {},
      "outputs": [
        {
          "name": "stdout",
          "output_type": "stream",
          "text": [
            "Creando diferencias...\n",
            "  Diff 1 creado\n",
            "  Diff 7 creado\n",
            "Difference features: 16\n"
          ]
        }
      ],
      "source": [
        "# Features de diferencias, para ver como se comporta la variable en el tiempo\n",
        "print('Creando diferencias...')\n",
        "for diff in [1, 7]:\n",
        "    for attr in attributes:\n",
        "        df[f'{attr}_diff_{diff}'] = df.groupby('device')[attr].diff(diff).fillna(0)\n",
        "    print(f'  Diff {diff} creado')\n",
        "\n",
        "diff_cols = [col for col in df.columns if '_diff_' in col]\n",
        "print(f'Difference features: {len(diff_cols)}')"
      ]
    },
    {
      "cell_type": "code",
      "execution_count": 22,
      "metadata": {},
      "outputs": [],
      "source": [
        "import pandas as pd\n",
        "import numpy as np\n",
        "\n",
        "\n",
        "df['days_since_last_failure'] = (\n",
        "    df.groupby('device', group_keys=False)\n",
        "      .apply(lambda g: (\n",
        "          g['date'] -                    \n",
        "          g['date'].where(g['failure'].eq(1)) \n",
        "                   .ffill()                    \n",
        "                   .shift(1)                  \n",
        "      ).dt.days)\n",
        ").fillna(0)"
      ]
    },
    {
      "cell_type": "code",
      "execution_count": 23,
      "metadata": {},
      "outputs": [
        {
          "name": "stdout",
          "output_type": "stream",
          "text": [
            "RESUMEN DE FEATURES\n",
            "Attributes originales: 8\n",
            "Lag features: 40\n",
            "Rolling features: 96\n",
            "Ventanas disjuntas: 64\n",
            "Difference features: 16\n",
            "\n",
            "TOTAL FEATURES: 224\n",
            "Shape actual: (123325, 233)\n",
            "device unicos antes de eliminar nulls: 1168\n",
            "\n",
            "Shape después de eliminar nulls: (123325, 233)\n",
            "Filas eliminadas: 0\n",
            "device unicos despues de eliminar nulls: 1168\n"
          ]
        }
      ],
      "source": [
        "# Resumen\n",
        "print('RESUMEN DE FEATURES')\n",
        "print(f'Attributes originales: {len(attributes)}')\n",
        "print(f'Lag features: {len(lag_cols)}')\n",
        "print(f'Rolling features: {len(roll_cols)}')\n",
        "print(f'Ventanas disjuntas: {len(window_cols)}')\n",
        "print(f'Difference features: {len(diff_cols)}')\n",
        "print(f'\\nTOTAL FEATURES: {len(attributes) + len(lag_cols) + len(roll_cols) + len(window_cols) + len(diff_cols)}')\n",
        "print(f'Shape actual: {df.shape}')\n",
        "\n",
        "# Eliminar nulls\n",
        "print(f'device unicos antes de eliminar nulls: {df[\"device\"].nunique()}')\n",
        "df_clean = df.dropna().reset_index(drop=True)\n",
        "print(f'\\nShape después de eliminar nulls: {df_clean.shape}')\n",
        "print(f'Filas eliminadas: {len(df) - len(df_clean)}')\n",
        "print(f'device unicos despues de eliminar nulls: {df_clean[\"device\"].nunique()}')"
      ]
    },
    {
      "cell_type": "markdown",
      "metadata": {},
      "source": [
        "## Datasets"
      ]
    },
    {
      "cell_type": "code",
      "execution_count": 24,
      "metadata": {},
      "outputs": [],
      "source": [
        "# Para cada device, identificar el último registro \n",
        "\n",
        "df_clean = df_clean.sort_values(['device', 'date']).reset_index(drop=True)\n",
        "\n",
        "last_dates = df_clean.groupby('device')['date'].transform('max')\n",
        "df_clean['is_last_date_device'] = (df_clean['date'] == last_dates).astype(int)\n",
        "\n",
        "df_clean['days_from_last'] = (last_dates - df_clean['date']).dt.days\n",
        "\n",
        "df_clean = df_clean[df_clean['days_from_last'] < 15].copy()\n",
        "\n",
        "df_clean['is_day_0'] = (df_clean['days_from_last'] == 0).astype(int)\n",
        "\n",
        "df_clean = df_clean.sort_values(['device', 'date']).reset_index(drop=True)\n",
        "\n",
        "df_ultimo_vento=df_clean[df_clean['is_last_date_device']==1].copy()\n",
        "\n",
        "df_eventos=df_clean.copy()\n"
      ]
    },
    {
      "cell_type": "code",
      "execution_count": 25,
      "metadata": {},
      "outputs": [
        {
          "name": "stdout",
          "output_type": "stream",
          "text": [
            "\n",
            "Resumen para df_ultimo_vento:\n",
            "  Shape: (1168, 236)\n",
            "  Dispositivos únicos: 1168\n",
            "  Fechas: 2015-01-02 00:00:00 a 2015-10-31 00:00:00\n",
            "  Fallas: 1 (0.09%)\n",
            "  Target pos: 101.0 (8.65%)\n",
            "  Extended Target pos: 101 (8.65%)\n",
            "\n",
            "\n",
            "Resumen para df_eventos:\n",
            "  Shape: (13260, 236)\n",
            "  Dispositivos únicos: 1168\n",
            "  Fechas: 2015-01-01 00:00:00 a 2015-10-31 00:00:00\n",
            "  Fallas: 4 (0.03%)\n",
            "  Target pos: 105.0 (0.79%)\n",
            "  Extended Target pos: 415 (3.13%)\n",
            "\n",
            "\n",
            "Resumen para df_eventos:\n",
            "  Shape: (123325, 233)\n",
            "  Dispositivos únicos: 1168\n",
            "  Fechas: 2015-01-01 00:00:00 a 2015-10-31 00:00:00\n",
            "  Fallas: 5 (0.00%)\n",
            "  Target pos: 106.0 (0.09%)\n",
            "  Extended Target pos: 424 (0.34%)\n",
            "\n"
          ]
        }
      ],
      "source": [
        "# Generar resumen por cada dataset\n",
        "\n",
        "def resumen_dataset(df, nombre):\n",
        "    print(f\"\\nResumen para {nombre}:\")\n",
        "    print(f'  Shape: {df.shape}')\n",
        "    print(f'  Dispositivos únicos: {df[\"device\"].nunique() if \"device\" in df.columns else \"N/A\"}')\n",
        "    print(f'  Fechas: {df[\"date\"].min()} a {df[\"date\"].max()}' if \"date\" in df.columns else \"\")\n",
        "    if \"failure\" in df.columns:\n",
        "        print(f'  Fallas: {df[\"failure\"].sum()} ({df[\"failure\"].mean()*100:.2f}%)')\n",
        "    if \"target\" in df.columns:\n",
        "        print(f'  Target pos: {df[\"target\"].sum()} ({df[\"target\"].mean()*100:.2f}%)')\n",
        "    if \"extended_target\" in df.columns:\n",
        "        print(f'  Extended Target pos: {df[\"extended_target\"].sum()} ({df[\"extended_target\"].mean()*100:.2f}%)')\n",
        "    print()\n",
        "\n",
        "resumen_dataset(df_ultimo_vento, \"df_ultimo_vento\")\n",
        "resumen_dataset(df_eventos, \"df_eventos\")\n",
        "resumen_dataset(df, \"df_eventos\")\n",
        "\n"
      ]
    },
    {
      "cell_type": "markdown",
      "metadata": {},
      "source": [
        "## Split Temporal (Train/Test)\n",
        "\n",
        "**IMPORTANTE:** Split por FECHA, NO por device, al ser una serie con valores mezclados puede existir dataleakge, acciones del pasado son tomadas en el futuro"
      ]
    },
    {
      "cell_type": "code",
      "execution_count": 26,
      "metadata": {},
      "outputs": [
        {
          "data": {
            "text/html": [
              "<div>\n",
              "<style scoped>\n",
              "    .dataframe tbody tr th:only-of-type {\n",
              "        vertical-align: middle;\n",
              "    }\n",
              "\n",
              "    .dataframe tbody tr th {\n",
              "        vertical-align: top;\n",
              "    }\n",
              "\n",
              "    .dataframe thead th {\n",
              "        text-align: right;\n",
              "    }\n",
              "</style>\n",
              "<table border=\"1\" class=\"dataframe\">\n",
              "  <thead>\n",
              "    <tr style=\"text-align: right;\">\n",
              "      <th></th>\n",
              "      <th>date</th>\n",
              "      <th>device</th>\n",
              "      <th>failure</th>\n",
              "      <th>attribute1</th>\n",
              "      <th>attribute2</th>\n",
              "      <th>attribute3</th>\n",
              "      <th>attribute4</th>\n",
              "      <th>attribute5</th>\n",
              "      <th>attribute6</th>\n",
              "      <th>attribute7</th>\n",
              "      <th>...</th>\n",
              "      <th>attribute3_diff_7</th>\n",
              "      <th>attribute4_diff_7</th>\n",
              "      <th>attribute5_diff_7</th>\n",
              "      <th>attribute6_diff_7</th>\n",
              "      <th>attribute7_diff_7</th>\n",
              "      <th>attribute9_diff_7</th>\n",
              "      <th>days_since_last_failure</th>\n",
              "      <th>is_last_date_device</th>\n",
              "      <th>days_from_last</th>\n",
              "      <th>is_day_0</th>\n",
              "    </tr>\n",
              "  </thead>\n",
              "  <tbody>\n",
              "    <tr>\n",
              "      <th>29</th>\n",
              "      <td>2015-02-16</td>\n",
              "      <td>S1F01E6Y</td>\n",
              "      <td>0</td>\n",
              "      <td>182876688</td>\n",
              "      <td>0</td>\n",
              "      <td>0</td>\n",
              "      <td>0</td>\n",
              "      <td>12</td>\n",
              "      <td>259486</td>\n",
              "      <td>0</td>\n",
              "      <td>...</td>\n",
              "      <td>0.0</td>\n",
              "      <td>0.0</td>\n",
              "      <td>0.0</td>\n",
              "      <td>48.0</td>\n",
              "      <td>0.0</td>\n",
              "      <td>0.0</td>\n",
              "      <td>0.0</td>\n",
              "      <td>1</td>\n",
              "      <td>0</td>\n",
              "      <td>1</td>\n",
              "    </tr>\n",
              "    <tr>\n",
              "      <th>20</th>\n",
              "      <td>2015-02-07</td>\n",
              "      <td>S1F01E6Y</td>\n",
              "      <td>0</td>\n",
              "      <td>68029784</td>\n",
              "      <td>0</td>\n",
              "      <td>0</td>\n",
              "      <td>0</td>\n",
              "      <td>12</td>\n",
              "      <td>259428</td>\n",
              "      <td>0</td>\n",
              "      <td>...</td>\n",
              "      <td>0.0</td>\n",
              "      <td>0.0</td>\n",
              "      <td>0.0</td>\n",
              "      <td>65.0</td>\n",
              "      <td>0.0</td>\n",
              "      <td>0.0</td>\n",
              "      <td>0.0</td>\n",
              "      <td>0</td>\n",
              "      <td>9</td>\n",
              "      <td>0</td>\n",
              "    </tr>\n",
              "  </tbody>\n",
              "</table>\n",
              "<p>2 rows × 236 columns</p>\n",
              "</div>"
            ],
            "text/plain": [
              "         date    device  failure  attribute1  attribute2  attribute3  \\\n",
              "29 2015-02-16  S1F01E6Y        0   182876688           0           0   \n",
              "20 2015-02-07  S1F01E6Y        0    68029784           0           0   \n",
              "\n",
              "    attribute4  attribute5  attribute6  attribute7  ...  attribute3_diff_7  \\\n",
              "29           0          12      259486           0  ...                0.0   \n",
              "20           0          12      259428           0  ...                0.0   \n",
              "\n",
              "   attribute4_diff_7 attribute5_diff_7 attribute6_diff_7  attribute7_diff_7  \\\n",
              "29               0.0               0.0              48.0                0.0   \n",
              "20               0.0               0.0              65.0                0.0   \n",
              "\n",
              "    attribute9_diff_7  days_since_last_failure  is_last_date_device  \\\n",
              "29                0.0                      0.0                    1   \n",
              "20                0.0                      0.0                    0   \n",
              "\n",
              "    days_from_last  is_day_0  \n",
              "29               0         1  \n",
              "20               9         0  \n",
              "\n",
              "[2 rows x 236 columns]"
            ]
          },
          "execution_count": 26,
          "metadata": {},
          "output_type": "execute_result"
        }
      ],
      "source": [
        "df_eventos[df_eventos.device=='S1F01E6Y'].sample(2)"
      ]
    },
    {
      "cell_type": "code",
      "execution_count": 27,
      "metadata": {},
      "outputs": [
        {
          "name": "stdout",
          "output_type": "stream",
          "text": [
            "Fecha de corte (80/20): 2015-06-30 00:00:00\n",
            "\n",
            "Resumen para train_eventos:\n",
            "  Shape: (8085, 236)\n",
            "  Dispositivos únicos: 826\n",
            "  Fechas: 2015-01-01 00:00:00 a 2015-06-29 00:00:00\n",
            "  Fallas: 83.0 (1.03%)\n",
            "\n",
            "Resumen para test_eventos:\n",
            "  Shape: (5175, 236)\n",
            "  Dispositivos únicos: 349\n",
            "  Fechas: 2015-06-30 00:00:00 a 2015-10-31 00:00:00\n",
            "  Fallas: 22.0 (0.43%)\n",
            "Fecha de corte (80/20): 2015-06-24 04:48:00\n",
            "\n",
            "Resumen para train_ultimo_vento:\n",
            "  Shape: (817, 236)\n",
            "  Dispositivos únicos: 817\n",
            "  Fechas: 2015-01-02 00:00:00 a 2015-06-17 00:00:00\n",
            "  Fallas: 78.0 (9.55%)\n",
            "\n",
            "Resumen para test_ultimo_vento:\n",
            "  Shape: (351, 236)\n",
            "  Dispositivos únicos: 351\n",
            "  Fechas: 2015-06-25 00:00:00 a 2015-10-31 00:00:00\n",
            "  Fallas: 23.0 (6.55%)\n"
          ]
        }
      ],
      "source": [
        "def resumen_dataset(df, nombre):\n",
        "    print(f\"\\nResumen para {nombre}:\")\n",
        "    print(f'  Shape: {df.shape}')\n",
        "    print(f'  Dispositivos únicos: {df[\"device\"].nunique() if \"device\" in df.columns else \"N/A\"}')\n",
        "    print(f'  Fechas: {df[\"date\"].min()} a {df[\"date\"].max()}' if \"date\" in df.columns else \"\")\n",
        "    print(f'  Fallas: {df[\"target\"].sum()} ({df[\"target\"].mean()*100:.2f}%)')\n",
        "\n",
        "## para serie \n",
        "cutoff_date = df_eventos['date'].quantile(0.61)\n",
        "print(f'Fecha de corte (80/20): {cutoff_date}')\n",
        "train_eventos = df_eventos[df_eventos['date'] < cutoff_date].copy()\n",
        "test_eventos = df_eventos[df_eventos['date'] >= cutoff_date].copy()\n",
        "\n",
        "resumen_dataset(train_eventos, \"train_eventos\")\n",
        "resumen_dataset(test_eventos, \"test_eventos\")\n",
        "\n",
        "#para ultimo evento\n",
        "cutoff_date = df_ultimo_vento['date'].quantile(0.7)\n",
        "print(f'Fecha de corte (80/20): {cutoff_date}')\n",
        "train_ultimo_vento = df_ultimo_vento[df_ultimo_vento['date'] < cutoff_date].copy()\n",
        "test_ultimo_vento = df_ultimo_vento[df_ultimo_vento['date'] >= cutoff_date].copy()\n",
        "\n",
        "resumen_dataset(train_ultimo_vento, \"train_ultimo_vento\")\n",
        "resumen_dataset(test_ultimo_vento, \"test_ultimo_vento\")\n"
      ]
    },
    {
      "cell_type": "code",
      "execution_count": 28,
      "metadata": {},
      "outputs": [],
      "source": [
        "train_eventos.to_csv('../data/train_dataset_eventos.csv', index=False)\n",
        "test_eventos.to_csv('../data/test_dataset_eventos.csv', index=False)\n",
        "train_ultimo_vento.to_csv('../data/train_dataset_ultimo_vento.csv', index=False)\n",
        "test_ultimo_vento.to_csv('../data/test_dataset_ultimo_vento.csv', index=False)"
      ]
    },
    {
      "cell_type": "code",
      "execution_count": 29,
      "metadata": {},
      "outputs": [
        {
          "data": {
            "text/plain": [
              "\"# Preparar X, y (actualizacion usando extended_target)\\nexclude_cols = ['date', 'device', 'failure', 'target','last_date', 'last_date_device','first_date_device','extended_target']\\nfeature_cols = [col for col in df_clean.columns if col not in exclude_cols]\\n\\nX_train = train[feature_cols]\\ny_train = train['extended_target']\\nX_test = test[feature_cols]\\ny_test = test['target']\\n\\nprint(feature_cols)\\nprint(f'Features: {len(feature_cols)}')\\nprint(f'X_train: {X_train.shape}')\\nprint(f'y_train: {y_train.shape}, positivos: {y_train.sum()}')\\nprint(f'X_test: {X_test.shape}')\\nprint(f'y_test: {y_test.shape}, positivos: {y_test.sum()}')\""
            ]
          },
          "execution_count": 29,
          "metadata": {},
          "output_type": "execute_result"
        }
      ],
      "source": [
        "\"\"\"# Preparar X, y (actualizacion usando extended_target)\n",
        "exclude_cols = ['date', 'device', 'failure', 'target','last_date', 'last_date_device','first_date_device','extended_target']\n",
        "feature_cols = [col for col in df_clean.columns if col not in exclude_cols]\n",
        "\n",
        "X_train = train[feature_cols]\n",
        "y_train = train['extended_target']\n",
        "X_test = test[feature_cols]\n",
        "y_test = test['target']\n",
        "\n",
        "print(feature_cols)\n",
        "print(f'Features: {len(feature_cols)}')\n",
        "print(f'X_train: {X_train.shape}')\n",
        "print(f'y_train: {y_train.shape}, positivos: {y_train.sum()}')\n",
        "print(f'X_test: {X_test.shape}')\n",
        "print(f'y_test: {y_test.shape}, positivos: {y_test.sum()}')\"\"\""
      ]
    },
    {
      "cell_type": "markdown",
      "metadata": {},
      "source": [
        "## Feature Selection"
      ]
    },
    {
      "cell_type": "code",
      "execution_count": null,
      "metadata": {},
      "outputs": [],
      "source": [
        "train_eventos=pd.read_csv('../data/train_dataset_eventos.csv')\n",
        "test_eventos=pd.read_csv('../data/test_dataset_eventos.csv')\n",
        "train_ultimo_vento=pd.read_csv('../data/train_dataset_ultimo_vento.csv')\n",
        "test_ultimo_vento=pd.read_csv('../data/test_dataset_ultimo_vento.csv')"
      ]
    },
    {
      "cell_type": "code",
      "execution_count": null,
      "metadata": {},
      "outputs": [],
      "source": [
        "exclude_cols = ['date', 'device', 'failure', 'target','last_date', 'last_date_device',\n",
        "'first_date_device','extended_target','days_since_last_failure','is_last_date_device','days_from_last','is_day_0','days_from_last_device']\n",
        "feature_cols = [col for col in df_clean.columns if col not in exclude_cols]\n",
        "#feature_cols"
      ]
    },
    {
      "cell_type": "code",
      "execution_count": null,
      "metadata": {},
      "outputs": [
        {
          "name": "stdout",
          "output_type": "stream",
          "text": [
            "total de features target (ultimo evento): 73 \n",
            "Features seleccionadas (IV > 0.02): ['attribute6_roll_14_std', 'attribute5_lag_5', 'attribute6_lag_5', 'attribute1_lag_5', 'attribute1_w4_7d_std', 'attribute7_diff_7', 'attribute5_w8_14d_mean', 'attribute5_lag_7', 'attribute1_w8_14d_mean', 'attribute2_diff_7', 'attribute1_w8_14d_std', 'attribute7_roll_2_std', 'attribute7_diff_1', 'attribute5_w8_14d_std', 'attribute7_w1_2d_std', 'attribute7_lag_5', 'attribute6_lag_7', 'attribute6_w8_14d_mean', 'attribute1_diff_7', 'attribute7_w4_7d_std', 'attribute5_roll_5_std', 'attribute7_w8_14d_std', 'attribute4_w3_4d_std', 'attribute1_lag_7', 'attribute7_lag_7', 'attribute4_roll_2_mean', 'attribute4', 'attribute4_roll_1_mean', 'attribute6_diff_7', 'attribute1_w3_4d_std', 'attribute6_w4_7d_std', 'attribute2_roll_3_mean', 'attribute2', 'attribute2_roll_1_mean', 'attribute2_roll_2_mean', 'attribute5_roll_3_std', 'attribute5_w4_7d_mean', 'attribute5_roll_7_mean', 'attribute5_roll_14_mean', 'attribute4_roll_5_mean', 'attribute2_roll_5_mean', 'attribute2_lag_1', 'attribute2_roll_7_mean', 'attribute4_roll_3_mean', 'attribute6_w3_4d_std', 'attribute4_lag_1', 'attribute4_roll_7_mean', 'attribute2_roll_14_mean', 'attribute2_w1_2d_mean', 'attribute5_roll_2_mean', 'attribute5_roll_3_mean', 'attribute5', 'attribute5_roll_1_mean', 'attribute5_roll_5_mean', 'attribute4_w8_14d_std', 'attribute6_diff_1', 'attribute6_roll_2_std', 'attribute5_lag_1', 'attribute2_lag_2', 'attribute5_w1_2d_mean', 'attribute9_roll_3_std', 'attribute1_roll_14_std', 'attribute5_lag_3', 'attribute5_w3_4d_mean', 'attribute1_w4_7d_mean', 'attribute2_lag_3', 'attribute2_w3_4d_mean', 'attribute6_w8_14d_std', 'attribute4_w1_2d_mean', 'attribute5_lag_2', 'attribute6_roll_5_std', 'attribute6_w4_7d_mean', 'attribute5_w1_2d_std']\n",
            "total de features extended_target (eventos): 74 \n",
            "Features seleccionadas (IV > 0.02): ['attribute6_w4_7d_mean', 'attribute7_diff_7', 'attribute5_w4_7d_mean', 'attribute5_lag_2', 'attribute4', 'attribute4_roll_1_mean', 'attribute5_w3_4d_mean', 'attribute5_lag_3', 'attribute7_lag_5', 'attribute6_roll_14_std', 'attribute1_w3_4d_std', 'attribute2_diff_7', 'attribute4_roll_2_mean', 'attribute5_w8_14d_mean', 'attribute2_roll_3_mean', 'attribute2_roll_2_mean', 'attribute2', 'attribute2_roll_1_mean', 'attribute2_roll_7_mean', 'attribute2_roll_5_mean', 'attribute5_lag_7', 'attribute4_lag_1', 'attribute4_roll_3_mean', 'attribute6_lag_5', 'attribute6_w8_14d_mean', 'attribute4_roll_5_mean', 'attribute2_roll_14_mean', 'attribute5_lag_5', 'attribute5_w1_2d_mean', 'attribute5_lag_1', 'attribute2_lag_1', 'attribute2_w1_2d_mean', 'attribute2_lag_2', 'attribute4_w1_2d_mean', 'attribute7_lag_7', 'attribute4_roll_7_mean', 'attribute4_lag_2', 'attribute6_lag_7', 'attribute1_w4_7d_mean', 'attribute1_w8_14d_mean', 'attribute5_roll_2_mean', 'attribute5_roll_3_mean', 'attribute5_roll_5_mean', 'attribute5_roll_7_mean', 'attribute5', 'attribute5_roll_1_mean', 'attribute6_w3_4d_mean', 'attribute6_lag_3', 'attribute5_roll_14_mean', 'attribute6_lag_2', 'attribute1_diff_7', 'attribute4_roll_14_mean', 'attribute2_diff_1', 'attribute4_w4_7d_mean', 'attribute4_w3_4d_mean', 'attribute4_lag_3', 'attribute6_w8_14d_std', 'attribute6_diff_7', 'attribute1_w4_7d_std', 'attribute6_roll_7_mean', 'attribute7_w1_2d_std', 'attribute6_roll_2_mean', 'attribute1_roll_14_std', 'attribute6_roll_14_mean', 'attribute6_roll_5_mean', 'attribute6_roll_3_mean', 'attribute1_lag_2', 'attribute1_w8_14d_std', 'attribute1_lag_7', 'attribute1_lag_5', 'attribute6_roll_1_mean', 'attribute6', 'attribute7_diff_1', 'attribute1_w1_2d_std']\n"
          ]
        }
      ],
      "source": [
        "# Feature selection usando Information Value (IV)\n",
        "\n",
        "def calcula_iv(X, y, bins=10):\n",
        "\n",
        "    iv_dict = {}\n",
        "    eps = 1e-6  # para evitar división por cero\n",
        "\n",
        "    for col in X.columns:\n",
        "        if X[col].nunique() <= 1:\n",
        "            iv_dict[col] = 0\n",
        "            continue\n",
        "\n",
        "        if np.issubdtype(X[col].dtype, np.number) and X[col].nunique() > bins:\n",
        "            X_binned = pd.qcut(X[col], q=bins, duplicates='drop')\n",
        "        else:\n",
        "            X_binned = X[col]\n",
        "\n",
        "        temp = pd.DataFrame({'bin': X_binned, 'extended_target': y})\n",
        "        stats = temp.groupby('bin')['extended_target'].agg(['count', 'sum'])\n",
        "        stats['non_event'] = stats['count'] - stats['sum']\n",
        "\n",
        "        event_total = stats['sum'].sum()\n",
        "        non_event_total = stats['non_event'].sum()\n",
        "\n",
        "        stats['event_rate'] = stats['sum'] / (event_total + eps)\n",
        "        stats['non_event_rate'] = stats['non_event'] / (non_event_total + eps)\n",
        "        woe = np.log((stats['event_rate'] + eps) / (stats['non_event_rate'] + eps))\n",
        "        iv = ((stats['event_rate'] - stats['non_event_rate']) * woe).sum()\n",
        "        iv_dict[col] = iv\n",
        "\n",
        "    iv_series = pd.Series(iv_dict).sort_values(ascending=False)\n",
        "    return iv_series\n",
        "\n",
        "iv_series = calcula_iv(train_ultimo_vento[feature_cols], train_ultimo_vento['target'])\n",
        "selected_features_target = iv_series[iv_series > 0.4].index.tolist()\n",
        "\n",
        "iv_series = calcula_iv(train_eventos[feature_cols], train_eventos['extended_target'])\n",
        "selected_features_extended_target = iv_series[iv_series > 0.2].index.tolist()\n",
        "\n",
        "print(\"total de features target (ultimo evento):\",len(selected_features_target),f'\\nFeatures seleccionadas (IV > 0.02): {selected_features_target}')\n",
        "print(\"total de features extended_target (eventos):\",len(selected_features_extended_target),f'\\nFeatures seleccionadas (IV > 0.02): {selected_features_extended_target}')\n"
      ]
    },
    {
      "cell_type": "code",
      "execution_count": null,
      "metadata": {},
      "outputs": [
        {
          "data": {
            "text/plain": [
              "0.6033"
            ]
          },
          "execution_count": 988,
          "metadata": {},
          "output_type": "execute_result"
        }
      ],
      "source": [
        "#iv_series['days_since_last_failure'].round(4)\n",
        "iv_series['attribute7_diff_7'].round(4)"
      ]
    },
    {
      "cell_type": "markdown",
      "metadata": {},
      "source": [
        "## Modelado Base: XGBoost\n",
        "\n",
        "**Métrica AUC PR:** ajuste entre positivos y negativos"
      ]
    },
    {
      "cell_type": "code",
      "execution_count": null,
      "metadata": {},
      "outputs": [],
      "source": [
        "#pip install xgboost"
      ]
    },
    {
      "cell_type": "markdown",
      "metadata": {},
      "source": [
        "#### Historial eventos, con con busqueda de hiperparametros con optuna"
      ]
    },
    {
      "cell_type": "code",
      "execution_count": null,
      "metadata": {},
      "outputs": [
        {
          "name": "stdout",
          "output_type": "stream",
          "text": [
            "fallas antes de samplear extended_target\n",
            "0    0.959431\n",
            "1    0.040569\n",
            "Name: proportion, dtype: float64\n",
            "fallas despues de samplear extended_target\n",
            "0    0.909091\n",
            "1    0.090909\n",
            "Name: proportion, dtype: float64\n"
          ]
        }
      ],
      "source": [
        "from sklearn.utils import resample\n",
        "\n",
        "# Actualizar conjuntos de entrenamiento y prueba (subsampleamos train para un 90:10)\n",
        "\n",
        "print(\"fallas antes de samplear\",train_eventos.extended_target.value_counts(normalize=True))\n",
        "\n",
        "train_eventos_pos = train_eventos[train_eventos['extended_target'] == 1]\n",
        "train_eventos_neg = train_eventos[train_eventos['extended_target'] == 0]\n",
        "\n",
        "n_pos = len(train_eventos_pos)\n",
        "n_neg = int(n_pos * 10)\n",
        "\n",
        "train_eventos_neg_sample = resample(\n",
        "    train_eventos_neg, replace=False,  n_samples=n_neg, random_state=42\n",
        ")\n",
        "\n",
        "train_eventos_sample = pd.concat([train_eventos_pos, train_eventos_neg_sample])\n",
        "train_eventos_sample = train_eventos_sample.sample(frac=1, random_state=42).reset_index(drop=True)\n",
        "\n",
        "print(\"fallas despues de samplear\",train_eventos_sample.extended_target.value_counts(normalize=True))\n",
        "\n",
        "\n",
        "X_train = train_eventos_sample[selected_features_extended_target]\n",
        "X_test = test_eventos[selected_features_extended_target]\n",
        "\n",
        "y_train = train_eventos_sample['extended_target']\n",
        "y_test = test_eventos['extended_target']"
      ]
    },
    {
      "cell_type": "code",
      "execution_count": null,
      "metadata": {},
      "outputs": [
        {
          "name": "stderr",
          "output_type": "stream",
          "text": [
            "[I 2025-10-19 08:18:53,210] A new study created in memory with name: xgb_aucpr\n"
          ]
        },
        {
          "name": "stderr",
          "output_type": "stream",
          "text": [
            "[I 2025-10-19 08:18:54,469] Trial 0 finished with value: 0.7772111805275892 and parameters: {'max_depth': 10, 'learning_rate': 0.052430678993660364, 'n_estimators': 274, 'subsample': 0.9082992935962827, 'colsample_bytree': 0.9734542073998167, 'gamma': 0.09280403611801974, 'reg_alpha': 0.0016957951595109517, 'reg_lambda': 0.05017352413249547}. Best is trial 0 with value: 0.7772111805275892.\n",
            "[I 2025-10-19 08:18:55,902] Trial 1 finished with value: 0.7416204467607538 and parameters: {'max_depth': 12, 'learning_rate': 0.059348327296345905, 'n_estimators': 324, 'subsample': 0.9823874523411952, 'colsample_bytree': 0.8290562439073916, 'gamma': 0.0011477806644794167, 'reg_alpha': 0.008792412066786007, 'reg_lambda': 4.698402578699287}. Best is trial 0 with value: 0.7772111805275892.\n",
            "[I 2025-10-19 08:18:57,119] Trial 2 finished with value: 0.5593738414843638 and parameters: {'max_depth': 5, 'learning_rate': 0.003886287431324707, 'n_estimators': 335, 'subsample': 0.743067597716483, 'colsample_bytree': 0.9542051567140881, 'gamma': 0.0001139454031085697, 'reg_alpha': 0.055245940413123695, 'reg_lambda': 0.001877161158142911}. Best is trial 0 with value: 0.7772111805275892.\n",
            "[I 2025-10-19 08:18:58,835] Trial 3 finished with value: 0.6873646786941432 and parameters: {'max_depth': 11, 'learning_rate': 0.00016727854949180566, 'n_estimators': 247, 'subsample': 0.8291215156312598, 'colsample_bytree': 0.9337768438798505, 'gamma': 8.820763184470311e-07, 'reg_alpha': 0.00010302855664071805, 'reg_lambda': 0.0002716179899921024}. Best is trial 0 with value: 0.7772111805275892.\n",
            "[I 2025-10-19 08:19:00,298] Trial 4 finished with value: 0.675928007205904 and parameters: {'max_depth': 11, 'learning_rate': 0.0011835483577130944, 'n_estimators': 215, 'subsample': 0.8373335541783801, 'colsample_bytree': 0.8881295712272859, 'gamma': 0.00039569746492396145, 'reg_alpha': 0.2165963158871769, 'reg_lambda': 0.7070131274674002}. Best is trial 0 with value: 0.7772111805275892.\n",
            "[I 2025-10-19 08:19:01,593] Trial 5 finished with value: 0.6417145441229973 and parameters: {'max_depth': 9, 'learning_rate': 0.0003611163599084498, 'n_estimators': 294, 'subsample': 0.9115612504889492, 'colsample_bytree': 0.9204022169621383, 'gamma': 0.01003904828560676, 'reg_alpha': 0.5600205684112161, 'reg_lambda': 0.0003117443131537525}. Best is trial 0 with value: 0.7772111805275892.\n",
            "[I 2025-10-19 08:19:03,469] Trial 6 finished with value: 0.7336514162450264 and parameters: {'max_depth': 11, 'learning_rate': 0.04016406067576623, 'n_estimators': 494, 'subsample': 0.7821451314439544, 'colsample_bytree': 0.7006428332418808, 'gamma': 5.975743994101283e-08, 'reg_alpha': 1.8935516901775378, 'reg_lambda': 0.0007320915192763865}. Best is trial 0 with value: 0.7772111805275892.\n",
            "[I 2025-10-19 08:19:03,919] Trial 7 finished with value: 0.4087941095061489 and parameters: {'max_depth': 3, 'learning_rate': 0.0008189747694485435, 'n_estimators': 292, 'subsample': 0.7922314825128881, 'colsample_bytree': 0.973190290778805, 'gamma': 0.0016057140248138682, 'reg_alpha': 0.37649446248034113, 'reg_lambda': 0.0016280335267705888}. Best is trial 0 with value: 0.7772111805275892.\n",
            "[I 2025-10-19 08:19:05,674] Trial 8 finished with value: 0.7162016742883249 and parameters: {'max_depth': 11, 'learning_rate': 0.0001310208287448569, 'n_estimators': 312, 'subsample': 0.9377177036094654, 'colsample_bytree': 0.8241890138971542, 'gamma': 1.3615644458323782e-08, 'reg_alpha': 1.2591832064357122e-05, 'reg_lambda': 0.001254124909851427}. Best is trial 0 with value: 0.7772111805275892.\n",
            "[I 2025-10-19 08:19:06,523] Trial 9 finished with value: 0.7122551970565831 and parameters: {'max_depth': 6, 'learning_rate': 0.014567532254469643, 'n_estimators': 284, 'subsample': 0.9366839656858958, 'colsample_bytree': 0.8184890043560005, 'gamma': 0.00665395134115649, 'reg_alpha': 2.2522306177329946e-07, 'reg_lambda': 1.7809732838604814e-05}. Best is trial 0 with value: 0.7772111805275892.\n",
            "[I 2025-10-19 08:19:07,088] Trial 10 finished with value: 0.6740323962410325 and parameters: {'max_depth': 8, 'learning_rate': 0.008878507534611037, 'n_estimators': 131, 'subsample': 0.8897345696334449, 'colsample_bytree': 0.9967291045777328, 'gamma': 0.6581410447144282, 'reg_alpha': 0.0010075366053275186, 'reg_lambda': 3.499645871154532e-07}. Best is trial 0 with value: 0.7772111805275892.\n",
            "[I 2025-10-19 08:19:07,810] Trial 11 finished with value: 0.7560960269339084 and parameters: {'max_depth': 12, 'learning_rate': 0.08641087622445295, 'n_estimators': 401, 'subsample': 0.9953313276349394, 'colsample_bytree': 0.762962341280403, 'gamma': 0.5243115442458469, 'reg_alpha': 0.008005023379501588, 'reg_lambda': 4.179552216069063}. Best is trial 0 with value: 0.7772111805275892.\n",
            "[I 2025-10-19 08:19:08,471] Trial 12 finished with value: 0.7661946562481141 and parameters: {'max_depth': 9, 'learning_rate': 0.06689071007648974, 'n_estimators': 423, 'subsample': 0.9819740953955117, 'colsample_bytree': 0.7480726441377907, 'gamma': 0.8922208238654145, 'reg_alpha': 0.0011643936419668856, 'reg_lambda': 0.18938239180201677}. Best is trial 0 with value: 0.7772111805275892.\n",
            "[I 2025-10-19 08:19:10,083] Trial 13 finished with value: 0.775283316010294 and parameters: {'max_depth': 9, 'learning_rate': 0.021474750253757443, 'n_estimators': 422, 'subsample': 0.8894898494049043, 'colsample_bytree': 0.7596914015732907, 'gamma': 0.06272825195749665, 'reg_alpha': 1.3418077533549092e-06, 'reg_lambda': 0.05681094303133213}. Best is trial 0 with value: 0.7772111805275892.\n",
            "[I 2025-10-19 08:19:11,707] Trial 14 finished with value: 0.7726358215412321 and parameters: {'max_depth': 9, 'learning_rate': 0.01649511445687769, 'n_estimators': 398, 'subsample': 0.8522912258212451, 'colsample_bytree': 0.877964801337147, 'gamma': 0.0577786861093584, 'reg_alpha': 3.9746386085258824e-08, 'reg_lambda': 0.06626485478766336}. Best is trial 0 with value: 0.7772111805275892.\n",
            "[I 2025-10-19 08:19:12,333] Trial 15 finished with value: 0.7119803316159992 and parameters: {'max_depth': 7, 'learning_rate': 0.025533461231682736, 'n_estimators': 191, 'subsample': 0.8697268809071996, 'colsample_bytree': 0.7680410019696591, 'gamma': 1.7633460852504272e-05, 'reg_alpha': 2.2383359661465516e-06, 'reg_lambda': 0.02187536973370116}. Best is trial 0 with value: 0.7772111805275892.\n",
            "[I 2025-10-19 08:19:14,227] Trial 16 finished with value: 0.7413668521236296 and parameters: {'max_depth': 8, 'learning_rate': 0.005510219898319904, 'n_estimators': 479, 'subsample': 0.9286973500812038, 'colsample_bytree': 0.7085322245525913, 'gamma': 0.06163583933046223, 'reg_alpha': 2.683323070881403e-05, 'reg_lambda': 0.015546571925347634}. Best is trial 0 with value: 0.7772111805275892.\n",
            "[I 2025-10-19 08:19:15,973] Trial 17 finished with value: 0.8029084827583176 and parameters: {'max_depth': 10, 'learning_rate': 0.027745816713898846, 'n_estimators': 377, 'subsample': 0.8824698130887566, 'colsample_bytree': 0.7869923236661704, 'gamma': 1.3471642348257076e-05, 'reg_alpha': 1.0649212529305546e-06, 'reg_lambda': 1.8155856048269795e-08}. Best is trial 17 with value: 0.8029084827583176.\n",
            "[I 2025-10-19 08:19:18,372] Trial 18 finished with value: 0.7202910887973809 and parameters: {'max_depth': 10, 'learning_rate': 0.0025005668915386707, 'n_estimators': 374, 'subsample': 0.7992683617690561, 'colsample_bytree': 0.8019007728706586, 'gamma': 7.445846018164983e-06, 'reg_alpha': 1.241821616575348e-08, 'reg_lambda': 1.0089232383868257e-08}. Best is trial 17 with value: 0.8029084827583176.\n",
            "[I 2025-10-19 08:19:19,001] Trial 19 finished with value: 0.7455403776728411 and parameters: {'max_depth': 10, 'learning_rate': 0.03576023590243275, 'n_estimators': 108, 'subsample': 0.7068536546507589, 'colsample_bytree': 0.8575739544317361, 'gamma': 7.168075536381347e-07, 'reg_alpha': 0.00011634765090151378, 'reg_lambda': 1.7963464270877487e-05}. Best is trial 17 with value: 0.8029084827583176.\n",
            "[I 2025-10-19 08:19:20,220] Trial 20 finished with value: 0.5774492035680625 and parameters: {'max_depth': 7, 'learning_rate': 0.009601491259401781, 'n_estimators': 364, 'subsample': 0.9602178904558946, 'colsample_bytree': 0.8982853518458893, 'gamma': 1.2973732239616381e-05, 'reg_alpha': 9.706924512016071, 'reg_lambda': 1.67793064218818e-07}. Best is trial 17 with value: 0.8029084827583176.\n",
            "[I 2025-10-19 08:19:22,588] Trial 21 finished with value: 0.7909622651398631 and parameters: {'max_depth': 10, 'learning_rate': 0.023048419398902596, 'n_estimators': 459, 'subsample': 0.8973796787453164, 'colsample_bytree': 0.7394708549376483, 'gamma': 0.05366761295497927, 'reg_alpha': 3.33239260548849e-07, 'reg_lambda': 2.0682193179792807e-05}. Best is trial 17 with value: 0.8029084827583176.\n",
            "[I 2025-10-19 08:19:24,091] Trial 22 finished with value: 0.7894956827427074 and parameters: {'max_depth': 10, 'learning_rate': 0.09592003478335742, 'n_estimators': 461, 'subsample': 0.9025917533016968, 'colsample_bytree': 0.7932336749331685, 'gamma': 0.01397348769962312, 'reg_alpha': 2.454685353115654e-07, 'reg_lambda': 1.0693442360995105e-05}. Best is trial 17 with value: 0.8029084827583176.\n",
            "[I 2025-10-19 08:19:25,427] Trial 23 finished with value: 0.7729424282647466 and parameters: {'max_depth': 10, 'learning_rate': 0.09041939066905913, 'n_estimators': 464, 'subsample': 0.8648471646601983, 'colsample_bytree': 0.7863359330523606, 'gamma': 0.008443555853475825, 'reg_alpha': 2.1835958022965217e-07, 'reg_lambda': 7.506438272114922e-06}. Best is trial 17 with value: 0.8029084827583176.\n",
            "[I 2025-10-19 08:19:27,522] Trial 24 finished with value: 0.7858247208910638 and parameters: {'max_depth': 12, 'learning_rate': 0.033077313638378736, 'n_estimators': 449, 'subsample': 0.8856361871585701, 'colsample_bytree': 0.7272732925643732, 'gamma': 9.814353951764597e-05, 'reg_alpha': 1.6611895416513918e-06, 'reg_lambda': 1.4415336554725579e-06}. Best is trial 17 with value: 0.8029084827583176.\n",
            "[I 2025-10-19 08:19:29,475] Trial 25 finished with value: 0.7350623695904487 and parameters: {'max_depth': 8, 'learning_rate': 0.00778200446410824, 'n_estimators': 440, 'subsample': 0.9548041414574788, 'colsample_bytree': 0.7952537113155318, 'gamma': 1.3691913806595988e-06, 'reg_alpha': 1.6996297427177058e-07, 'reg_lambda': 2.8832634414378642e-08}. Best is trial 17 with value: 0.8029084827583176.\n",
            "[I 2025-10-19 08:19:30,577] Trial 26 finished with value: 0.7591847033168515 and parameters: {'max_depth': 10, 'learning_rate': 0.09625370465649227, 'n_estimators': 356, 'subsample': 0.9109838965608965, 'colsample_bytree': 0.7317093354414663, 'gamma': 0.00013897513291502903, 'reg_alpha': 6.939151927416769e-06, 'reg_lambda': 6.427082108571756e-05}. Best is trial 17 with value: 0.8029084827583176.\n",
            "[I 2025-10-19 08:19:31,775] Trial 27 finished with value: 0.7024798019652926 and parameters: {'max_depth': 5, 'learning_rate': 0.013492432078767599, 'n_estimators': 489, 'subsample': 0.8250539668561485, 'colsample_bytree': 0.7848999682401931, 'gamma': 0.0023588668294703624, 'reg_alpha': 6.051234441658654e-08, 'reg_lambda': 1.8400434307299058e-06}. Best is trial 17 with value: 0.8029084827583176.\n",
            "[I 2025-10-19 08:19:34,197] Trial 28 finished with value: 0.7099772240181857 and parameters: {'max_depth': 9, 'learning_rate': 0.0019071065491413739, 'n_estimators': 401, 'subsample': 0.8761619131019517, 'colsample_bytree': 0.8498527880115199, 'gamma': 0.016046248214062538, 'reg_alpha': 4.4641796780916537e-07, 'reg_lambda': 1.0748269935579193e-07}. Best is trial 17 with value: 0.8029084827583176.\n",
            "[I 2025-10-19 08:19:35,834] Trial 29 finished with value: 0.789974706257799 and parameters: {'max_depth': 11, 'learning_rate': 0.05061394056168817, 'n_estimators': 452, 'subsample': 0.9030017289984087, 'colsample_bytree': 0.735837536660762, 'gamma': 0.26136711130096496, 'reg_alpha': 2.9415413976876942e-08, 'reg_lambda': 0.00012844027925235302}. Best is trial 17 with value: 0.8029084827583176.\n",
            "[I 2025-10-19 08:19:37,354] Trial 30 finished with value: 0.7756631691719703 and parameters: {'max_depth': 11, 'learning_rate': 0.04789226002777723, 'n_estimators': 428, 'subsample': 0.8512485004122727, 'colsample_bytree': 0.7304572834764014, 'gamma': 0.10907064215603339, 'reg_alpha': 1.510341558103475e-08, 'reg_lambda': 8.343330738920254e-05}. Best is trial 17 with value: 0.8029084827583176.\n",
            "[I 2025-10-19 08:19:40,043] Trial 31 finished with value: 0.7817822532528521 and parameters: {'max_depth': 10, 'learning_rate': 0.025579143642114055, 'n_estimators': 465, 'subsample': 0.9025829359587404, 'colsample_bytree': 0.7475995812766004, 'gamma': 0.2011806765302189, 'reg_alpha': 5.837835880108487e-08, 'reg_lambda': 1.4632930386058723e-06}. Best is trial 17 with value: 0.8029084827583176.\n",
            "[I 2025-10-19 08:19:42,239] Trial 32 finished with value: 0.7723251905783269 and parameters: {'max_depth': 12, 'learning_rate': 0.05344168935825201, 'n_estimators': 454, 'subsample': 0.9190632591103542, 'colsample_bytree': 0.7745864705304547, 'gamma': 0.0251330251017035, 'reg_alpha': 6.142098847871336e-07, 'reg_lambda': 7.4493340701770884e-06}. Best is trial 17 with value: 0.8029084827583176.\n",
            "[I 2025-10-19 08:19:43,298] Trial 33 finished with value: 0.7812137025564645 and parameters: {'max_depth': 11, 'learning_rate': 0.060598822133103886, 'n_estimators': 500, 'subsample': 0.9533324403782707, 'colsample_bytree': 0.8055776466569957, 'gamma': 0.22611001099372321, 'reg_alpha': 5.263360557970682e-06, 'reg_lambda': 0.005827740850952145}. Best is trial 17 with value: 0.8029084827583176.\n",
            "[I 2025-10-19 08:19:45,143] Trial 34 finished with value: 0.7835201415617097 and parameters: {'max_depth': 12, 'learning_rate': 0.02024961800476371, 'n_estimators': 337, 'subsample': 0.897715885033128, 'colsample_bytree': 0.7213858000775032, 'gamma': 0.000360546659662187, 'reg_alpha': 5.919102772317223e-08, 'reg_lambda': 0.00010798916727063513}. Best is trial 17 with value: 0.8029084827583176.\n",
            "[I 2025-10-19 08:19:46,791] Trial 35 finished with value: 0.7762743393061912 and parameters: {'max_depth': 10, 'learning_rate': 0.03533901234804764, 'n_estimators': 404, 'subsample': 0.8668265557525289, 'colsample_bytree': 0.7455973976464201, 'gamma': 3.7775093284558157e-06, 'reg_alpha': 3.0963546602079274e-05, 'reg_lambda': 2.9025007040232703e-05}. Best is trial 17 with value: 0.8029084827583176.\n",
            "[I 2025-10-19 08:19:48,605] Trial 36 finished with value: 0.7439665452043499 and parameters: {'max_depth': 11, 'learning_rate': 0.005677793732580875, 'n_estimators': 256, 'subsample': 0.8263888850568294, 'colsample_bytree': 0.837769323792138, 'gamma': 0.0034132146971018328, 'reg_alpha': 1.057308354859225e-08, 'reg_lambda': 3.849184191558274e-06}. Best is trial 17 with value: 0.8029084827583176.\n",
            "[I 2025-10-19 08:19:50,137] Trial 37 finished with value: 0.7741146498435388 and parameters: {'max_depth': 9, 'learning_rate': 0.06228362864031987, 'n_estimators': 381, 'subsample': 0.9236377045102182, 'colsample_bytree': 0.7127120250312717, 'gamma': 4.9478396378409794e-05, 'reg_alpha': 7.918883313856496e-07, 'reg_lambda': 0.00025483837131750784}. Best is trial 17 with value: 0.8029084827583176.\n",
            "[I 2025-10-19 08:19:52,088] Trial 38 finished with value: 0.7818862846027193 and parameters: {'max_depth': 11, 'learning_rate': 0.028514272947203972, 'n_estimators': 470, 'subsample': 0.8450355719291887, 'colsample_bytree': 0.8103840741702805, 'gamma': 0.0007081984094933449, 'reg_alpha': 1.3695013180251797e-07, 'reg_lambda': 0.004552485588558079}. Best is trial 17 with value: 0.8029084827583176.\n",
            "[I 2025-10-19 08:19:52,618] Trial 39 finished with value: 0.6466370309382894 and parameters: {'max_depth': 3, 'learning_rate': 0.042715609943820766, 'n_estimators': 341, 'subsample': 0.9067100515193802, 'colsample_bytree': 0.7758724046674818, 'gamma': 2.181638596400387e-07, 'reg_alpha': 2.5538874939115172e-06, 'reg_lambda': 3.3426802126720523e-07}. Best is trial 17 with value: 0.8029084827583176.\n",
            "[I 2025-10-19 08:19:54,846] Trial 40 finished with value: 0.7214272455863155 and parameters: {'max_depth': 10, 'learning_rate': 0.0005719976355141366, 'n_estimators': 446, 'subsample': 0.9463205357118831, 'colsample_bytree': 0.7473767950149888, 'gamma': 0.027990307940605492, 'reg_alpha': 4.421015124896372e-07, 'reg_lambda': 3.533804540142975e-08}. Best is trial 17 with value: 0.8029084827583176.\n",
            "[I 2025-10-19 08:19:56,801] Trial 41 finished with value: 0.7899380416890032 and parameters: {'max_depth': 12, 'learning_rate': 0.032066368796122104, 'n_estimators': 442, 'subsample': 0.885929393821516, 'colsample_bytree': 0.728007088984127, 'gamma': 0.00011228438890357812, 'reg_alpha': 3.269724586533377e-06, 'reg_lambda': 9.603230905255518e-07}. Best is trial 17 with value: 0.8029084827583176.\n",
            "[I 2025-10-19 08:19:58,976] Trial 42 finished with value: 0.7834929069352309 and parameters: {'max_depth': 12, 'learning_rate': 0.013176440497785812, 'n_estimators': 431, 'subsample': 0.882980555947519, 'colsample_bytree': 0.7017406060889659, 'gamma': 0.26853464246498077, 'reg_alpha': 2.761914417794735e-08, 'reg_lambda': 5.378252784753438e-07}. Best is trial 17 with value: 0.8029084827583176.\n",
            "[I 2025-10-19 08:20:00,863] Trial 43 finished with value: 0.7799448268162624 and parameters: {'max_depth': 11, 'learning_rate': 0.07541135926577922, 'n_estimators': 485, 'subsample': 0.9053445209201286, 'colsample_bytree': 0.7376513036057379, 'gamma': 0.00036342763683133375, 'reg_alpha': 0.00014263599905353123, 'reg_lambda': 0.0005282813552000586}. Best is trial 17 with value: 0.8029084827583176.\n",
            "[I 2025-10-19 08:20:02,458] Trial 44 finished with value: 0.781291497226445 and parameters: {'max_depth': 12, 'learning_rate': 0.04955099152612939, 'n_estimators': 415, 'subsample': 0.8596717993897601, 'colsample_bytree': 0.7560422167544031, 'gamma': 4.479011393867198e-05, 'reg_alpha': 2.3541545426889787e-05, 'reg_lambda': 3.719678555351949e-05}. Best is trial 17 with value: 0.8029084827583176.\n",
            "[I 2025-10-19 08:20:04,534] Trial 45 finished with value: 0.7219270454189707 and parameters: {'max_depth': 11, 'learning_rate': 0.00026903069583640034, 'n_estimators': 384, 'subsample': 0.808530536289047, 'colsample_bytree': 0.7178904976574915, 'gamma': 0.0038522830274276792, 'reg_alpha': 4.803153204283579e-06, 'reg_lambda': 7.236347575680407e-06}. Best is trial 17 with value: 0.8029084827583176.\n",
            "[I 2025-10-19 08:20:06,470] Trial 46 finished with value: 0.7848348733975304 and parameters: {'max_depth': 12, 'learning_rate': 0.019941981253567567, 'n_estimators': 313, 'subsample': 0.9703387262479609, 'colsample_bytree': 0.7861170152104822, 'gamma': 3.746295506898465e-06, 'reg_alpha': 1.1756444281767878e-07, 'reg_lambda': 5.6470802145003285e-08}. Best is trial 17 with value: 0.8029084827583176.\n",
            "[I 2025-10-19 08:20:07,423] Trial 47 finished with value: 0.7815756224517071 and parameters: {'max_depth': 11, 'learning_rate': 0.07287403603903737, 'n_estimators': 461, 'subsample': 0.9325182344192113, 'colsample_bytree': 0.8285801919767608, 'gamma': 0.1235361737302739, 'reg_alpha': 0.03632816101442665, 'reg_lambda': 1.0883045746284043e-08}. Best is trial 17 with value: 0.8029084827583176.\n",
            "[I 2025-10-19 08:20:08,258] Trial 48 finished with value: 0.6135870785925402 and parameters: {'max_depth': 4, 'learning_rate': 0.012173072985572206, 'n_estimators': 441, 'subsample': 0.7732681853900484, 'colsample_bytree': 0.7580098245037012, 'gamma': 0.4226559421223913, 'reg_alpha': 3.559164625796259e-07, 'reg_lambda': 0.00015316339099946154}. Best is trial 17 with value: 0.8029084827583176.\n",
            "[I 2025-10-19 08:20:09,876] Trial 49 finished with value: 0.7828521529919555 and parameters: {'max_depth': 9, 'learning_rate': 0.04076220518542546, 'n_estimators': 478, 'subsample': 0.8965448330769545, 'colsample_bytree': 0.7348244384518058, 'gamma': 0.0011673309613407304, 'reg_alpha': 1.2904990536429173e-06, 'reg_lambda': 6.993818949653817e-07}. Best is trial 17 with value: 0.8029084827583176.\n",
            "[I 2025-10-19 08:20:11,656] Trial 50 finished with value: 0.7893052079974909 and parameters: {'max_depth': 10, 'learning_rate': 0.01838403346943651, 'n_estimators': 414, 'subsample': 0.8763311589930731, 'colsample_bytree': 0.7714323928791004, 'gamma': 0.017486667774956322, 'reg_alpha': 0.0004104868814286648, 'reg_lambda': 4.113618073657997e-06}. Best is trial 17 with value: 0.8029084827583176.\n",
            "[I 2025-10-19 08:20:13,414] Trial 51 finished with value: 0.7841480779714549 and parameters: {'max_depth': 10, 'learning_rate': 0.019047685535295934, 'n_estimators': 413, 'subsample': 0.8791529385035508, 'colsample_bytree': 0.7725130922199686, 'gamma': 0.03513039968360992, 'reg_alpha': 0.00034483226731933035, 'reg_lambda': 1.3561073151988928e-05}. Best is trial 17 with value: 0.8029084827583176.\n",
            "[I 2025-10-19 08:20:15,008] Trial 52 finished with value: 0.7913573720092881 and parameters: {'max_depth': 10, 'learning_rate': 0.026894926690249697, 'n_estimators': 386, 'subsample': 0.9184474952156306, 'colsample_bytree': 0.7927098806467091, 'gamma': 0.012097723692257673, 'reg_alpha': 0.004773451017626043, 'reg_lambda': 2.1963722364093277e-06}. Best is trial 17 with value: 0.8029084827583176.\n",
            "[I 2025-10-19 08:20:16,604] Trial 53 finished with value: 0.8017501839295899 and parameters: {'max_depth': 9, 'learning_rate': 0.028848242511741184, 'n_estimators': 385, 'subsample': 0.9203990196953247, 'colsample_bytree': 0.8167741192990525, 'gamma': 0.007550623443483177, 'reg_alpha': 0.010998915522508593, 'reg_lambda': 4.7670593091614885e-05}. Best is trial 17 with value: 0.8029084827583176.\n",
            "[I 2025-10-19 08:20:17,670] Trial 54 finished with value: 0.7804825458046849 and parameters: {'max_depth': 9, 'learning_rate': 0.027120881059102042, 'n_estimators': 352, 'subsample': 0.915272939491221, 'colsample_bytree': 0.8167733022883038, 'gamma': 0.984019808563878, 'reg_alpha': 0.002599496157319682, 'reg_lambda': 0.00082892758296663}. Best is trial 17 with value: 0.8029084827583176.\n",
            "[I 2025-10-19 08:20:19,153] Trial 55 finished with value: 0.781119601552139 and parameters: {'max_depth': 8, 'learning_rate': 0.030290300009926097, 'n_estimators': 389, 'subsample': 0.93366852167267, 'colsample_bytree': 0.8362720791908915, 'gamma': 0.005403359379607052, 'reg_alpha': 0.03372597103184312, 'reg_lambda': 4.121520109846852e-05}. Best is trial 17 with value: 0.8029084827583176.\n",
            "[I 2025-10-19 08:20:20,785] Trial 56 finished with value: 0.7396004804125658 and parameters: {'max_depth': 9, 'learning_rate': 0.007065993579415343, 'n_estimators': 366, 'subsample': 0.8900137752161777, 'colsample_bytree': 0.8593776236833371, 'gamma': 0.07009218928203956, 'reg_alpha': 0.008701848779203002, 'reg_lambda': 2.93491115024342e-06}. Best is trial 17 with value: 0.8029084827583176.\n",
            "[I 2025-10-19 08:20:21,878] Trial 57 finished with value: 0.7414908599390776 and parameters: {'max_depth': 11, 'learning_rate': 0.011466936001460246, 'n_estimators': 202, 'subsample': 0.9194801834422461, 'colsample_bytree': 0.799963120939608, 'gamma': 3.3580849264234384e-05, 'reg_alpha': 0.13514178134312216, 'reg_lambda': 1.9223342698697452e-07}. Best is trial 17 with value: 0.8029084827583176.\n",
            "[I 2025-10-19 08:20:23,775] Trial 58 finished with value: 0.7362373338196646 and parameters: {'max_depth': 11, 'learning_rate': 0.0031352533470334247, 'n_estimators': 322, 'subsample': 0.94524165063267, 'colsample_bytree': 0.7613628671505182, 'gamma': 1.5734325977259573e-08, 'reg_alpha': 0.001982647106504926, 'reg_lambda': 0.00029228623993270245}. Best is trial 17 with value: 0.8029084827583176.\n",
            "[I 2025-10-19 08:20:25,252] Trial 59 finished with value: 0.7829597496995778 and parameters: {'max_depth': 8, 'learning_rate': 0.02364060464468361, 'n_estimators': 393, 'subsample': 0.8929958143409923, 'colsample_bytree': 0.936276572404714, 'gamma': 0.0002286880183462793, 'reg_alpha': 0.003769639215458076, 'reg_lambda': 1.2736781706047739e-06}. Best is trial 17 with value: 0.8029084827583176.\n",
            "[I 2025-10-19 08:20:26,236] Trial 60 finished with value: 0.7031302446217926 and parameters: {'max_depth': 7, 'learning_rate': 0.00967703559849219, 'n_estimators': 279, 'subsample': 0.9132471262784396, 'colsample_bytree': 0.814594580605401, 'gamma': 0.000708027481649932, 'reg_alpha': 0.0006921090543128421, 'reg_lambda': 0.002699844959603654}. Best is trial 17 with value: 0.8029084827583176.\n",
            "[I 2025-10-19 08:20:27,918] Trial 61 finished with value: 0.7826608464335493 and parameters: {'max_depth': 10, 'learning_rate': 0.04027716469185014, 'n_estimators': 433, 'subsample': 0.9255609594283984, 'colsample_bytree': 0.7941453438985727, 'gamma': 0.00736302285368749, 'reg_alpha': 0.07238419996668556, 'reg_lambda': 1.2582670540650793e-05}. Best is trial 17 with value: 0.8029084827583176.\n",
            "[I 2025-10-19 08:20:29,187] Trial 62 finished with value: 0.7874524436259686 and parameters: {'max_depth': 10, 'learning_rate': 0.09297442576584135, 'n_estimators': 456, 'subsample': 0.8576116530847899, 'colsample_bytree': 0.7854620126893261, 'gamma': 0.033406231780838264, 'reg_alpha': 0.018943117511324905, 'reg_lambda': 1.8988297610845973e-05}. Best is trial 17 with value: 0.8029084827583176.\n",
            "[I 2025-10-19 08:20:32,028] Trial 63 finished with value: 0.7439827769481574 and parameters: {'max_depth': 10, 'learning_rate': 0.016001344279456646, 'n_estimators': 472, 'subsample': 0.9023173221703983, 'colsample_bytree': 0.7418926633991948, 'gamma': 0.015781741278962372, 'reg_alpha': 1.222665585158249, 'reg_lambda': 0.0001727736487866917}. Best is trial 17 with value: 0.8029084827583176.\n",
            "[I 2025-10-19 08:20:33,329] Trial 64 finished with value: 0.7800573342613619 and parameters: {'max_depth': 9, 'learning_rate': 0.05968316539384384, 'n_estimators': 372, 'subsample': 0.8381294074570682, 'colsample_bytree': 0.7235223723996658, 'gamma': 0.0017790546876524837, 'reg_alpha': 1.9881106358658928e-08, 'reg_lambda': 7.385463541577786e-05}. Best is trial 17 with value: 0.8029084827583176.\n",
            "[I 2025-10-19 08:20:34,965] Trial 65 finished with value: 0.7843179751307234 and parameters: {'max_depth': 11, 'learning_rate': 0.03177827853079482, 'n_estimators': 424, 'subsample': 0.8717418659750987, 'colsample_bytree': 0.8229003576055025, 'gamma': 0.16293465531951493, 'reg_alpha': 9.038965688489519e-08, 'reg_lambda': 8.24123465267519e-07}. Best is trial 17 with value: 0.8029084827583176.\n",
            "[I 2025-10-19 08:20:35,912] Trial 66 finished with value: 0.7913665729918011 and parameters: {'max_depth': 10, 'learning_rate': 0.049867759779103404, 'n_estimators': 438, 'subsample': 0.9416978317283107, 'colsample_bytree': 0.7935532244560796, 'gamma': 0.4219216190035801, 'reg_alpha': 1.0684605876301374e-05, 'reg_lambda': 2.579358019143392e-06}. Best is trial 17 with value: 0.8029084827583176.\n",
            "[I 2025-10-19 08:20:36,512] Trial 67 finished with value: 0.7743508653008103 and parameters: {'max_depth': 9, 'learning_rate': 0.0493548517348271, 'n_estimators': 155, 'subsample': 0.9951252986355523, 'colsample_bytree': 0.8391277936533615, 'gamma': 0.5537103928772649, 'reg_alpha': 1.4229012344138643e-05, 'reg_lambda': 3.1282719404463855e-07}. Best is trial 17 with value: 0.8029084827583176.\n",
            "[I 2025-10-19 08:20:38,350] Trial 68 finished with value: 0.7861969231691712 and parameters: {'max_depth': 12, 'learning_rate': 0.023670131157365017, 'n_estimators': 350, 'subsample': 0.9631690074922211, 'colsample_bytree': 0.7800413862163917, 'gamma': 0.055139139998154785, 'reg_alpha': 3.5414792984954173e-06, 'reg_lambda': 2.830285271396246e-05}. Best is trial 17 with value: 0.8029084827583176.\n",
            "[I 2025-10-19 08:20:40,546] Trial 69 finished with value: 0.7315098580813585 and parameters: {'max_depth': 10, 'learning_rate': 0.0013803963297852873, 'n_estimators': 442, 'subsample': 0.9384717157050628, 'colsample_bytree': 0.7538815563250613, 'gamma': 0.3492417831575674, 'reg_alpha': 6.317137036634535e-05, 'reg_lambda': 2.807526157628097e-06}. Best is trial 17 with value: 0.8029084827583176.\n",
            "[I 2025-10-19 08:20:42,314] Trial 70 finished with value: 0.7866323339963505 and parameters: {'max_depth': 11, 'learning_rate': 0.03729398133840068, 'n_estimators': 402, 'subsample': 0.9778411026174268, 'colsample_bytree': 0.8031052994446628, 'gamma': 1.4064724336574046e-05, 'reg_alpha': 9.973298208618515e-06, 'reg_lambda': 8.164925498084331e-08}. Best is trial 17 with value: 0.8029084827583176.\n",
            "[I 2025-10-19 08:20:43,419] Trial 71 finished with value: 0.7746438743992838 and parameters: {'max_depth': 10, 'learning_rate': 0.07414411463947253, 'n_estimators': 492, 'subsample': 0.8842778214797581, 'colsample_bytree': 0.7940164542200835, 'gamma': 0.0987813134358981, 'reg_alpha': 9.673050682413923e-07, 'reg_lambda': 7.178937156579775e-06}. Best is trial 17 with value: 0.8029084827583176.\n",
            "[I 2025-10-19 08:20:44,938] Trial 72 finished with value: 0.7699240129886514 and parameters: {'max_depth': 10, 'learning_rate': 0.05223301298329355, 'n_estimators': 455, 'subsample': 0.9428199521905742, 'colsample_bytree': 0.8100450080005195, 'gamma': 0.016234805270946975, 'reg_alpha': 2.977069469579749e-07, 'reg_lambda': 5.3163728554884466e-06}. Best is trial 17 with value: 0.8029084827583176.\n",
            "[I 2025-10-19 08:20:46,098] Trial 73 finished with value: 0.7848162232673773 and parameters: {'max_depth': 9, 'learning_rate': 0.09909898720447377, 'n_estimators': 434, 'subsample': 0.9266220863071822, 'colsample_bytree': 0.7639335251227747, 'gamma': 0.009803437648934798, 'reg_alpha': 2.1414796128897233e-06, 'reg_lambda': 4.6891307984540386e-05}. Best is trial 17 with value: 0.8029084827583176.\n",
            "[I 2025-10-19 08:20:47,907] Trial 74 finished with value: 0.7832068148605552 and parameters: {'max_depth': 11, 'learning_rate': 0.03284949917511959, 'n_estimators': 477, 'subsample': 0.9108459001946415, 'colsample_bytree': 0.7072023612481214, 'gamma': 5.631066668690835e-06, 'reg_alpha': 0.004069172063306277, 'reg_lambda': 1.1783112541773783e-05}. Best is trial 17 with value: 0.8029084827583176.\n",
            "[I 2025-10-19 08:20:49,004] Trial 75 finished with value: 0.760349191987723 and parameters: {'max_depth': 6, 'learning_rate': 0.043809174517937206, 'n_estimators': 412, 'subsample': 0.8991714266946751, 'colsample_bytree': 0.8484706070166866, 'gamma': 0.04775489526956638, 'reg_alpha': 0.017305148584209125, 'reg_lambda': 1.859945099579738}. Best is trial 17 with value: 0.8029084827583176.\n",
            "[I 2025-10-19 08:20:49,907] Trial 76 finished with value: 0.7457135925478195 and parameters: {'max_depth': 10, 'learning_rate': 0.0780307227420029, 'n_estimators': 299, 'subsample': 0.7022777374724566, 'colsample_bytree': 0.7914354447466396, 'gamma': 0.13922470602862286, 'reg_alpha': 3.8209959466535126e-08, 'reg_lambda': 2.189963254173903e-06}. Best is trial 17 with value: 0.8029084827583176.\n",
            "[I 2025-10-19 08:20:51,561] Trial 77 finished with value: 0.7727495763971738 and parameters: {'max_depth': 11, 'learning_rate': 0.06760584616870352, 'n_estimators': 464, 'subsample': 0.8908096253516378, 'colsample_bytree': 0.7666459487931172, 'gamma': 9.789580126219212e-05, 'reg_alpha': 6.562152436491768e-07, 'reg_lambda': 1.0747021782999552e-06}. Best is trial 17 with value: 0.8029084827583176.\n",
            "[I 2025-10-19 08:20:54,656] Trial 78 finished with value: 0.7847864380836895 and parameters: {'max_depth': 10, 'learning_rate': 0.016069067573364532, 'n_estimators': 450, 'subsample': 0.9548025415393626, 'colsample_bytree': 0.872882773678793, 'gamma': 0.25014956904773894, 'reg_alpha': 2.08357463891643e-07, 'reg_lambda': 0.00013228648881988012}. Best is trial 17 with value: 0.8029084827583176.\n",
            "[I 2025-10-19 08:20:57,276] Trial 79 finished with value: 0.7827728128965041 and parameters: {'max_depth': 9, 'learning_rate': 0.02684893863186082, 'n_estimators': 499, 'subsample': 0.9169540440737275, 'colsample_bytree': 0.7791951297499913, 'gamma': 0.0036332287110617373, 'reg_alpha': 6.130499365577524e-05, 'reg_lambda': 1.620067452264887e-08}. Best is trial 17 with value: 0.8029084827583176.\n",
            "[I 2025-10-19 08:20:59,975] Trial 80 finished with value: 0.7730363958844017 and parameters: {'max_depth': 12, 'learning_rate': 0.055291065955859024, 'n_estimators': 425, 'subsample': 0.8668556065934007, 'colsample_bytree': 0.7312360936343281, 'gamma': 1.5633404620679087e-06, 'reg_alpha': 9.124265273911322e-08, 'reg_lambda': 0.0005418181220096814}. Best is trial 17 with value: 0.8029084827583176.\n",
            "[I 2025-10-19 08:21:02,747] Trial 81 finished with value: 0.7848572113144647 and parameters: {'max_depth': 10, 'learning_rate': 0.018586500861015404, 'n_estimators': 417, 'subsample': 0.8766766432422897, 'colsample_bytree': 0.7712530953351961, 'gamma': 0.015980789224440222, 'reg_alpha': 0.0008806409901061714, 'reg_lambda': 4.297109180544887e-06}. Best is trial 17 with value: 0.8029084827583176.\n",
            "[I 2025-10-19 08:21:04,413] Trial 82 finished with value: 0.8012444694768037 and parameters: {'max_depth': 10, 'learning_rate': 0.03632159982201679, 'n_estimators': 379, 'subsample': 0.9063177259295956, 'colsample_bytree': 0.7517085266914564, 'gamma': 0.01925264859526137, 'reg_alpha': 1.8382041210939038e-06, 'reg_lambda': 5.0021473265876e-07}. Best is trial 17 with value: 0.8029084827583176.\n",
            "[I 2025-10-19 08:21:06,037] Trial 83 finished with value: 0.7955144145933067 and parameters: {'max_depth': 11, 'learning_rate': 0.0361940699116287, 'n_estimators': 374, 'subsample': 0.907421395612958, 'colsample_bytree': 0.7398955136399791, 'gamma': 3.58810754244153e-07, 'reg_alpha': 1.6272075781271052e-06, 'reg_lambda': 4.5487157652470615e-07}. Best is trial 17 with value: 0.8029084827583176.\n",
            "[I 2025-10-19 08:21:07,689] Trial 84 finished with value: 0.7974386758794129 and parameters: {'max_depth': 11, 'learning_rate': 0.0351421726224041, 'n_estimators': 378, 'subsample': 0.9069087368466543, 'colsample_bytree': 0.7399047512905226, 'gamma': 1.6489060611643557e-07, 'reg_alpha': 3.351281713597372e-06, 'reg_lambda': 1.325725658221469e-07}. Best is trial 17 with value: 0.8029084827583176.\n",
            "[I 2025-10-19 08:21:09,581] Trial 85 finished with value: 0.7910208778630461 and parameters: {'max_depth': 11, 'learning_rate': 0.022631898352209537, 'n_estimators': 365, 'subsample': 0.9076246707379982, 'colsample_bytree': 0.7508144963807301, 'gamma': 8.880975436172725e-08, 'reg_alpha': 7.076403540272338e-06, 'reg_lambda': 1.632705097301916e-07}. Best is trial 17 with value: 0.8029084827583176.\n",
            "[I 2025-10-19 08:21:11,675] Trial 86 finished with value: 0.782796550707815 and parameters: {'max_depth': 11, 'learning_rate': 0.02206905092081574, 'n_estimators': 378, 'subsample': 0.9224896397350878, 'colsample_bytree': 0.7397003915548491, 'gamma': 1.7923880397314473e-07, 'reg_alpha': 1.1261374141132544e-05, 'reg_lambda': 3.813677692226068e-08}. Best is trial 17 with value: 0.8029084827583176.\n",
            "[I 2025-10-19 08:21:13,376] Trial 87 finished with value: 0.7867281858996267 and parameters: {'max_depth': 11, 'learning_rate': 0.03662274494331173, 'n_estimators': 359, 'subsample': 0.9345694678447364, 'colsample_bytree': 0.7479929319947772, 'gamma': 7.171714219515682e-08, 'reg_alpha': 6.899462557520859e-06, 'reg_lambda': 1.4886092883208343e-07}. Best is trial 17 with value: 0.8029084827583176.\n",
            "[I 2025-10-19 08:21:14,955] Trial 88 finished with value: 0.7887052214903798 and parameters: {'max_depth': 10, 'learning_rate': 0.028547507320269963, 'n_estimators': 340, 'subsample': 0.9116554978631782, 'colsample_bytree': 0.7533513115956517, 'gamma': 4.3510421397672265e-07, 'reg_alpha': 1.6868940149950318e-06, 'reg_lambda': 4.6426063988136027e-07}. Best is trial 17 with value: 0.8029084827583176.\n",
            "[I 2025-10-19 08:21:17,144] Trial 89 finished with value: 0.7866916152241338 and parameters: {'max_depth': 10, 'learning_rate': 0.01402507729253864, 'n_estimators': 370, 'subsample': 0.9073999439283887, 'colsample_bytree': 0.718009535434118, 'gamma': 4.585964331128698e-08, 'reg_alpha': 1.764012832209767e-05, 'reg_lambda': 1.950947507072141e-07}. Best is trial 17 with value: 0.8029084827583176.\n",
            "[I 2025-10-19 08:21:18,692] Trial 90 finished with value: 0.7595335558053735 and parameters: {'max_depth': 9, 'learning_rate': 0.010861056476291098, 'n_estimators': 327, 'subsample': 0.9285465165265196, 'colsample_bytree': 0.7423353444392999, 'gamma': 1.1739106892701664e-07, 'reg_alpha': 1.1943148870768262e-06, 'reg_lambda': 3.326664105657784e-07}. Best is trial 17 with value: 0.8029084827583176.\n",
            "[I 2025-10-19 08:21:20,266] Trial 91 finished with value: 0.7980908645840594 and parameters: {'max_depth': 11, 'learning_rate': 0.047373803569366366, 'n_estimators': 385, 'subsample': 0.901184658435043, 'colsample_bytree': 0.7533263049548713, 'gamma': 2.5384777097556507e-08, 'reg_alpha': 5.317771623700605e-07, 'reg_lambda': 6.437747190011234e-08}. Best is trial 17 with value: 0.8029084827583176.\n",
            "[I 2025-10-19 08:21:21,990] Trial 92 finished with value: 0.787917986807036 and parameters: {'max_depth': 11, 'learning_rate': 0.04325204958229562, 'n_estimators': 389, 'subsample': 0.8960546079736402, 'colsample_bytree': 0.7610199081209391, 'gamma': 2.3083206924115422e-08, 'reg_alpha': 6.131465095191781e-07, 'reg_lambda': 2.1854800355075257e-08}. Best is trial 17 with value: 0.8029084827583176.\n",
            "[I 2025-10-19 08:21:24,197] Trial 93 finished with value: 0.7335830827079072 and parameters: {'max_depth': 11, 'learning_rate': 0.00010691917297522029, 'n_estimators': 345, 'subsample': 0.9172427127901959, 'colsample_bytree': 0.7251936258120587, 'gamma': 3.349346744192237e-08, 'reg_alpha': 4.177341109086346e-06, 'reg_lambda': 5.777760560047338e-08}. Best is trial 17 with value: 0.8029084827583176.\n",
            "[I 2025-10-19 08:21:26,024] Trial 94 finished with value: 0.7875160660909601 and parameters: {'max_depth': 10, 'learning_rate': 0.023971602821662226, 'n_estimators': 362, 'subsample': 0.9061450344037957, 'colsample_bytree': 0.7518756718529144, 'gamma': 3.5510697499509864e-07, 'reg_alpha': 3.812357939155515e-05, 'reg_lambda': 7.987666646875551e-08}. Best is trial 17 with value: 0.8029084827583176.\n",
            "[I 2025-10-19 08:21:27,893] Trial 95 finished with value: 0.7874568635182683 and parameters: {'max_depth': 11, 'learning_rate': 0.03394329275158868, 'n_estimators': 397, 'subsample': 0.9428098552822075, 'colsample_bytree': 0.7122570179441136, 'gamma': 9.412247873520241e-07, 'reg_alpha': 2.647257550450951e-06, 'reg_lambda': 1.1265223511556393e-07}. Best is trial 17 with value: 0.8029084827583176.\n",
            "[I 2025-10-19 08:21:29,849] Trial 96 finished with value: 0.7979397220935247 and parameters: {'max_depth': 11, 'learning_rate': 0.02167413757765081, 'n_estimators': 382, 'subsample': 0.8936543102768029, 'colsample_bytree': 0.7784053476550038, 'gamma': 1.0969404809427353e-07, 'reg_alpha': 1.8506306023833385e-06, 'reg_lambda': 5.042029599461147e-07}. Best is trial 17 with value: 0.8029084827583176.\n",
            "[I 2025-10-19 08:21:31,473] Trial 97 finished with value: 0.7811651605558702 and parameters: {'max_depth': 12, 'learning_rate': 0.044337450649928126, 'n_estimators': 377, 'subsample': 0.8828494759871908, 'colsample_bytree': 0.7793398158045841, 'gamma': 1.2484435304808226e-07, 'reg_alpha': 1.6800295328662843e-06, 'reg_lambda': 5.0191647720429944e-08}. Best is trial 17 with value: 0.8029084827583176.\n",
            "[I 2025-10-19 08:21:33,442] Trial 98 finished with value: 0.784427610381842 and parameters: {'max_depth': 11, 'learning_rate': 0.027091139806840442, 'n_estimators': 404, 'subsample': 0.9213842357061939, 'colsample_bytree': 0.7664641011349309, 'gamma': 1.043396946039655e-08, 'reg_alpha': 7.291732575290202e-06, 'reg_lambda': 2.6290362171480254e-07}. Best is trial 17 with value: 0.8029084827583176.\n",
            "[I 2025-10-19 08:21:35,298] Trial 99 finished with value: 0.7815014628848016 and parameters: {'max_depth': 11, 'learning_rate': 0.020850770757774115, 'n_estimators': 326, 'subsample': 0.9508288614104419, 'colsample_bytree': 0.7832178168627703, 'gamma': 7.964841892360884e-08, 'reg_alpha': 8.935549084451991e-07, 'reg_lambda': 1.9711221892162483e-08}. Best is trial 17 with value: 0.8029084827583176.\n"
          ]
        },
        {
          "name": "stdout",
          "output_type": "stream",
          "text": [
            "Mejores parámetros: {'max_depth': 10, 'learning_rate': 0.027745816713898846, 'n_estimators': 377, 'subsample': 0.8824698130887566, 'colsample_bytree': 0.7869923236661704, 'gamma': 1.3471642348257076e-05, 'reg_alpha': 1.0649212529305546e-06, 'reg_lambda': 1.8155856048269795e-08}\n",
            "Mejor AUC-PR (cv valida): 0.8029084827583176\n"
          ]
        }
      ],
      "source": [
        "#realizar el entranamiento \n",
        "\n",
        "import optuna\n",
        "from sklearn.model_selection import train_test_split\n",
        "from sklearn.metrics import average_precision_score\n",
        "\n",
        "def objective(trial):\n",
        "    params = {\n",
        "        \"max_depth\": trial.suggest_int(\"max_depth\", 3, 12),\n",
        "        \"learning_rate\": trial.suggest_loguniform(\"learning_rate\", 1e-4, 1e-1),\n",
        "        \"n_estimators\": trial.suggest_int(\"n_estimators\", 100, 500),\n",
        "        \"subsample\": trial.suggest_uniform(\"subsample\", 0.7, 1.0),\n",
        "        \"colsample_bytree\": trial.suggest_uniform(\"colsample_bytree\", 0.7, 1.0),\n",
        "        \"gamma\": trial.suggest_loguniform(\"gamma\", 1e-8, 1.0),\n",
        "        \"reg_alpha\": trial.suggest_loguniform(\"reg_alpha\", 1e-8, 10.0),\n",
        "        \"reg_lambda\": trial.suggest_loguniform(\"reg_lambda\", 1e-8, 10.0),\n",
        "        \"scale_pos_weight\": (len(y_train) - y_train.sum()) / y_train.sum(),\n",
        "        \"random_state\": 42,\n",
        "        \"tree_method\": \"auto\",\n",
        "        \"use_label_encoder\": False,\n",
        "        \"eval_metric\": \"aucpr\"\n",
        "    }\n",
        "    model = xgb.XGBClassifier(**params)\n",
        "    # validación interna para evitar sobreajuste en busqueda\n",
        "    X_tr, X_val, y_tr, y_val = train_test_split(X_train, y_train, test_size=0.2, random_state=42, stratify=y_train)\n",
        "    model.fit(X_tr, y_tr, eval_set=[(X_val, y_val)], verbose=False)\n",
        "    y_val_pred = model.predict_proba(X_val)[:, 1]\n",
        "    auc_pr = average_precision_score(y_val, y_val_pred)\n",
        "    return auc_pr\n",
        "\n",
        "study = optuna.create_study(direction=\"maximize\", study_name=\"xgb_aucpr\")\n",
        "study.optimize(objective, n_trials=100)\n",
        "\n",
        "print(\"Mejores parámetros:\", study.best_trial.params)\n",
        "print(\"Mejor AUC-PR (cv valida):\", study.best_value)\n"
      ]
    },
    {
      "cell_type": "code",
      "execution_count": null,
      "metadata": {},
      "outputs": [
        {
          "name": "stdout",
          "output_type": "stream",
          "text": [
            "Scale pos weight: 9.47\n"
          ]
        },
        {
          "name": "stdout",
          "output_type": "stream",
          "text": [
            "Modelo entrenado con Optuna y mejores hiperparámetros\n"
          ]
        }
      ],
      "source": [
        "\n",
        "# Entrenamos el modelo final con los mejores parámetros encontrados\n",
        "best_params = study.best_trial.params\n",
        "best_params[\"scale_pos_weight\"] = (len(y_train) - y_train.sum()) / y_train.sum()\n",
        "best_params[\"random_state\"] = 42\n",
        "best_params[\"tree_method\"] = \"auto\"\n",
        "best_params[\"use_label_encoder\"] = False\n",
        "best_params[\"eval_metric\"] = \"aucpr\"\n",
        "\n",
        "print(f'Scale pos weight: {best_params[\"scale_pos_weight\"] :.2f}')\n",
        "\n",
        "model = xgb.XGBClassifier(**best_params)\n",
        "model.fit(X_train, y_train, verbose=False)\n",
        "print('Modelo entrenado con Optuna y mejores hiperparámetros')\n"
      ]
    },
    {
      "cell_type": "code",
      "execution_count": null,
      "metadata": {},
      "outputs": [
        {
          "data": {
            "image/png": "[encoded data removed]",
            "text/plain": [
              "<Figure size 300x300 with 1 Axes>"
            ]
          },
          "metadata": {},
          "output_type": "display_data"
        }
      ],
      "source": [
        "# Predicciones\n",
        "y_pred_prob = model.predict_proba(X_test)[:, 1]\n",
        "y_pred = model.predict(X_test)\n",
        "\n",
        "tmp=pd.DataFrame(zip(y_pred_test, y_test)).rename(columns={0:'proba', 1:'target'})\n",
        "\n",
        "plt.figure(figsize=(3, 3))\n",
        "sns.kdeplot(tmp[tmp['target']==0],x='proba',alpha=0.2);\n",
        "sns.kdeplot(tmp[tmp['target']==1],x='proba',alpha=0.2);\n",
        "#plt.ylim(0,100);\n"
      ]
    },
    {
      "cell_type": "code",
      "execution_count": null,
      "metadata": {},
      "outputs": [
        {
          "data": {
            "image/png": "[encoded data removed]",
            "text/plain": [
              "<Figure size 400x300 with 2 Axes>"
            ]
          },
          "metadata": {},
          "output_type": "display_data"
        },
        {
          "name": "stdout",
          "output_type": "stream",
          "text": [
            "True Negatives: 270\n",
            "False Positives: 58 (falsas alarmas)\n",
            "False Negatives: 12 (fallas NO detectadas)\n",
            "True Positives: 11 (fallas detectadas)\n",
            "precision: 0.15942028985507245\n",
            "AUC PR (Average Precision): 0.2557\n"
          ]
        }
      ],
      "source": [
        "# Matriz de confusión\n",
        "threshold = 0.05\n",
        "y_pred_th = (y_pred_test > threshold).astype(int)\n",
        "\n",
        "cm = confusion_matrix(y_test, y_pred)\n",
        "\n",
        "plt.figure(figsize=(4, 3))\n",
        "sns.heatmap(cm, annot=True, fmt='d', cmap='Blues')\n",
        "plt.title('Matriz de Confusión')\n",
        "plt.ylabel('Real')\n",
        "plt.xlabel('Predicho')\n",
        "plt.show()\n",
        "\n",
        "tn, fp, fn, tp = cm.ravel()\n",
        "print(f'True Negatives: {tn}')\n",
        "print(f'False Positives: {fp} (falsas alarmas)')\n",
        "print(f'False Negatives: {fn} (fallas NO detectadas)')\n",
        "print(f'True Positives: {tp} (fallas detectadas)')\n",
        "print(f\"precision: {tp/(tp+fp)}\")\n",
        "\n",
        "aucpr = average_precision_score(y_test, y_pred_prob)\n",
        "print(f\"AUC PR (Average Precision): {aucpr:.4f}\")"
      ]
    },
    {
      "cell_type": "code",
      "execution_count": null,
      "metadata": {},
      "outputs": [
        {
          "name": "stdout",
          "output_type": "stream",
          "text": [
            "Top 20 features:\n",
            "                    feature  importance\n",
            "20         attribute5_lag_7    0.112019\n",
            "16               attribute2    0.091072\n",
            "17   attribute2_roll_1_mean    0.070320\n",
            "12   attribute4_roll_2_mean    0.047601\n",
            "22   attribute4_roll_3_mean    0.041518\n",
            "1         attribute7_diff_7    0.037872\n",
            "27         attribute5_lag_5    0.029152\n",
            "13   attribute5_w8_14d_mean    0.028892\n",
            "26  attribute2_roll_14_mean    0.026392\n",
            "65   attribute6_roll_3_mean    0.025839\n"
          ]
        }
      ],
      "source": [
        "# Feature importance\n",
        "feature_importance = pd.DataFrame({\n",
        "    'feature':selected_features_extended_target,\n",
        "    'importance': model.feature_importances_\n",
        "}).sort_values('importance', ascending=False)\n",
        "\n",
        "print('Top 20 features:')\n",
        "print(feature_importance.head(10))"
      ]
    },
    {
      "cell_type": "code",
      "execution_count": 1227,
      "metadata": {},
      "outputs": [],
      "source": [
        "model.save_model('../models/model_xgb_extended_target.json')"
      ]
    },
    {
      "cell_type": "markdown",
      "metadata": {},
      "source": [
        "#### Modelos con ultimo eventos y agregamos SMOTE"
      ]
    },
    {
      "cell_type": "code",
      "execution_count": null,
      "metadata": {},
      "outputs": [
        {
          "name": "stdout",
          "output_type": "stream",
          "text": [
            "fallas antes de samplear extended_target\n",
            "0    0.904529\n",
            "1    0.095471\n",
            "Name: proportion, dtype: float64\n"
          ]
        }
      ],
      "source": [
        "\n",
        "# Actualizar conjuntos de entrenamiento y prueba (subsampleamos train para un 90:10)\n",
        "\n",
        "print(\"fallas antes de samplear\",train_ultimo_vento.extended_target.value_counts(normalize=True))\n",
        "\n",
        "X_train = train_ultimo_vento[selected_features_target]\n",
        "X_test = test_ultimo_vento[selected_features_target]\n",
        "\n",
        "y_train = train_ultimo_vento['target']\n",
        "y_test = test_ultimo_vento['target']\n"
      ]
    },
    {
      "cell_type": "code",
      "execution_count": null,
      "metadata": {},
      "outputs": [
        {
          "name": "stderr",
          "output_type": "stream",
          "text": [
            "[I 2025-10-19 08:28:22,660] A new study created in memory with name: xgb_aucpr_smote\n"
          ]
        },
        {
          "name": "stderr",
          "output_type": "stream",
          "text": [
            "[I 2025-10-19 08:28:23,503] Trial 0 finished with value: 0.4724326911910231 and parameters: {'max_depth': 7, 'learning_rate': 0.002451019087684689, 'n_estimators': 284, 'subsample': 0.8223646166454067, 'colsample_bytree': 0.7760497430720757, 'gamma': 2.2067965676594422e-07, 'reg_alpha': 0.35502421949985496, 'reg_lambda': 0.018588608731422585}. Best is trial 0 with value: 0.4724326911910231.\n",
            "[I 2025-10-19 08:28:24,978] Trial 1 finished with value: 0.5217267539289765 and parameters: {'max_depth': 12, 'learning_rate': 0.0005622006077116274, 'n_estimators': 437, 'subsample': 0.7025728439214346, 'colsample_bytree': 0.749011688751096, 'gamma': 0.5014288788392889, 'reg_alpha': 8.07462212721365e-06, 'reg_lambda': 2.2602415995535868e-05}. Best is trial 1 with value: 0.5217267539289765.\n",
            "[I 2025-10-19 08:28:25,243] Trial 2 finished with value: 0.40308454077198114 and parameters: {'max_depth': 4, 'learning_rate': 0.00014180925541635173, 'n_estimators': 118, 'subsample': 0.8350024975289156, 'colsample_bytree': 0.9225674787842799, 'gamma': 5.32351601999216e-07, 'reg_alpha': 0.7959830808068984, 'reg_lambda': 3.554866229052922}. Best is trial 1 with value: 0.5217267539289765.\n",
            "[I 2025-10-19 08:28:25,724] Trial 3 finished with value: 0.5073432689315092 and parameters: {'max_depth': 9, 'learning_rate': 0.00541168128952579, 'n_estimators': 130, 'subsample': 0.7634801278025443, 'colsample_bytree': 0.9953857246600843, 'gamma': 4.552777659232501e-06, 'reg_alpha': 9.738895302033258e-07, 'reg_lambda': 0.34931498383203846}. Best is trial 1 with value: 0.5217267539289765.\n",
            "[I 2025-10-19 08:28:26,935] Trial 4 finished with value: 0.5784488031125158 and parameters: {'max_depth': 7, 'learning_rate': 0.011700367577184742, 'n_estimators': 465, 'subsample': 0.9908925481182806, 'colsample_bytree': 0.900850147025333, 'gamma': 0.07407821984249678, 'reg_alpha': 4.8479677489426716e-05, 'reg_lambda': 1.2915047910102402e-08}. Best is trial 4 with value: 0.5784488031125158.\n",
            "[I 2025-10-19 08:28:28,040] Trial 5 finished with value: 0.5178744476049365 and parameters: {'max_depth': 10, 'learning_rate': 0.004421255828638719, 'n_estimators': 316, 'subsample': 0.784321813861434, 'colsample_bytree': 0.9079303154954059, 'gamma': 0.00020959724673434428, 'reg_alpha': 0.0030136669303379724, 'reg_lambda': 6.352833324470783e-08}. Best is trial 4 with value: 0.5784488031125158.\n",
            "[I 2025-10-19 08:28:28,475] Trial 6 finished with value: 0.5582915776185737 and parameters: {'max_depth': 6, 'learning_rate': 0.020049283327819734, 'n_estimators': 156, 'subsample': 0.8934690815733228, 'colsample_bytree': 0.8336325044339149, 'gamma': 0.15455397588669126, 'reg_alpha': 0.05671670661661552, 'reg_lambda': 0.00172481801730165}. Best is trial 4 with value: 0.5784488031125158.\n",
            "[I 2025-10-19 08:28:29,187] Trial 7 finished with value: 0.5880432908468947 and parameters: {'max_depth': 10, 'learning_rate': 0.01971527832379408, 'n_estimators': 221, 'subsample': 0.8314784508225957, 'colsample_bytree': 0.9402211985541928, 'gamma': 0.6815335308200701, 'reg_alpha': 1.4374336053552899e-07, 'reg_lambda': 7.644636364582393e-08}. Best is trial 7 with value: 0.5880432908468947.\n",
            "[I 2025-10-19 08:28:30,028] Trial 8 finished with value: 0.5167262261263764 and parameters: {'max_depth': 11, 'learning_rate': 0.0008603867060475472, 'n_estimators': 215, 'subsample': 0.8005793359210726, 'colsample_bytree': 0.9053949491237434, 'gamma': 2.6531591105308517e-08, 'reg_alpha': 0.00015468880313055497, 'reg_lambda': 3.875954526184088e-06}. Best is trial 7 with value: 0.5880432908468947.\n",
            "[I 2025-10-19 08:28:31,147] Trial 9 finished with value: 0.5061058347438894 and parameters: {'max_depth': 12, 'learning_rate': 0.00017226685200484064, 'n_estimators': 305, 'subsample': 0.8250865317883637, 'colsample_bytree': 0.9990473360726762, 'gamma': 0.005563676487806201, 'reg_alpha': 0.00013508421959896108, 'reg_lambda': 8.364091993006649e-07}. Best is trial 7 with value: 0.5880432908468947.\n",
            "[I 2025-10-19 08:28:31,842] Trial 10 finished with value: 0.6310249058413773 and parameters: {'max_depth': 9, 'learning_rate': 0.0653497839541162, 'n_estimators': 384, 'subsample': 0.9094916005386079, 'colsample_bytree': 0.8374337588011755, 'gamma': 0.0014597132071491286, 'reg_alpha': 2.47472091616787e-08, 'reg_lambda': 0.0002190516450623817}. Best is trial 10 with value: 0.6310249058413773.\n",
            "[I 2025-10-19 08:28:32,505] Trial 11 finished with value: 0.6569891455884587 and parameters: {'max_depth': 9, 'learning_rate': 0.07271897359128253, 'n_estimators': 381, 'subsample': 0.9128896195249226, 'colsample_bytree': 0.833812240458494, 'gamma': 0.0015728645144722317, 'reg_alpha': 1.7629770302754916e-08, 'reg_lambda': 0.00014961605097476652}. Best is trial 11 with value: 0.6569891455884587.\n",
            "[I 2025-10-19 08:28:33,171] Trial 12 finished with value: 0.6594671369836177 and parameters: {'max_depth': 9, 'learning_rate': 0.08026794857260713, 'n_estimators': 386, 'subsample': 0.9153070455003673, 'colsample_bytree': 0.8268922742249439, 'gamma': 0.0004441669889547124, 'reg_alpha': 1.0298997210902533e-08, 'reg_lambda': 0.0002395785950195471}. Best is trial 12 with value: 0.6594671369836177.\n",
            "[I 2025-10-19 08:28:33,817] Trial 13 finished with value: 0.7137987274782878 and parameters: {'max_depth': 5, 'learning_rate': 0.06428815634016524, 'n_estimators': 386, 'subsample': 0.9563564365779442, 'colsample_bytree': 0.7893202175529881, 'gamma': 3.2167878942203435e-05, 'reg_alpha': 1.0981678850924465e-08, 'reg_lambda': 0.0004065717441309631}. Best is trial 13 with value: 0.7137987274782878.\n",
            "[I 2025-10-19 08:28:34,401] Trial 14 finished with value: 0.7010507616784557 and parameters: {'max_depth': 3, 'learning_rate': 0.09455974465326425, 'n_estimators': 387, 'subsample': 0.9863075758503191, 'colsample_bytree': 0.7007745169283905, 'gamma': 1.900783333441169e-05, 'reg_alpha': 7.347308880743773e-07, 'reg_lambda': 0.0056633267913666465}. Best is trial 13 with value: 0.7137987274782878.\n",
            "[I 2025-10-19 08:28:36,263] Trial 15 finished with value: 0.7164666722089491 and parameters: {'max_depth': 3, 'learning_rate': 0.03686089784982004, 'n_estimators': 485, 'subsample': 0.9966671747411897, 'colsample_bytree': 0.7066555278831014, 'gamma': 1.471659096678745e-05, 'reg_alpha': 4.4281434006787905e-07, 'reg_lambda': 0.012511630024599058}. Best is trial 15 with value: 0.7164666722089491.\n",
            "[I 2025-10-19 08:28:37,215] Trial 16 finished with value: 0.7152530414846592 and parameters: {'max_depth': 5, 'learning_rate': 0.03218174997071703, 'n_estimators': 485, 'subsample': 0.9462846065309128, 'colsample_bytree': 0.7162690700409784, 'gamma': 1.561114082290868e-05, 'reg_alpha': 1.7945320363168251e-06, 'reg_lambda': 0.05023716629001019}. Best is trial 15 with value: 0.7164666722089491.\n",
            "[I 2025-10-19 08:28:37,956] Trial 17 finished with value: 0.7444505251084199 and parameters: {'max_depth': 3, 'learning_rate': 0.026855488071330934, 'n_estimators': 499, 'subsample': 0.9425492098941807, 'colsample_bytree': 0.7017939962204308, 'gamma': 3.1665787329020204e-06, 'reg_alpha': 6.6339217692703846e-06, 'reg_lambda': 0.04256373465327929}. Best is trial 17 with value: 0.7444505251084199.\n",
            "[I 2025-10-19 08:28:38,739] Trial 18 finished with value: 0.6927560718478039 and parameters: {'max_depth': 3, 'learning_rate': 0.011401535455722726, 'n_estimators': 499, 'subsample': 0.9531392691823608, 'colsample_bytree': 0.7363285474220992, 'gamma': 1.5720650051148703e-06, 'reg_alpha': 0.0023441338649919626, 'reg_lambda': 0.23280241541686822}. Best is trial 17 with value: 0.7444505251084199.\n",
            "[I 2025-10-19 08:28:39,543] Trial 19 finished with value: 0.6793081729014075 and parameters: {'max_depth': 4, 'learning_rate': 0.02984154429521888, 'n_estimators': 446, 'subsample': 0.8734025215253064, 'colsample_bytree': 0.7873187922913938, 'gamma': 1.7453471079185585e-08, 'reg_alpha': 9.425998583375765, 'reg_lambda': 9.468298231623422}. Best is trial 17 with value: 0.7444505251084199.\n",
            "[I 2025-10-19 08:28:40,670] Trial 20 finished with value: 0.4609895231814474 and parameters: {'max_depth': 4, 'learning_rate': 0.0023848114150419927, 'n_estimators': 425, 'subsample': 0.9726424439563415, 'colsample_bytree': 0.7542316397685883, 'gamma': 1.1150522505889439e-07, 'reg_alpha': 1.1961605576488902e-05, 'reg_lambda': 0.5823929391435384}. Best is trial 17 with value: 0.7444505251084199.\n",
            "[I 2025-10-19 08:28:41,619] Trial 21 finished with value: 0.7264989033226262 and parameters: {'max_depth': 5, 'learning_rate': 0.034439106267504994, 'n_estimators': 496, 'subsample': 0.9418904820733038, 'colsample_bytree': 0.7067520792722762, 'gamma': 8.950954672262497e-06, 'reg_alpha': 1.8452355361637224e-06, 'reg_lambda': 0.037700159595558086}. Best is trial 17 with value: 0.7444505251084199.\n",
            "[I 2025-10-19 08:28:42,487] Trial 22 finished with value: 0.6694484000405053 and parameters: {'max_depth': 3, 'learning_rate': 0.008121952666574632, 'n_estimators': 498, 'subsample': 0.9976579129695352, 'colsample_bytree': 0.7022954442623238, 'gamma': 2.8030909097460745e-06, 'reg_alpha': 1.5036555532775833e-07, 'reg_lambda': 0.03420931873659016}. Best is trial 17 with value: 0.7444505251084199.\n",
            "[I 2025-10-19 08:28:43,335] Trial 23 finished with value: 0.732478598428042 and parameters: {'max_depth': 5, 'learning_rate': 0.038316787644736554, 'n_estimators': 460, 'subsample': 0.9371273825140557, 'colsample_bytree': 0.7296889168467219, 'gamma': 8.797361125564712e-05, 'reg_alpha': 7.449155991902767e-06, 'reg_lambda': 0.004169416906554653}. Best is trial 17 with value: 0.7444505251084199.\n",
            "[I 2025-10-19 08:28:44,339] Trial 24 finished with value: 0.617019748739906 and parameters: {'max_depth': 6, 'learning_rate': 0.017599314189046734, 'n_estimators': 420, 'subsample': 0.9367748884624779, 'colsample_bytree': 0.7333379891130061, 'gamma': 7.876260727913699e-05, 'reg_alpha': 9.47535846697427e-06, 'reg_lambda': 0.0024940565410551964}. Best is trial 17 with value: 0.7444505251084199.\n",
            "[I 2025-10-19 08:28:45,186] Trial 25 finished with value: 0.7208686262543592 and parameters: {'max_depth': 5, 'learning_rate': 0.0368407117441984, 'n_estimators': 457, 'subsample': 0.8816321457102732, 'colsample_bytree': 0.7723047071413253, 'gamma': 9.68973914829048e-07, 'reg_alpha': 0.0009938773904828518, 'reg_lambda': 0.11726364223087012}. Best is trial 17 with value: 0.7444505251084199.\n",
            "[I 2025-10-19 08:28:46,015] Trial 26 finished with value: 0.4716340589990771 and parameters: {'max_depth': 6, 'learning_rate': 0.0012693936124812753, 'n_estimators': 339, 'subsample': 0.8652350208429694, 'colsample_bytree': 0.8687764276219737, 'gamma': 4.754505392681697e-06, 'reg_alpha': 3.03974704571987e-05, 'reg_lambda': 1.2871057889037238}. Best is trial 17 with value: 0.7444505251084199.\n",
            "[I 2025-10-19 08:28:47,038] Trial 27 finished with value: 0.7210415810996931 and parameters: {'max_depth': 4, 'learning_rate': 0.04622610149285198, 'n_estimators': 460, 'subsample': 0.9304793767552866, 'colsample_bytree': 0.810206821764756, 'gamma': 0.012690944310164863, 'reg_alpha': 4.428796241044975e-06, 'reg_lambda': 0.0011835871989199125}. Best is trial 17 with value: 0.7444505251084199.\n",
            "[I 2025-10-19 08:28:48,675] Trial 28 finished with value: 0.6430534358848576 and parameters: {'max_depth': 5, 'learning_rate': 0.010444599559921552, 'n_estimators': 423, 'subsample': 0.971308576645824, 'colsample_bytree': 0.7252490139364565, 'gamma': 8.975835877572377e-05, 'reg_alpha': 9.890504806209695e-08, 'reg_lambda': 5.659624442299725e-05}. Best is trial 17 with value: 0.7444505251084199.\n",
            "[I 2025-10-19 08:28:49,442] Trial 29 finished with value: 0.635478506776431 and parameters: {'max_depth': 7, 'learning_rate': 0.020251297778499766, 'n_estimators': 260, 'subsample': 0.8966968070586849, 'colsample_bytree': 0.7603278301882932, 'gamma': 1.6779192052053647e-07, 'reg_alpha': 0.00043668608864968366, 'reg_lambda': 0.012046232933097215}. Best is trial 17 with value: 0.7444505251084199.\n",
            "[I 2025-10-19 08:28:50,357] Trial 30 finished with value: 0.43942408082307466 and parameters: {'max_depth': 6, 'learning_rate': 0.0027870505652798565, 'n_estimators': 348, 'subsample': 0.9287998473304243, 'colsample_bytree': 0.7329387924226234, 'gamma': 0.0004024357306765806, 'reg_alpha': 0.021838804127975193, 'reg_lambda': 0.08565033081963075}. Best is trial 17 with value: 0.7444505251084199.\n",
            "[I 2025-10-19 08:28:51,109] Trial 31 finished with value: 0.7214909948395479 and parameters: {'max_depth': 4, 'learning_rate': 0.05117469744296332, 'n_estimators': 465, 'subsample': 0.9285844845770386, 'colsample_bytree': 0.8064777324545784, 'gamma': 0.006776219046679405, 'reg_alpha': 4.551913042027111e-06, 'reg_lambda': 0.002203501481269498}. Best is trial 17 with value: 0.7444505251084199.\n",
            "[I 2025-10-19 08:28:51,878] Trial 32 finished with value: 0.6814024796830959 and parameters: {'max_depth': 4, 'learning_rate': 0.04794540500631203, 'n_estimators': 467, 'subsample': 0.9684169429651073, 'colsample_bytree': 0.8003836474851395, 'gamma': 0.017699264725079718, 'reg_alpha': 1.9946525413143787e-06, 'reg_lambda': 0.006067851557832334}. Best is trial 17 with value: 0.7444505251084199.\n",
            "[I 2025-10-19 08:28:52,611] Trial 33 finished with value: 0.7138041009499672 and parameters: {'max_depth': 4, 'learning_rate': 0.025480337270886208, 'n_estimators': 407, 'subsample': 0.8618307052603968, 'colsample_bytree': 0.8644468836403293, 'gamma': 5.027272541828591e-07, 'reg_alpha': 3.7490995473930496e-05, 'reg_lambda': 0.0007416786954390096}. Best is trial 17 with value: 0.7444505251084199.\n",
            "[I 2025-10-19 08:28:53,513] Trial 34 finished with value: 0.6404883542383543 and parameters: {'max_depth': 5, 'learning_rate': 0.006353768209480637, 'n_estimators': 442, 'subsample': 0.7136525422422018, 'colsample_bytree': 0.7478772468528351, 'gamma': 7.0337244760160466e-06, 'reg_alpha': 4.8524977907129895e-06, 'reg_lambda': 0.027667730346497738}. Best is trial 17 with value: 0.7444505251084199.\n",
            "[I 2025-10-19 08:28:54,732] Trial 35 finished with value: 0.6312429079073101 and parameters: {'max_depth': 7, 'learning_rate': 0.013063302671558877, 'n_estimators': 476, 'subsample': 0.9221749958805864, 'colsample_bytree': 0.7687807529898197, 'gamma': 0.0010513658374657934, 'reg_alpha': 3.58681793488391e-07, 'reg_lambda': 1.2309917280452297e-05}. Best is trial 17 with value: 0.7444505251084199.\n",
            "[I 2025-10-19 08:28:55,447] Trial 36 finished with value: 0.7440398608771912 and parameters: {'max_depth': 3, 'learning_rate': 0.04912664036933671, 'n_estimators': 500, 'subsample': 0.944915278560494, 'colsample_bytree': 0.7480770775868976, 'gamma': 5.512901179250047e-05, 'reg_alpha': 2.80710428408684e-05, 'reg_lambda': 1.285875788110462}. Best is trial 17 with value: 0.7444505251084199.\n",
            "[I 2025-10-19 08:28:56,185] Trial 37 finished with value: 0.5605010904496551 and parameters: {'max_depth': 3, 'learning_rate': 0.00025204638097648893, 'n_estimators': 499, 'subsample': 0.850950087359044, 'colsample_bytree': 0.7178292383174725, 'gamma': 3.868322011046873e-05, 'reg_alpha': 9.664794304618113e-05, 'reg_lambda': 0.7754501404225395}. Best is trial 17 with value: 0.7444505251084199.\n",
            "[I 2025-10-19 08:28:58,111] Trial 38 finished with value: 0.6629871466360436 and parameters: {'max_depth': 8, 'learning_rate': 0.015011839054922182, 'n_estimators': 437, 'subsample': 0.9515480590770802, 'colsample_bytree': 0.7493194257928675, 'gamma': 6.913201987155258e-05, 'reg_alpha': 2.7752411826065957e-05, 'reg_lambda': 5.909321759844644}. Best is trial 17 with value: 0.7444505251084199.\n",
            "[I 2025-10-19 08:28:58,790] Trial 39 finished with value: 0.7697416324484339 and parameters: {'max_depth': 3, 'learning_rate': 0.09971400901509164, 'n_estimators': 477, 'subsample': 0.8901650621006668, 'colsample_bytree': 0.9684981876019011, 'gamma': 7.225800529855257e-06, 'reg_alpha': 1.4399292682293753e-05, 'reg_lambda': 2.2656132448688955}. Best is trial 39 with value: 0.7697416324484339.\n",
            "[I 2025-10-19 08:28:59,319] Trial 40 finished with value: 0.7056433414288904 and parameters: {'max_depth': 3, 'learning_rate': 0.0848926649844525, 'n_estimators': 349, 'subsample': 0.8962013509671068, 'colsample_bytree': 0.9711779740977412, 'gamma': 0.00018648097251305526, 'reg_alpha': 1.694279856301653e-05, 'reg_lambda': 1.844871869235747}. Best is trial 39 with value: 0.7697416324484339.\n",
            "[I 2025-10-19 08:29:00,021] Trial 41 finished with value: 0.7108853079251153 and parameters: {'max_depth': 3, 'learning_rate': 0.026310906177549533, 'n_estimators': 478, 'subsample': 0.9406298908199601, 'colsample_bytree': 0.9594722767021027, 'gamma': 7.88595289259113e-06, 'reg_alpha': 1.2883238592264852e-06, 'reg_lambda': 0.14421352833925147}. Best is trial 39 with value: 0.7697416324484339.\n",
            "[I 2025-10-19 08:29:01,024] Trial 42 finished with value: 0.7101781524575642 and parameters: {'max_depth': 4, 'learning_rate': 0.051376199001960346, 'n_estimators': 457, 'subsample': 0.9027511557742993, 'colsample_bytree': 0.7145580900746594, 'gamma': 4.1904349785254253e-07, 'reg_alpha': 0.00032197624239576136, 'reg_lambda': 2.683458027520426}. Best is trial 39 with value: 0.7697416324484339.\n",
            "[I 2025-10-19 08:29:01,708] Trial 43 finished with value: 0.7294717871953403 and parameters: {'max_depth': 3, 'learning_rate': 0.09307595574314208, 'n_estimators': 500, 'subsample': 0.9609646477057013, 'colsample_bytree': 0.9281704278986255, 'gamma': 1.8469528881477065e-06, 'reg_alpha': 2.6677817265310525e-06, 'reg_lambda': 0.34240609521825427}. Best is trial 39 with value: 0.7697416324484339.\n",
            "[I 2025-10-19 08:29:02,433] Trial 44 finished with value: 0.6955409931703035 and parameters: {'max_depth': 3, 'learning_rate': 0.06355575704118996, 'n_estimators': 405, 'subsample': 0.9644408083120708, 'colsample_bytree': 0.9340476884333232, 'gamma': 2.232038992794841e-06, 'reg_alpha': 8.312563919683545e-05, 'reg_lambda': 0.373348042751312}. Best is trial 39 with value: 0.7697416324484339.\n",
            "[I 2025-10-19 08:29:03,185] Trial 45 finished with value: 0.6997333829365079 and parameters: {'max_depth': 4, 'learning_rate': 0.0931043153257127, 'n_estimators': 443, 'subsample': 0.9843963698765867, 'colsample_bytree': 0.9823486408604328, 'gamma': 8.87802178418413e-07, 'reg_alpha': 1.2566525443242938e-05, 'reg_lambda': 3.967561839181698}. Best is trial 39 with value: 0.7697416324484339.\n",
            "[I 2025-10-19 08:29:03,636] Trial 46 finished with value: 0.7331781291888853 and parameters: {'max_depth': 3, 'learning_rate': 0.05857527153164273, 'n_estimators': 279, 'subsample': 0.8070021189255863, 'colsample_bytree': 0.9478481900967513, 'gamma': 6.9034774427791e-08, 'reg_alpha': 5.331339775605596e-08, 'reg_lambda': 0.7740083901566899}. Best is trial 39 with value: 0.7697416324484339.\n",
            "[I 2025-10-19 08:29:03,868] Trial 47 finished with value: 0.6654070225938198 and parameters: {'max_depth': 3, 'learning_rate': 0.046284902029062255, 'n_estimators': 101, 'subsample': 0.8016275895641451, 'colsample_bytree': 0.9509728711522061, 'gamma': 2.9014050539199794e-08, 'reg_alpha': 9.457452078175522e-08, 'reg_lambda': 1.0615319409864132}. Best is trial 39 with value: 0.7697416324484339.\n",
            "[I 2025-10-19 08:29:04,388] Trial 48 finished with value: 0.7129656022064157 and parameters: {'max_depth': 4, 'learning_rate': 0.024004617722188655, 'n_estimators': 267, 'subsample': 0.7469070980250248, 'colsample_bytree': 0.9154630719317507, 'gamma': 1.027620596947259e-07, 'reg_alpha': 4.086557181996729e-08, 'reg_lambda': 2.9043844494428193}. Best is trial 39 with value: 0.7697416324484339.\n",
            "[I 2025-10-19 08:29:04,853] Trial 49 finished with value: 0.6096186335666534 and parameters: {'max_depth': 3, 'learning_rate': 0.004334033761789446, 'n_estimators': 286, 'subsample': 0.8389860357184489, 'colsample_bytree': 0.8870156387703081, 'gamma': 3.9670508013251425e-05, 'reg_alpha': 0.007490273830377417, 'reg_lambda': 0.09492570744554729}. Best is trial 39 with value: 0.7697416324484339.\n",
            "[I 2025-10-19 08:29:05,337] Trial 50 finished with value: 0.6959102240352241 and parameters: {'max_depth': 5, 'learning_rate': 0.06583751978453103, 'n_estimators': 225, 'subsample': 0.7928900368836507, 'colsample_bytree': 0.8907862211189407, 'gamma': 0.00045688802865563236, 'reg_alpha': 0.0007910381968926659, 'reg_lambda': 0.2412405292618746}. Best is trial 39 with value: 0.7697416324484339.\n",
            "[I 2025-10-19 08:29:05,633] Trial 51 finished with value: 0.6788349491743888 and parameters: {'max_depth': 3, 'learning_rate': 0.0936466002640113, 'n_estimators': 149, 'subsample': 0.8135175774062794, 'colsample_bytree': 0.9341967765995941, 'gamma': 0.00017054339486888452, 'reg_alpha': 5.506385816312101e-07, 'reg_lambda': 0.49954113794582355}. Best is trial 39 with value: 0.7697416324484339.\n",
            "[I 2025-10-19 08:29:06,602] Trial 52 finished with value: 0.753806959482511 and parameters: {'max_depth': 3, 'learning_rate': 0.06754588533626457, 'n_estimators': 323, 'subsample': 0.9154380276063739, 'colsample_bytree': 0.9791150951732163, 'gamma': 5.5698219048194455e-08, 'reg_alpha': 6.963371791955126e-05, 'reg_lambda': 8.289319230972316}. Best is trial 39 with value: 0.7697416324484339.\n",
            "[I 2025-10-19 08:29:07,047] Trial 53 finished with value: 0.7190318900819678 and parameters: {'max_depth': 4, 'learning_rate': 0.036582754203594275, 'n_estimators': 206, 'subsample': 0.884227582462837, 'colsample_bytree': 0.9851456921643587, 'gamma': 4.0616654207388084e-08, 'reg_alpha': 0.00021190059441967594, 'reg_lambda': 7.617509738752463}. Best is trial 39 with value: 0.7697416324484339.\n",
            "[I 2025-10-19 08:29:07,549] Trial 54 finished with value: 0.7811649676808393 and parameters: {'max_depth': 3, 'learning_rate': 0.05486034873354336, 'n_estimators': 313, 'subsample': 0.9142204719410622, 'colsample_bytree': 0.9545398647285142, 'gamma': 1.0838600457050507e-08, 'reg_alpha': 3.520634204644524e-05, 'reg_lambda': 1.165115511864263}. Best is trial 54 with value: 0.7811649676808393.\n",
            "[I 2025-10-19 08:29:08,042] Trial 55 finished with value: 0.711252905591141 and parameters: {'max_depth': 3, 'learning_rate': 0.06345823253474017, 'n_estimators': 316, 'subsample': 0.9127625111038035, 'colsample_bytree': 0.9524346927302242, 'gamma': 6.228588690548947e-08, 'reg_alpha': 8.306519761396726e-05, 'reg_lambda': 1.7399437870395864}. Best is trial 54 with value: 0.7811649676808393.\n",
            "[I 2025-10-19 08:29:08,754] Trial 56 finished with value: 0.7076466639342841 and parameters: {'max_depth': 11, 'learning_rate': 0.058850623081479335, 'n_estimators': 241, 'subsample': 0.9178464062662255, 'colsample_bytree': 0.9739272126656972, 'gamma': 1.4058874862996123e-08, 'reg_alpha': 5.7469901708483896e-05, 'reg_lambda': 8.528483220051656}. Best is trial 54 with value: 0.7811649676808393.\n",
            "[I 2025-10-19 08:29:09,094] Trial 57 finished with value: 0.7360824174443077 and parameters: {'max_depth': 3, 'learning_rate': 0.06926239624448043, 'n_estimators': 185, 'subsample': 0.7601894082398086, 'colsample_bytree': 0.9953196405688269, 'gamma': 3.379342900205651e-07, 'reg_alpha': 0.0020434897132619446, 'reg_lambda': 1.0601190581988646}. Best is trial 54 with value: 0.7811649676808393.\n",
            "[I 2025-10-19 08:29:09,578] Trial 58 finished with value: 0.6727008197233623 and parameters: {'max_depth': 8, 'learning_rate': 0.07565743195931082, 'n_estimators': 168, 'subsample': 0.750467353019214, 'colsample_bytree': 0.9903927441002413, 'gamma': 2.1557300984379167e-07, 'reg_alpha': 0.002728121051000213, 'reg_lambda': 4.155059400787798}. Best is trial 54 with value: 0.7811649676808393.\n",
            "[I 2025-10-19 08:29:09,959] Trial 59 finished with value: 0.6714112286817931 and parameters: {'max_depth': 4, 'learning_rate': 0.039200248709006624, 'n_estimators': 190, 'subsample': 0.8872269764873384, 'colsample_bytree': 0.9648608382251658, 'gamma': 3.9267994980371644e-07, 'reg_alpha': 0.18505766193621312, 'reg_lambda': 1.5301093214100796}. Best is trial 54 with value: 0.7811649676808393.\n",
            "[I 2025-10-19 08:29:10,529] Trial 60 finished with value: 0.5646398521688638 and parameters: {'max_depth': 3, 'learning_rate': 0.00047705356213744983, 'n_estimators': 366, 'subsample': 0.7042815479803295, 'colsample_bytree': 0.9925249964618366, 'gamma': 1.2076128114355883e-08, 'reg_alpha': 0.006693193431757943, 'reg_lambda': 0.18983120308602244}. Best is trial 54 with value: 0.7811649676808393.\n",
            "[I 2025-10-19 08:29:11,014] Trial 61 finished with value: 0.6828700715366783 and parameters: {'max_depth': 3, 'learning_rate': 0.07731847961066587, 'n_estimators': 297, 'subsample': 0.7716441751595196, 'colsample_bytree': 0.999787339326961, 'gamma': 5.9539653456274217e-08, 'reg_alpha': 0.0007136284348897596, 'reg_lambda': 0.753324861350346}. Best is trial 54 with value: 0.7811649676808393.\n",
            "[I 2025-10-19 08:29:11,525] Trial 62 finished with value: 0.725880643430301 and parameters: {'max_depth': 3, 'learning_rate': 0.05421961023253249, 'n_estimators': 329, 'subsample': 0.776899654597047, 'colsample_bytree': 0.9498184490050664, 'gamma': 9.858036556767252e-08, 'reg_alpha': 0.0001546110712741014, 'reg_lambda': 3.583712967069174}. Best is trial 54 with value: 0.7811649676808393.\n",
            "[I 2025-10-19 08:29:11,962] Trial 63 finished with value: 0.7291114326913599 and parameters: {'max_depth': 3, 'learning_rate': 0.04392669394061537, 'n_estimators': 264, 'subsample': 0.7538399494148266, 'colsample_bytree': 0.9770212034296798, 'gamma': 2.489576151014845e-08, 'reg_alpha': 2.0021467882749983e-05, 'reg_lambda': 0.732813157303508}. Best is trial 54 with value: 0.7811649676808393.\n",
            "[I 2025-10-19 08:29:12,549] Trial 64 finished with value: 0.6636832807285593 and parameters: {'max_depth': 4, 'learning_rate': 0.02890999168591076, 'n_estimators': 313, 'subsample': 0.9073576034059347, 'colsample_bytree': 0.946103835150502, 'gamma': 9.818290584935534e-07, 'reg_alpha': 0.001499206779914975, 'reg_lambda': 0.06818791130008234}. Best is trial 54 with value: 0.7811649676808393.\n",
            "[I 2025-10-19 08:29:13,220] Trial 65 finished with value: 0.6991854217257829 and parameters: {'max_depth': 4, 'learning_rate': 0.021276627989774314, 'n_estimators': 364, 'subsample': 0.7271276999603179, 'colsample_bytree': 0.9620411242059957, 'gamma': 3.8161904429033046e-06, 'reg_alpha': 0.0003521962995258281, 'reg_lambda': 1.9490391300215757}. Best is trial 54 with value: 0.7811649676808393.\n",
            "[I 2025-10-19 08:29:13,612] Trial 66 finished with value: 0.702907830592012 and parameters: {'max_depth': 3, 'learning_rate': 0.07025966481460844, 'n_estimators': 242, 'subsample': 0.7341305849286246, 'colsample_bytree': 0.919862608383979, 'gamma': 2.515633609269288e-07, 'reg_alpha': 4.359157909925506e-05, 'reg_lambda': 9.907546260552724}. Best is trial 54 with value: 0.7811649676808393.\n",
            "[I 2025-10-19 08:29:14,324] Trial 67 finished with value: 0.7161134917713865 and parameters: {'max_depth': 3, 'learning_rate': 0.03182121634949294, 'n_estimators': 482, 'subsample': 0.8732152366770112, 'colsample_bytree': 0.9681450185316322, 'gamma': 1.6613774384337628e-05, 'reg_alpha': 2.193628211630777e-07, 'reg_lambda': 2.1502402285286578e-07}. Best is trial 54 with value: 0.7811649676808393.\n",
            "[I 2025-10-19 08:29:14,640] Trial 68 finished with value: 0.7110271507592936 and parameters: {'max_depth': 4, 'learning_rate': 0.05615976724244845, 'n_estimators': 135, 'subsample': 0.8132560639414794, 'colsample_bytree': 0.9873358644471237, 'gamma': 5.460573150269387e-08, 'reg_alpha': 0.016238214553320265, 'reg_lambda': 0.35380176467200786}. Best is trial 54 with value: 0.7811649676808393.\n",
            "[I 2025-10-19 08:29:15,174] Trial 69 finished with value: 0.641957546279641 and parameters: {'max_depth': 10, 'learning_rate': 0.09940839453273433, 'n_estimators': 278, 'subsample': 0.9212795269812598, 'colsample_bytree': 0.9768666298731554, 'gamma': 2.1675738827960165e-08, 'reg_alpha': 7.521284980926213e-06, 'reg_lambda': 0.017185488407007475}. Best is trial 54 with value: 0.7811649676808393.\n",
            "[I 2025-10-19 08:29:15,692] Trial 70 finished with value: 0.7031878871253072 and parameters: {'max_depth': 3, 'learning_rate': 0.01584461582099419, 'n_estimators': 328, 'subsample': 0.842012103764104, 'colsample_bytree': 0.8220901600992417, 'gamma': 1.0264396779509971e-08, 'reg_alpha': 0.00018914529720290675, 'reg_lambda': 1.2030868557594567}. Best is trial 54 with value: 0.7811649676808393.\n",
            "[I 2025-10-19 08:29:16,640] Trial 71 finished with value: 0.666008590235225 and parameters: {'max_depth': 5, 'learning_rate': 0.043913282709967076, 'n_estimators': 487, 'subsample': 0.947436197607148, 'colsample_bytree': 0.9392023420832819, 'gamma': 1.577279986057604e-07, 'reg_alpha': 8.517430292492106e-06, 'reg_lambda': 4.651391118191711}. Best is trial 54 with value: 0.7811649676808393.\n",
            "[I 2025-10-19 08:29:17,431] Trial 72 finished with value: 0.6932358438698634 and parameters: {'max_depth': 4, 'learning_rate': 0.03876162901177001, 'n_estimators': 468, 'subsample': 0.9330479515534292, 'colsample_bytree': 0.7386536731603026, 'gamma': 2.8962499547056798e-05, 'reg_alpha': 3.1969351317137908e-06, 'reg_lambda': 0.17144920617078246}. Best is trial 54 with value: 0.7811649676808393.\n",
            "[I 2025-10-19 08:29:17,925] Trial 73 finished with value: 0.4262112970583096 and parameters: {'max_depth': 6, 'learning_rate': 0.0018655781615393226, 'n_estimators': 183, 'subsample': 0.9762391899942124, 'colsample_bytree': 0.7254291492830408, 'gamma': 1.1747419470239667e-05, 'reg_alpha': 2.249003315962618e-05, 'reg_lambda': 0.004985046526530026}. Best is trial 54 with value: 0.7811649676808393.\n",
            "[I 2025-10-19 08:29:18,515] Trial 74 finished with value: 0.7653564773089685 and parameters: {'max_depth': 3, 'learning_rate': 0.07863402231313091, 'n_estimators': 402, 'subsample': 0.9034458652063845, 'colsample_bytree': 0.848704151425126, 'gamma': 1.2260359212668742e-06, 'reg_alpha': 1.272805587878939e-06, 'reg_lambda': 0.04604606237219816}. Best is trial 54 with value: 0.7811649676808393.\n",
            "[I 2025-10-19 08:29:19,106] Trial 75 finished with value: 0.706489242632545 and parameters: {'max_depth': 3, 'learning_rate': 0.07935681606234293, 'n_estimators': 409, 'subsample': 0.8961004313128078, 'colsample_bytree': 0.8453445291594733, 'gamma': 8.013493291593955e-07, 'reg_alpha': 8.956601906068635e-07, 'reg_lambda': 0.5626952091976335}. Best is trial 54 with value: 0.7811649676808393.\n",
            "[I 2025-10-19 08:29:19,703] Trial 76 finished with value: 0.7593302351384248 and parameters: {'max_depth': 3, 'learning_rate': 0.052644724905090784, 'n_estimators': 395, 'subsample': 0.8765016136531368, 'colsample_bytree': 0.9571999711194891, 'gamma': 4.326989582161838e-06, 'reg_alpha': 1.9591297293306514e-08, 'reg_lambda': 0.03940939186747428}. Best is trial 54 with value: 0.7811649676808393.\n",
            "[I 2025-10-19 08:29:20,308] Trial 77 finished with value: 0.6995745832970097 and parameters: {'max_depth': 4, 'learning_rate': 0.07296484781353647, 'n_estimators': 373, 'subsample': 0.8707382204948105, 'colsample_bytree': 0.95972304029894, 'gamma': 4.321545947426942e-06, 'reg_alpha': 1.6538962888178477e-08, 'reg_lambda': 0.02200085058662297}. Best is trial 54 with value: 0.7811649676808393.\n",
            "[I 2025-10-19 08:29:20,900] Trial 78 finished with value: 0.7048283134490031 and parameters: {'max_depth': 3, 'learning_rate': 0.09990359210986967, 'n_estimators': 432, 'subsample': 0.9028007068235774, 'colsample_bytree': 0.7847330096535609, 'gamma': 1.2876176769138811e-06, 'reg_alpha': 6.999898089931403e-05, 'reg_lambda': 0.06635151484719883}. Best is trial 54 with value: 0.7811649676808393.\n",
            "[I 2025-10-19 08:29:21,487] Trial 79 finished with value: 0.7207973192348193 and parameters: {'max_depth': 3, 'learning_rate': 0.052727447692076, 'n_estimators': 397, 'subsample': 0.8572444882743476, 'colsample_bytree': 0.9045390034036284, 'gamma': 5.8144174654366445e-06, 'reg_alpha': 5.230643898534192e-06, 'reg_lambda': 0.00915907230161867}. Best is trial 54 with value: 0.7811649676808393.\n",
            "[I 2025-10-19 08:29:22,127] Trial 80 finished with value: 0.6702236698415104 and parameters: {'max_depth': 4, 'learning_rate': 0.031707340313892135, 'n_estimators': 356, 'subsample': 0.8891268249716453, 'colsample_bytree': 0.8777980162132094, 'gamma': 2.4999762356918905e-06, 'reg_alpha': 2.779030122604043e-07, 'reg_lambda': 0.03473402580680158}. Best is trial 54 with value: 0.7811649676808393.\n",
            "[I 2025-10-19 08:29:22,609] Trial 81 finished with value: 0.7864289251816192 and parameters: {'max_depth': 3, 'learning_rate': 0.06177401357230063, 'n_estimators': 293, 'subsample': 0.9248326616910855, 'colsample_bytree': 0.9823400091822234, 'gamma': 4.106712271732638e-08, 'reg_alpha': 2.7775082216091577e-08, 'reg_lambda': 1.0144375188819201}. Best is trial 81 with value: 0.7864289251816192.\n",
            "[I 2025-10-19 08:29:23,132] Trial 82 finished with value: 0.7305201902388603 and parameters: {'max_depth': 3, 'learning_rate': 0.04270974578013498, 'n_estimators': 333, 'subsample': 0.9248526446971408, 'colsample_bytree': 0.9796514063488269, 'gamma': 5.156201778246012e-07, 'reg_alpha': 3.391684686681788e-08, 'reg_lambda': 2.730607223393688}. Best is trial 81 with value: 0.7864289251816192.\n",
            "[I 2025-10-19 08:29:23,610] Trial 83 finished with value: 0.7017107712689609 and parameters: {'max_depth': 3, 'learning_rate': 0.07997174495151814, 'n_estimators': 301, 'subsample': 0.9068340181120788, 'colsample_bytree': 0.9954980028239262, 'gamma': 3.506091778273843e-07, 'reg_alpha': 1.0153967347191571e-08, 'reg_lambda': 1.223914447644038}. Best is trial 81 with value: 0.7864289251816192.\n",
            "[I 2025-10-19 08:29:24,248] Trial 84 finished with value: 0.7380803045134942 and parameters: {'max_depth': 3, 'learning_rate': 0.06341969921150899, 'n_estimators': 447, 'subsample': 0.8809286003596972, 'colsample_bytree': 0.9560709117910896, 'gamma': 1.5363211339810995e-06, 'reg_alpha': 1.4516714962267976e-05, 'reg_lambda': 9.177315850165225e-05}. Best is trial 81 with value: 0.7864289251816192.\n",
            "[I 2025-10-19 08:29:24,993] Trial 85 finished with value: 0.6926901332380458 and parameters: {'max_depth': 4, 'learning_rate': 0.05050537278161161, 'n_estimators': 451, 'subsample': 0.877325271269258, 'colsample_bytree': 0.9561270651175892, 'gamma': 2.969428335010015e-06, 'reg_alpha': 1.1891352659436688e-05, 'reg_lambda': 2.4004513981779358e-05}. Best is trial 81 with value: 0.7864289251816192.\n",
            "[I 2025-10-19 08:29:25,716] Trial 86 finished with value: 0.7321966659769532 and parameters: {'max_depth': 3, 'learning_rate': 0.023852563829940797, 'n_estimators': 489, 'subsample': 0.9138897418873914, 'colsample_bytree': 0.9675158550174695, 'gamma': 1.4585352518707888e-06, 'reg_alpha': 3.178102445748617e-05, 'reg_lambda': 0.0001414835906347578}. Best is trial 81 with value: 0.7864289251816192.\n",
            "[I 2025-10-19 08:29:26,388] Trial 87 finished with value: 0.752900700083308 and parameters: {'max_depth': 3, 'learning_rate': 0.0594542820598828, 'n_estimators': 468, 'subsample': 0.9442642262022505, 'colsample_bytree': 0.8625985071041774, 'gamma': 2.5322657103871647e-05, 'reg_alpha': 1.625765109596831e-05, 'reg_lambda': 3.230772517324383e-05}. Best is trial 81 with value: 0.7864289251816192.\n",
            "[I 2025-10-19 08:29:27,199] Trial 88 finished with value: 0.6970213976047408 and parameters: {'max_depth': 4, 'learning_rate': 0.03385709123907325, 'n_estimators': 469, 'subsample': 0.9582328883883567, 'colsample_bytree': 0.8614419857187599, 'gamma': 5.852996209521659e-05, 'reg_alpha': 8.42205116405834e-08, 'reg_lambda': 7.67170357439538e-06}. Best is trial 81 with value: 0.7864289251816192.\n",
            "[I 2025-10-19 08:29:28,016] Trial 89 finished with value: 0.7069826509382431 and parameters: {'max_depth': 4, 'learning_rate': 0.028315498383755206, 'n_estimators': 476, 'subsample': 0.9327385436379503, 'colsample_bytree': 0.8230067200242094, 'gamma': 2.400635372322779e-05, 'reg_alpha': 1.3233860527103141e-06, 'reg_lambda': 1.2825718767072093e-06}. Best is trial 81 with value: 0.7864289251816192.\n",
            "[I 2025-10-19 08:29:28,444] Trial 90 finished with value: 0.7036743389662585 and parameters: {'max_depth': 3, 'learning_rate': 0.08278893066495768, 'n_estimators': 317, 'subsample': 0.943004719771271, 'colsample_bytree': 0.763520822641972, 'gamma': 9.856796516655841e-06, 'reg_alpha': 5.5742269239511915, 'reg_lambda': 0.00033182781533123794}. Best is trial 81 with value: 0.7864289251816192.\n",
            "[I 2025-10-19 08:29:29,058] Trial 91 finished with value: 0.7457907049037564 and parameters: {'max_depth': 3, 'learning_rate': 0.06200248676585908, 'n_estimators': 416, 'subsample': 0.9522481962478421, 'colsample_bytree': 0.8969673045879428, 'gamma': 0.00013737365804322027, 'reg_alpha': 0.00011528553196290262, 'reg_lambda': 7.81141099405903e-05}. Best is trial 81 with value: 0.7864289251816192.\n",
            "[I 2025-10-19 08:29:29,685] Trial 92 finished with value: 0.7716994292660599 and parameters: {'max_depth': 3, 'learning_rate': 0.05753513362552931, 'n_estimators': 429, 'subsample': 0.9539713195778866, 'colsample_bytree': 0.8527939815312661, 'gamma': 0.0001406940479030056, 'reg_alpha': 4.957748840704408e-05, 'reg_lambda': 0.0004983012358908195}. Best is trial 81 with value: 0.7864289251816192.\n",
            "[I 2025-10-19 08:29:30,298] Trial 93 finished with value: 0.7306555090567838 and parameters: {'max_depth': 3, 'learning_rate': 0.058004329953123164, 'n_estimators': 415, 'subsample': 0.9491952003559504, 'colsample_bytree': 0.8488688154196066, 'gamma': 0.00011370794914380752, 'reg_alpha': 0.00011514453824609912, 'reg_lambda': 3.7615855624126954e-05}. Best is trial 81 with value: 0.7864289251816192.\n",
            "[I 2025-10-19 08:29:30,883] Trial 94 finished with value: 0.7542695656811369 and parameters: {'max_depth': 3, 'learning_rate': 0.06820737450597315, 'n_estimators': 397, 'subsample': 0.9567601431707933, 'colsample_bytree': 0.8557544692336078, 'gamma': 0.00015297227361420315, 'reg_alpha': 4.208122874110544e-05, 'reg_lambda': 1.2214909568029285e-05}. Best is trial 81 with value: 0.7864289251816192.\n",
            "[I 2025-10-19 08:29:31,458] Trial 95 finished with value: 0.7533171819966175 and parameters: {'max_depth': 3, 'learning_rate': 0.08818558094527178, 'n_estimators': 396, 'subsample': 0.9564096579099376, 'colsample_bytree': 0.8408023875059227, 'gamma': 0.00042950759472782057, 'reg_alpha': 4.3479695576979e-05, 'reg_lambda': 1.271897030924536e-05}. Best is trial 81 with value: 0.7864289251816192.\n",
            "[I 2025-10-19 08:29:32,039] Trial 96 finished with value: 0.7322414998196247 and parameters: {'max_depth': 3, 'learning_rate': 0.08684873773406901, 'n_estimators': 400, 'subsample': 0.9829405442066144, 'colsample_bytree': 0.8359098626285978, 'gamma': 0.00031358898652342177, 'reg_alpha': 2.3931796237216375e-08, 'reg_lambda': 2.667961704809319e-06}. Best is trial 81 with value: 0.7864289251816192.\n",
            "[I 2025-10-19 08:29:32,663] Trial 97 finished with value: 0.715192403083028 and parameters: {'max_depth': 3, 'learning_rate': 0.07203856117005521, 'n_estimators': 429, 'subsample': 0.9623042964267133, 'colsample_bytree': 0.8544685642591913, 'gamma': 0.0008214623595400005, 'reg_alpha': 4.592122465426685e-05, 'reg_lambda': 8.941433955860361e-06}. Best is trial 81 with value: 0.7864289251816192.\n",
            "[I 2025-10-19 08:29:33,350] Trial 98 finished with value: 0.7143014523558878 and parameters: {'max_depth': 4, 'learning_rate': 0.04136858112944615, 'n_estimators': 389, 'subsample': 0.925298803787402, 'colsample_bytree': 0.8665047007024185, 'gamma': 0.001752897654340711, 'reg_alpha': 5.263335799687133e-05, 'reg_lambda': 4.134212375947816e-06}. Best is trial 81 with value: 0.7864289251816192.\n",
            "[I 2025-10-19 08:29:33,922] Trial 99 finished with value: 0.7776904938699294 and parameters: {'max_depth': 3, 'learning_rate': 0.08266066431700182, 'n_estimators': 392, 'subsample': 0.9006881925212828, 'colsample_bytree': 0.8409362427378273, 'gamma': 0.000332878185592829, 'reg_alpha': 1.9013081045763863e-05, 'reg_lambda': 0.000662092090933779}. Best is trial 81 with value: 0.7864289251816192.\n"
          ]
        },
        {
          "name": "stdout",
          "output_type": "stream",
          "text": [
            "Mejores parámetros con SMOTE: {'max_depth': 3, 'learning_rate': 0.06177401357230063, 'n_estimators': 293, 'subsample': 0.9248326616910855, 'colsample_bytree': 0.9823400091822234, 'gamma': 4.106712271732638e-08, 'reg_alpha': 2.7775082216091577e-08, 'reg_lambda': 1.0144375188819201}\n",
            "Mejor AUC-PR (cv valida, SMOTE): 0.7864289251816192\n"
          ]
        }
      ],
      "source": [
        "# Optuna con SMOTE para balancear la clase minoritaria (85:15) No invasivo \n",
        "from imblearn.over_sampling import SMOTE\n",
        "\n",
        "\n",
        "def objective_smote(trial):\n",
        "    params = {\n",
        "        \"max_depth\": trial.suggest_int(\"max_depth\", 3, 12),\n",
        "        \"learning_rate\": trial.suggest_loguniform(\"learning_rate\", 1e-4, 1e-1),\n",
        "        \"n_estimators\": trial.suggest_int(\"n_estimators\", 100, 500),\n",
        "        \"subsample\": trial.suggest_uniform(\"subsample\", 0.7, 1.0),\n",
        "        \"colsample_bytree\": trial.suggest_uniform(\"colsample_bytree\", 0.7, 1.0),\n",
        "        \"gamma\": trial.suggest_loguniform(\"gamma\", 1e-8, 1.0),\n",
        "        \"reg_alpha\": trial.suggest_loguniform(\"reg_alpha\", 1e-8, 10.0),\n",
        "        \"reg_lambda\": trial.suggest_loguniform(\"reg_lambda\", 1e-8, 10.0),\n",
        "        \"scale_pos_weight\": (len(y_train) - y_train.sum()) / y_train.sum(),\n",
        "        \"random_state\": 42,\n",
        "        \"tree_method\": \"auto\",\n",
        "        \"use_label_encoder\": False,\n",
        "        \"eval_metric\": \"aucpr\"\n",
        "    }\n",
        "    # Split train/validation\n",
        "    X_tr, X_val, y_tr, y_val = train_test_split(X_train, y_train, test_size=0.2, random_state=42, stratify=y_train)\n",
        "    # Aplicar SMOTE para rebalancear la clase minoritaria a 10% (ratio 0.1)\n",
        "    sm = SMOTE(sampling_strategy=0.15, random_state=42)\n",
        "    X_tr_sm, y_tr_sm = sm.fit_resample(X_tr, y_tr)\n",
        "    model = xgb.XGBClassifier(**params)\n",
        "    model.fit(X_tr_sm, y_tr_sm, eval_set=[(X_val, y_val)], verbose=False)\n",
        "    y_val_pred = model.predict_proba(X_val)[:, 1]\n",
        "    auc_pr = average_precision_score(y_val, y_val_pred)\n",
        "    return auc_pr\n",
        "\n",
        "study_smote = optuna.create_study(direction=\"maximize\", study_name=\"xgb_aucpr_smote\")\n",
        "study_smote.optimize(objective_smote, n_trials=100)\n",
        "\n",
        "print(\"Mejores parámetros con SMOTE:\", study_smote.best_trial.params)\n",
        "print(\"Mejor AUC-PR (cv valida, SMOTE):\", study_smote.best_value)\n"
      ]
    },
    {
      "cell_type": "code",
      "execution_count": null,
      "metadata": {},
      "outputs": [
        {
          "name": "stdout",
          "output_type": "stream",
          "text": [
            "Modelo entrenado con Optuna y mejores hiperparámetros\n"
          ]
        }
      ],
      "source": [
        "\n",
        "# Entrenamos el modelo final con los mejores parámetros encontrados\n",
        "best_params = study_smote.best_trial.params\n",
        "best_params[\"scale_pos_weight\"] = (len(y_train) - y_train.sum()) / y_train.sum()\n",
        "best_params[\"random_state\"] = 42\n",
        "best_params[\"tree_method\"] = \"auto\"\n",
        "best_params[\"use_label_encoder\"] = False\n",
        "best_params[\"eval_metric\"] = \"aucpr\"\n",
        "\n",
        "model_smote = xgb.XGBClassifier(**best_params)\n",
        "model_smote.fit(X_train, y_train, verbose=False)\n",
        "print('Modelo entrenado con Optuna y mejores hiperparámetros')\n"
      ]
    },
    {
      "cell_type": "code",
      "execution_count": null,
      "metadata": {},
      "outputs": [],
      "source": [
        "# Predicciones\n",
        "y_pred_prob = model_smote.predict_proba(X_test)[:, 1]\n",
        "y_pred = model_smote.predict(X_test)\n",
        "\n",
        "tmp=pd.DataFrame(zip(y_pred_prob, y_test)).rename(columns={0:'proba', 1:'target'})\n",
        "\n"
      ]
    },
    {
      "cell_type": "code",
      "execution_count": null,
      "metadata": {},
      "outputs": [
        {
          "data": {
            "image/png": "[encoded data removed]",
            "text/plain": [
              "<Figure size 400x300 with 2 Axes>"
            ]
          },
          "metadata": {},
          "output_type": "display_data"
        },
        {
          "name": "stdout",
          "output_type": "stream",
          "text": [
            "True Negatives: 245\n",
            "False Positives: 83 (falsas alarmas)\n",
            "False Negatives: 8 (fallas NO detectadas)\n",
            "True Positives: 15 (fallas detectadas)\n",
            "precision: 0.15306122448979592\n",
            "AUC PR (Average Precision): 0.2246\n"
          ]
        }
      ],
      "source": [
        "# Matriz de confusión\n",
        "threshold = 0.05\n",
        "y_pred_th = (y_pred > threshold).astype(int)\n",
        "\n",
        "cm = confusion_matrix(y_test, y_pred)\n",
        "\n",
        "plt.figure(figsize=(4, 3))\n",
        "sns.heatmap(cm, annot=True, fmt='d', cmap='Blues')\n",
        "plt.title('Matriz de Confusión')\n",
        "plt.ylabel('Real')\n",
        "plt.xlabel('Predicho')\n",
        "plt.show()\n",
        "\n",
        "tn, fp, fn, tp = cm.ravel()\n",
        "print(f'True Negatives: {tn}')\n",
        "print(f'False Positives: {fp} (falsas alarmas)')\n",
        "print(f'False Negatives: {fn} (fallas NO detectadas)')\n",
        "print(f'True Positives: {tp} (fallas detectadas)')\n",
        "print(f\"precision: {tp/(tp+fp)}\")\n",
        "\n",
        "aucpr = average_precision_score(y_test, y_pred_prob)\n",
        "print(f\"AUC PR (Average Precision): {aucpr:.4f}\")\n"
      ]
    },
    {
      "cell_type": "code",
      "execution_count": 1228,
      "metadata": {},
      "outputs": [],
      "source": [
        "model_smote.save_model('../models/modelo_ultimo_evento.json')"
      ]
    },
    {
      "cell_type": "markdown",
      "metadata": {},
      "source": [
        "## Modelado con LSTM\n",
        "\n"
      ]
    },
    {
      "cell_type": "markdown",
      "metadata": {},
      "source": [
        "### procesamiento de datos"
      ]
    },
    {
      "cell_type": "code",
      "execution_count": null,
      "metadata": {},
      "outputs": [
        {
          "data": {
            "text/html": [
              "<div>\n",
              "<style scoped>\n",
              "    .dataframe tbody tr th:only-of-type {\n",
              "        vertical-align: middle;\n",
              "    }\n",
              "\n",
              "    .dataframe tbody tr th {\n",
              "        vertical-align: top;\n",
              "    }\n",
              "\n",
              "    .dataframe thead th {\n",
              "        text-align: right;\n",
              "    }\n",
              "</style>\n",
              "<table border=\"1\" class=\"dataframe\">\n",
              "  <thead>\n",
              "    <tr style=\"text-align: right;\">\n",
              "      <th></th>\n",
              "      <th>date</th>\n",
              "      <th>device</th>\n",
              "      <th>failure</th>\n",
              "      <th>attribute1</th>\n",
              "      <th>attribute2</th>\n",
              "      <th>attribute3</th>\n",
              "      <th>attribute4</th>\n",
              "      <th>attribute5</th>\n",
              "      <th>attribute6</th>\n",
              "      <th>attribute7</th>\n",
              "      <th>attribute8</th>\n",
              "      <th>attribute9</th>\n",
              "    </tr>\n",
              "  </thead>\n",
              "  <tbody>\n",
              "    <tr>\n",
              "      <th>0</th>\n",
              "      <td>2015-01-01</td>\n",
              "      <td>S1F01085</td>\n",
              "      <td>0</td>\n",
              "      <td>215630672</td>\n",
              "      <td>56</td>\n",
              "      <td>0</td>\n",
              "      <td>52</td>\n",
              "      <td>6</td>\n",
              "      <td>407438</td>\n",
              "      <td>0</td>\n",
              "      <td>0</td>\n",
              "      <td>7</td>\n",
              "    </tr>\n",
              "    <tr>\n",
              "      <th>1</th>\n",
              "      <td>2015-01-01</td>\n",
              "      <td>S1F0166B</td>\n",
              "      <td>0</td>\n",
              "      <td>61370680</td>\n",
              "      <td>0</td>\n",
              "      <td>3</td>\n",
              "      <td>0</td>\n",
              "      <td>6</td>\n",
              "      <td>403174</td>\n",
              "      <td>0</td>\n",
              "      <td>0</td>\n",
              "      <td>0</td>\n",
              "    </tr>\n",
              "  </tbody>\n",
              "</table>\n",
              "</div>"
            ],
            "text/plain": [
              "         date    device  failure  attribute1  attribute2  attribute3  \\\n",
              "0  2015-01-01  S1F01085        0   215630672          56           0   \n",
              "1  2015-01-01  S1F0166B        0    61370680           0           3   \n",
              "\n",
              "   attribute4  attribute5  attribute6  attribute7  attribute8  attribute9  \n",
              "0          52           6      407438           0           0           7  \n",
              "1           0           6      403174           0           0           0  "
            ]
          },
          "execution_count": 402,
          "metadata": {},
          "output_type": "execute_result"
        }
      ],
      "source": [
        "path='../data/full_devices.csv'\n",
        "df = pd.read_csv(path, encoding='Latin-1')\n",
        "df.head(2)"
      ]
    },
    {
      "cell_type": "code",
      "execution_count": null,
      "metadata": {},
      "outputs": [
        {
          "name": "stdout",
          "output_type": "stream",
          "text": [
            "Shape antes: (124494, 12)\n",
            "\n",
            "Shape después: (124494, 13)\n",
            "Nulls en target: 1169\n",
            "\n",
            "Shape final: (123325, 13)\n",
            "Distribución target: {0.0: 123219, 1.0: 106}\n"
          ]
        }
      ],
      "source": [
        "#movemos el target para ver un dia antes de la falla, y eliminamos el ultimo registro de falla. \n",
        "print(f'Shape antes: {df.shape}')\n",
        "\n",
        "df['target'] = df.sort_values(['device','date']).groupby('device')['failure'].shift(-1)\n",
        "\n",
        "print(f'\\nShape después: {df.shape}')\n",
        "print(f'Nulls en target: {df[\"target\"].isna().sum()}')\n",
        "\n",
        "# Eliminar nulls (última fila de cada device)\n",
        "df = df.dropna(subset=['target'])\n",
        "print(f'\\nShape final: {df.shape}')\n",
        "print(f'Distribución target: {df[\"target\"].value_counts().to_dict()}')\n",
        "\n",
        "df['date'] = pd.to_datetime(df['date'])"
      ]
    },
    {
      "cell_type": "code",
      "execution_count": null,
      "metadata": {},
      "outputs": [
        {
          "name": "stdout",
          "output_type": "stream",
          "text": [
            "Forma de X_lstm: (109643, 15, 9)\n",
            "Primer shape ventana: (15, 9)\n",
            "Y_lstm ejemplo: [0. 0. 0. 0. 0. 0. 0. 0. 0. 0.]\n"
          ]
        }
      ],
      "source": [
        "\n",
        "window_size = 15\n",
        "features_lstm = [col for col in df.columns if col not in ['date', 'device', 'failure','target','extended_target']]\n",
        "X_lstm = []\n",
        "y_lstm = []\n",
        "device_ids = []\n",
        "\n",
        "# Ordenamos por device y fecha para que las ventanas tengan sentido cronológicamente\n",
        "df_sorted = df.sort_values(['device', 'date']).reset_index(drop=True)\n",
        "\n",
        "for device, device_df in df_sorted.groupby('device'):\n",
        "    device_df = device_df.reset_index(drop=True)\n",
        "    for i in range(window_size, len(device_df)):\n",
        "        window_features = device_df.loc[i-window_size:i-1, features_lstm].values\n",
        "        target = device_df.loc[i, 'target']\n",
        "        X_lstm.append(window_features)\n",
        "        y_lstm.append(target)\n",
        "        device_ids.append(device)\n",
        "\n",
        "X_lstm = np.array(X_lstm)\n",
        "y_lstm = np.array(y_lstm)\n",
        "device_ids = np.array(device_ids)\n",
        "\n",
        "print(f'Forma de X_lstm: {X_lstm.shape}')\n",
        "print(f'Primer shape ventana: {X_lstm[0].shape}')\n",
        "print(f'Y_lstm ejemplo: {y_lstm[:10]}')\n",
        "\n",
        "# df_lstm es para referencia de device y fecha objetivo si queremos invocar luego\n",
        "df_lstm_meta = df_sorted.groupby('device').apply(lambda d: d.iloc[window_size:][['device', 'date']]).reset_index(drop=True)\n"
      ]
    },
    {
      "cell_type": "code",
      "execution_count": null,
      "metadata": {},
      "outputs": [
        {
          "data": {
            "text/plain": [
              "(109643, 15, 9)"
            ]
          },
          "execution_count": 405,
          "metadata": {},
          "output_type": "execute_result"
        }
      ],
      "source": [
        "#tenemos nuestro dataset con los registros, cada uno con su ventana de 15 registros X featueres\n",
        "X_lstm.shape"
      ]
    },
    {
      "cell_type": "code",
      "execution_count": null,
      "metadata": {},
      "outputs": [
        {
          "name": "stdout",
          "output_type": "stream",
          "text": [
            "Tamaño train: 87810, test: 21833\n",
            "Fecha inicial train: 2015-01-16 00:00:00, Fecha final train: 2015-07-12 00:00:00\n",
            "Fecha inicial test: 2015-07-13 00:00:00, Fecha final test: 2015-10-31 00:00:00\n",
            "target train:  81.0 target test:  16.0\n"
          ]
        }
      ],
      "source": [
        "\n",
        "\n",
        "# Ordenar por fecha, obtener el percentil 80 para cutoff\n",
        "cutoff_date = df_lstm_meta['date'].quantile(0.8)\n",
        "\n",
        "# Entrenamiento y test usando la fecha como corte\n",
        "train_idx = df_lstm_meta['date'] <= cutoff_date\n",
        "test_idx = df_lstm_meta['date'] > cutoff_date\n",
        "\n",
        "X_train, X_test = X_lstm[train_idx], X_lstm[test_idx]\n",
        "y_train, y_test = y_lstm[train_idx], y_lstm[test_idx]\n",
        "\n",
        "print(f\"Tamaño train: {X_train.shape[0]}, test: {X_test.shape[0]}\")\n",
        "print(f\"Fecha inicial train: {df_lstm_meta['date'][train_idx].min()}, Fecha final train: {df_lstm_meta['date'][train_idx].max()}\")\n",
        "print(f\"Fecha inicial test: {df_lstm_meta['date'][test_idx].min()}, Fecha final test: {df_lstm_meta['date'][test_idx].max()}\")\n",
        "print(\"target train: \", y_train.sum(), \"target test: \", y_test.sum())\n"
      ]
    },
    {
      "cell_type": "markdown",
      "metadata": {},
      "source": [
        "### crear modelo LSTM"
      ]
    },
    {
      "cell_type": "code",
      "execution_count": null,
      "metadata": {},
      "outputs": [
        {
          "data": {
            "text/plain": [
              "826"
            ]
          },
          "execution_count": 1074,
          "metadata": {},
          "output_type": "execute_result"
        }
      ],
      "source": [
        "\n",
        "feature_cols =['attribute1','attribute2','attribute3','attribute4','attribute5','attribute6','attribute7','attribute9']\n",
        "\n",
        "train_eventos.device.drop_duplicates().count()"
      ]
    },
    {
      "cell_type": "code",
      "execution_count": null,
      "metadata": {},
      "outputs": [
        {
          "name": "stdout",
          "output_type": "stream",
          "text": [
            "Shape X: (826, 15, 8) Shape y: (826,)\n",
            "Shape X: (349, 15, 8) Shape y: (349,)\n"
          ]
        }
      ],
      "source": [
        "\n",
        "n_timesteps = 15\n",
        "target_col = 'target'  \n",
        "\n",
        "# crear tensor para la lstm basado en device e historial de atributos\n",
        "def create_lstm_data(df, feature_cols, target_col, n_timesteps):    \n",
        "\n",
        "    X_list, y_list, ref_meta = [], [], []\n",
        "\n",
        "    for dev, g in df.groupby('device'):\n",
        "        g = g.reset_index(drop=True)\n",
        "\n",
        "        X_dev = g[feature_cols].to_numpy(dtype='float32')\n",
        "\n",
        "        if len(X_dev) < n_timesteps:\n",
        "            pad_len = n_timesteps - len(X_dev)\n",
        "            pad = np.zeros((pad_len, X_dev.shape[1]), dtype='float32')\n",
        "            X_dev = np.vstack([pad, X_dev])\n",
        "\n",
        "        y_value = g[target_col].iloc[-1] if target_col in g.columns else g['failure'].iloc[-1]\n",
        "\n",
        "        X_list.append(X_dev)\n",
        "        y_list.append(y_value)\n",
        "        ref_meta.append(dev)\n",
        "    return np.stack(X_list), np.array(y_list, dtype='float32'), np.array(ref_meta)\n",
        "\n",
        "# --- convertir a tensores \n",
        "\n",
        "X_train_lstm, y_train_lstm, ref_meta = create_lstm_data(train_eventos, feature_cols, target_col, n_timesteps)\n",
        "X_test_lstm, y_test_lstm, ref_meta_test = create_lstm_data(test_eventos, feature_cols, target_col, n_timesteps)\n",
        "\n",
        "print(\"Shape X:\", X_train_lstm.shape, \"Shape y:\", y_train_lstm.shape)\n",
        "print(\"Shape X:\", X_test_lstm.shape, \"Shape y:\", y_test_lstm.shape)\n",
        "\n"
      ]
    },
    {
      "cell_type": "code",
      "execution_count": null,
      "metadata": {},
      "outputs": [
        {
          "data": {
            "text/html": [
              "<div>\n",
              "<style scoped>\n",
              "    .dataframe tbody tr th:only-of-type {\n",
              "        vertical-align: middle;\n",
              "    }\n",
              "\n",
              "    .dataframe tbody tr th {\n",
              "        vertical-align: top;\n",
              "    }\n",
              "\n",
              "    .dataframe thead th {\n",
              "        text-align: right;\n",
              "    }\n",
              "</style>\n",
              "<table border=\"1\" class=\"dataframe\">\n",
              "  <thead>\n",
              "    <tr style=\"text-align: right;\">\n",
              "      <th></th>\n",
              "      <th>0</th>\n",
              "      <th>1</th>\n",
              "      <th>2</th>\n",
              "      <th>3</th>\n",
              "      <th>4</th>\n",
              "      <th>5</th>\n",
              "      <th>6</th>\n",
              "      <th>7</th>\n",
              "    </tr>\n",
              "  </thead>\n",
              "  <tbody>\n",
              "    <tr>\n",
              "      <th>0</th>\n",
              "      <td>230172272.0</td>\n",
              "      <td>0.0</td>\n",
              "      <td>0.0</td>\n",
              "      <td>0.0</td>\n",
              "      <td>12.0</td>\n",
              "      <td>259363.0</td>\n",
              "      <td>0.0</td>\n",
              "      <td>0.0</td>\n",
              "    </tr>\n",
              "    <tr>\n",
              "      <th>1</th>\n",
              "      <td>129496320.0</td>\n",
              "      <td>0.0</td>\n",
              "      <td>0.0</td>\n",
              "      <td>0.0</td>\n",
              "      <td>12.0</td>\n",
              "      <td>259363.0</td>\n",
              "      <td>0.0</td>\n",
              "      <td>0.0</td>\n",
              "    </tr>\n",
              "    <tr>\n",
              "      <th>2</th>\n",
              "      <td>36442656.0</td>\n",
              "      <td>0.0</td>\n",
              "      <td>0.0</td>\n",
              "      <td>0.0</td>\n",
              "      <td>12.0</td>\n",
              "      <td>259365.0</td>\n",
              "      <td>0.0</td>\n",
              "      <td>0.0</td>\n",
              "    </tr>\n",
              "    <tr>\n",
              "      <th>3</th>\n",
              "      <td>49528440.0</td>\n",
              "      <td>0.0</td>\n",
              "      <td>0.0</td>\n",
              "      <td>0.0</td>\n",
              "      <td>12.0</td>\n",
              "      <td>259365.0</td>\n",
              "      <td>0.0</td>\n",
              "      <td>0.0</td>\n",
              "    </tr>\n",
              "    <tr>\n",
              "      <th>4</th>\n",
              "      <td>25414696.0</td>\n",
              "      <td>0.0</td>\n",
              "      <td>0.0</td>\n",
              "      <td>0.0</td>\n",
              "      <td>12.0</td>\n",
              "      <td>259365.0</td>\n",
              "      <td>0.0</td>\n",
              "      <td>0.0</td>\n",
              "    </tr>\n",
              "    <tr>\n",
              "      <th>5</th>\n",
              "      <td>68029784.0</td>\n",
              "      <td>0.0</td>\n",
              "      <td>0.0</td>\n",
              "      <td>0.0</td>\n",
              "      <td>12.0</td>\n",
              "      <td>259428.0</td>\n",
              "      <td>0.0</td>\n",
              "      <td>0.0</td>\n",
              "    </tr>\n",
              "    <tr>\n",
              "      <th>6</th>\n",
              "      <td>156867520.0</td>\n",
              "      <td>0.0</td>\n",
              "      <td>0.0</td>\n",
              "      <td>0.0</td>\n",
              "      <td>12.0</td>\n",
              "      <td>259433.0</td>\n",
              "      <td>0.0</td>\n",
              "      <td>0.0</td>\n",
              "    </tr>\n",
              "    <tr>\n",
              "      <th>7</th>\n",
              "      <td>121080488.0</td>\n",
              "      <td>0.0</td>\n",
              "      <td>0.0</td>\n",
              "      <td>0.0</td>\n",
              "      <td>12.0</td>\n",
              "      <td>259438.0</td>\n",
              "      <td>0.0</td>\n",
              "      <td>0.0</td>\n",
              "    </tr>\n",
              "    <tr>\n",
              "      <th>8</th>\n",
              "      <td>85168544.0</td>\n",
              "      <td>0.0</td>\n",
              "      <td>0.0</td>\n",
              "      <td>0.0</td>\n",
              "      <td>12.0</td>\n",
              "      <td>259443.0</td>\n",
              "      <td>0.0</td>\n",
              "      <td>0.0</td>\n",
              "    </tr>\n",
              "    <tr>\n",
              "      <th>9</th>\n",
              "      <td>57781112.0</td>\n",
              "      <td>0.0</td>\n",
              "      <td>0.0</td>\n",
              "      <td>0.0</td>\n",
              "      <td>12.0</td>\n",
              "      <td>259450.0</td>\n",
              "      <td>0.0</td>\n",
              "      <td>0.0</td>\n",
              "    </tr>\n",
              "    <tr>\n",
              "      <th>10</th>\n",
              "      <td>182622176.0</td>\n",
              "      <td>0.0</td>\n",
              "      <td>0.0</td>\n",
              "      <td>0.0</td>\n",
              "      <td>12.0</td>\n",
              "      <td>259460.0</td>\n",
              "      <td>0.0</td>\n",
              "      <td>0.0</td>\n",
              "    </tr>\n",
              "    <tr>\n",
              "      <th>11</th>\n",
              "      <td>79408632.0</td>\n",
              "      <td>0.0</td>\n",
              "      <td>0.0</td>\n",
              "      <td>0.0</td>\n",
              "      <td>12.0</td>\n",
              "      <td>259463.0</td>\n",
              "      <td>0.0</td>\n",
              "      <td>0.0</td>\n",
              "    </tr>\n",
              "    <tr>\n",
              "      <th>12</th>\n",
              "      <td>83214688.0</td>\n",
              "      <td>0.0</td>\n",
              "      <td>0.0</td>\n",
              "      <td>0.0</td>\n",
              "      <td>12.0</td>\n",
              "      <td>259468.0</td>\n",
              "      <td>0.0</td>\n",
              "      <td>0.0</td>\n",
              "    </tr>\n",
              "    <tr>\n",
              "      <th>13</th>\n",
              "      <td>227370128.0</td>\n",
              "      <td>0.0</td>\n",
              "      <td>0.0</td>\n",
              "      <td>0.0</td>\n",
              "      <td>12.0</td>\n",
              "      <td>259479.0</td>\n",
              "      <td>0.0</td>\n",
              "      <td>0.0</td>\n",
              "    </tr>\n",
              "    <tr>\n",
              "      <th>14</th>\n",
              "      <td>182876688.0</td>\n",
              "      <td>0.0</td>\n",
              "      <td>0.0</td>\n",
              "      <td>0.0</td>\n",
              "      <td>12.0</td>\n",
              "      <td>259486.0</td>\n",
              "      <td>0.0</td>\n",
              "      <td>0.0</td>\n",
              "    </tr>\n",
              "  </tbody>\n",
              "</table>\n",
              "</div>"
            ],
            "text/plain": [
              "              0    1    2    3     4         5    6    7\n",
              "0   230172272.0  0.0  0.0  0.0  12.0  259363.0  0.0  0.0\n",
              "1   129496320.0  0.0  0.0  0.0  12.0  259363.0  0.0  0.0\n",
              "2    36442656.0  0.0  0.0  0.0  12.0  259365.0  0.0  0.0\n",
              "3    49528440.0  0.0  0.0  0.0  12.0  259365.0  0.0  0.0\n",
              "4    25414696.0  0.0  0.0  0.0  12.0  259365.0  0.0  0.0\n",
              "5    68029784.0  0.0  0.0  0.0  12.0  259428.0  0.0  0.0\n",
              "6   156867520.0  0.0  0.0  0.0  12.0  259433.0  0.0  0.0\n",
              "7   121080488.0  0.0  0.0  0.0  12.0  259438.0  0.0  0.0\n",
              "8    85168544.0  0.0  0.0  0.0  12.0  259443.0  0.0  0.0\n",
              "9    57781112.0  0.0  0.0  0.0  12.0  259450.0  0.0  0.0\n",
              "10  182622176.0  0.0  0.0  0.0  12.0  259460.0  0.0  0.0\n",
              "11   79408632.0  0.0  0.0  0.0  12.0  259463.0  0.0  0.0\n",
              "12   83214688.0  0.0  0.0  0.0  12.0  259468.0  0.0  0.0\n",
              "13  227370128.0  0.0  0.0  0.0  12.0  259479.0  0.0  0.0\n",
              "14  182876688.0  0.0  0.0  0.0  12.0  259486.0  0.0  0.0"
            ]
          },
          "execution_count": 1124,
          "metadata": {},
          "output_type": "execute_result"
        }
      ],
      "source": [
        "sample_idx = 3\n",
        "pd.DataFrame(X_train_lstm[sample_idx]) \n",
        "#train_eventos[train_eventos.device == meta[sample_idx]]"
      ]
    },
    {
      "cell_type": "code",
      "execution_count": null,
      "metadata": {},
      "outputs": [
        {
          "name": "stdout",
          "output_type": "stream",
          "text": [
            "Shape X: (660, 15, 8) Shape y: (660,)\n"
          ]
        }
      ],
      "source": [
        "## Separar train pra validacion de la LSTM\n",
        "\n",
        "split = int(0.8 * len(X_train_lstm))\n",
        "X_train_lstm_red, X_test_lstm_red = X_train_lstm[:split], X_train_lstm[split:]\n",
        "y_train_lstm_red, y_test_lstm_red = y_train_lstm[:split], y_train_lstm[split:]\n",
        "\n",
        "print(\"Shape X:\", X_train_lstm_red.shape, \"Shape y:\", y_train_lstm_red.shape)\n"
      ]
    },
    {
      "cell_type": "code",
      "execution_count": null,
      "metadata": {},
      "outputs": [
        {
          "name": "stdout",
          "output_type": "stream",
          "text": [
            "Class weights: {0.0: 0.5509181969949917, 1.0: 5.409836065573771}\n"
          ]
        }
      ],
      "source": [
        "import tensorflow as tf\n",
        "from tensorflow.keras.models import Sequential\n",
        "from tensorflow.keras.layers import InputLayer, LayerNormalization\n",
        "from tensorflow.keras.layers import LSTM, Dense, Dropout\n",
        "from tensorflow.keras.callbacks import EarlyStopping\n",
        "from sklearn.utils import class_weight\n",
        "from tensorflow.keras.optimizers import Adam\n",
        "\n",
        "# Definiendo el modelo LSTM\n",
        "model_lstm = Sequential()\n",
        "model_lstm.add(LSTM(64, input_shape=(n_timesteps, n_features), return_sequences=True))\n",
        "model_lstm.add(LayerNormalization())\n",
        "model_lstm.add(Dropout(0.2))\n",
        "model_lstm.add(LSTM(32, return_sequences=True))\n",
        "model_lstm.add(Dropout(0.2))\n",
        "model_lstm.add(LSTM(16, return_sequences=False))\n",
        "model_lstm.add(Dropout(0.2))\n",
        "model_lstm.add(Dense(1, activation='sigmoid'))  # Clasificación binaria\n",
        "\n",
        "optimizer = Adam(learning_rate=0.0001)\n",
        "model_lstm.compile(\n",
        "    loss='binary_crossentropy',\n",
        "    optimizer=optimizer,\n",
        "    metrics=['accuracy','precision','recall']\n",
        ")\n",
        "\n",
        "# Entrenamiento con early stopping\n",
        "early_stop = EarlyStopping(monitor='val_loss', patience=20, restore_best_weights=True)\n",
        "\n",
        "classes = np.unique(y_train_lstm_red)\n",
        "weights = class_weight.compute_class_weight('balanced', classes=classes, y=y_train_lstm_red)\n",
        "class_weight_dict = dict(zip(classes, weights))\n",
        "print(f\"Class weights: {class_weight_dict}\")\n"
      ]
    },
    {
      "cell_type": "code",
      "execution_count": null,
      "metadata": {},
      "outputs": [
        {
          "name": "stdout",
          "output_type": "stream",
          "text": [
            "Epoch 1/60\n"
          ]
        },
        {
          "name": "stdout",
          "output_type": "stream",
          "text": [
            "42/42 - 7s - 163ms/step - accuracy: 0.6970 - loss: 0.6809 - precision: 0.1610 - recall: 0.5410 - val_accuracy: 0.6627 - val_loss: 0.6161 - val_precision: 0.2466 - val_recall: 0.9474\n",
            "Epoch 2/60\n",
            "42/42 - 0s - 8ms/step - accuracy: 0.6106 - loss: 0.6565 - precision: 0.1423 - recall: 0.6393 - val_accuracy: 0.6627 - val_loss: 0.5799 - val_precision: 0.2466 - val_recall: 0.9474\n",
            "Epoch 3/60\n",
            "42/42 - 0s - 9ms/step - accuracy: 0.5652 - loss: 0.6238 - precision: 0.1491 - recall: 0.7869 - val_accuracy: 0.6627 - val_loss: 0.5510 - val_precision: 0.2466 - val_recall: 0.9474\n",
            "Epoch 4/60\n",
            "42/42 - 0s - 9ms/step - accuracy: 0.5621 - loss: 0.6028 - precision: 0.1587 - recall: 0.8689 - val_accuracy: 0.6627 - val_loss: 0.5631 - val_precision: 0.2466 - val_recall: 0.9474\n",
            "Epoch 5/60\n",
            "42/42 - 0s - 9ms/step - accuracy: 0.5591 - loss: 0.6031 - precision: 0.1577 - recall: 0.8689 - val_accuracy: 0.6627 - val_loss: 0.5522 - val_precision: 0.2466 - val_recall: 0.9474\n",
            "Epoch 6/60\n",
            "42/42 - 0s - 9ms/step - accuracy: 0.5591 - loss: 0.5945 - precision: 0.1577 - recall: 0.8689 - val_accuracy: 0.6627 - val_loss: 0.5536 - val_precision: 0.2466 - val_recall: 0.9474\n",
            "Epoch 7/60\n",
            "42/42 - 0s - 9ms/step - accuracy: 0.5545 - loss: 0.6008 - precision: 0.1563 - recall: 0.8689 - val_accuracy: 0.6627 - val_loss: 0.5593 - val_precision: 0.2466 - val_recall: 0.9474\n",
            "Epoch 8/60\n",
            "42/42 - 0s - 9ms/step - accuracy: 0.5545 - loss: 0.5887 - precision: 0.1563 - recall: 0.8689 - val_accuracy: 0.6627 - val_loss: 0.5489 - val_precision: 0.2466 - val_recall: 0.9474\n",
            "Epoch 9/60\n",
            "42/42 - 0s - 9ms/step - accuracy: 0.5545 - loss: 0.5986 - precision: 0.1563 - recall: 0.8689 - val_accuracy: 0.6627 - val_loss: 0.5434 - val_precision: 0.2466 - val_recall: 0.9474\n",
            "Epoch 10/60\n",
            "42/42 - 0s - 9ms/step - accuracy: 0.5545 - loss: 0.5932 - precision: 0.1563 - recall: 0.8689 - val_accuracy: 0.6627 - val_loss: 0.5448 - val_precision: 0.2466 - val_recall: 0.9474\n",
            "Epoch 11/60\n",
            "42/42 - 0s - 9ms/step - accuracy: 0.5576 - loss: 0.5907 - precision: 0.1573 - recall: 0.8689 - val_accuracy: 0.6627 - val_loss: 0.5474 - val_precision: 0.2466 - val_recall: 0.9474\n",
            "Epoch 12/60\n",
            "42/42 - 0s - 9ms/step - accuracy: 0.5545 - loss: 0.5882 - precision: 0.1563 - recall: 0.8689 - val_accuracy: 0.6627 - val_loss: 0.5429 - val_precision: 0.2466 - val_recall: 0.9474\n",
            "Epoch 13/60\n",
            "42/42 - 0s - 9ms/step - accuracy: 0.5545 - loss: 0.5944 - precision: 0.1563 - recall: 0.8689 - val_accuracy: 0.6627 - val_loss: 0.5389 - val_precision: 0.2466 - val_recall: 0.9474\n",
            "Epoch 14/60\n",
            "42/42 - 0s - 9ms/step - accuracy: 0.5545 - loss: 0.5853 - precision: 0.1563 - recall: 0.8689 - val_accuracy: 0.6627 - val_loss: 0.5372 - val_precision: 0.2466 - val_recall: 0.9474\n",
            "Epoch 15/60\n",
            "42/42 - 0s - 9ms/step - accuracy: 0.5545 - loss: 0.5769 - precision: 0.1563 - recall: 0.8689 - val_accuracy: 0.6627 - val_loss: 0.5316 - val_precision: 0.2466 - val_recall: 0.9474\n",
            "Epoch 16/60\n",
            "42/42 - 0s - 9ms/step - accuracy: 0.5545 - loss: 0.5873 - precision: 0.1563 - recall: 0.8689 - val_accuracy: 0.6627 - val_loss: 0.5462 - val_precision: 0.2466 - val_recall: 0.9474\n",
            "Epoch 17/60\n",
            "42/42 - 0s - 9ms/step - accuracy: 0.5561 - loss: 0.5860 - precision: 0.1588 - recall: 0.8852 - val_accuracy: 0.6627 - val_loss: 0.5248 - val_precision: 0.2466 - val_recall: 0.9474\n",
            "Epoch 18/60\n",
            "42/42 - 0s - 9ms/step - accuracy: 0.5561 - loss: 0.5838 - precision: 0.1588 - recall: 0.8852 - val_accuracy: 0.6627 - val_loss: 0.5212 - val_precision: 0.2466 - val_recall: 0.9474\n",
            "Epoch 19/60\n",
            "42/42 - 0s - 9ms/step - accuracy: 0.5545 - loss: 0.5873 - precision: 0.1563 - recall: 0.8689 - val_accuracy: 0.6627 - val_loss: 0.5123 - val_precision: 0.2466 - val_recall: 0.9474\n",
            "Epoch 20/60\n",
            "42/42 - 0s - 9ms/step - accuracy: 0.5545 - loss: 0.5911 - precision: 0.1563 - recall: 0.8689 - val_accuracy: 0.6627 - val_loss: 0.5118 - val_precision: 0.2466 - val_recall: 0.9474\n",
            "Epoch 21/60\n",
            "42/42 - 0s - 9ms/step - accuracy: 0.5545 - loss: 0.5856 - precision: 0.1563 - recall: 0.8689 - val_accuracy: 0.6627 - val_loss: 0.5102 - val_precision: 0.2466 - val_recall: 0.9474\n",
            "Epoch 22/60\n",
            "42/42 - 0s - 8ms/step - accuracy: 0.5561 - loss: 0.5660 - precision: 0.1588 - recall: 0.8852 - val_accuracy: 0.6627 - val_loss: 0.5143 - val_precision: 0.2466 - val_recall: 0.9474\n",
            "Epoch 23/60\n",
            "42/42 - 0s - 9ms/step - accuracy: 0.5561 - loss: 0.5812 - precision: 0.1588 - recall: 0.8852 - val_accuracy: 0.6627 - val_loss: 0.5117 - val_precision: 0.2466 - val_recall: 0.9474\n",
            "Epoch 24/60\n",
            "42/42 - 0s - 9ms/step - accuracy: 0.5545 - loss: 0.5758 - precision: 0.1563 - recall: 0.8689 - val_accuracy: 0.6627 - val_loss: 0.5022 - val_precision: 0.2466 - val_recall: 0.9474\n",
            "Epoch 25/60\n",
            "42/42 - 0s - 9ms/step - accuracy: 0.5545 - loss: 0.5744 - precision: 0.1563 - recall: 0.8689 - val_accuracy: 0.6627 - val_loss: 0.5250 - val_precision: 0.2466 - val_recall: 0.9474\n",
            "Epoch 26/60\n",
            "42/42 - 0s - 9ms/step - accuracy: 0.5545 - loss: 0.5899 - precision: 0.1563 - recall: 0.8689 - val_accuracy: 0.6627 - val_loss: 0.5188 - val_precision: 0.2466 - val_recall: 0.9474\n",
            "Epoch 27/60\n",
            "42/42 - 0s - 9ms/step - accuracy: 0.5545 - loss: 0.5894 - precision: 0.1563 - recall: 0.8689 - val_accuracy: 0.6627 - val_loss: 0.5138 - val_precision: 0.2466 - val_recall: 0.9474\n",
            "Epoch 28/60\n",
            "42/42 - 0s - 9ms/step - accuracy: 0.5576 - loss: 0.5895 - precision: 0.1613 - recall: 0.9016 - val_accuracy: 0.6627 - val_loss: 0.5166 - val_precision: 0.2466 - val_recall: 0.9474\n",
            "Epoch 29/60\n",
            "42/42 - 0s - 9ms/step - accuracy: 0.5561 - loss: 0.5813 - precision: 0.1588 - recall: 0.8852 - val_accuracy: 0.6627 - val_loss: 0.5148 - val_precision: 0.2466 - val_recall: 0.9474\n",
            "Epoch 30/60\n",
            "42/42 - 0s - 9ms/step - accuracy: 0.5576 - loss: 0.5777 - precision: 0.1593 - recall: 0.8852 - val_accuracy: 0.6627 - val_loss: 0.5197 - val_precision: 0.2466 - val_recall: 0.9474\n",
            "Epoch 31/60\n",
            "42/42 - 0s - 9ms/step - accuracy: 0.5576 - loss: 0.5777 - precision: 0.1613 - recall: 0.9016 - val_accuracy: 0.6627 - val_loss: 0.5205 - val_precision: 0.2466 - val_recall: 0.9474\n",
            "Epoch 32/60\n",
            "42/42 - 0s - 9ms/step - accuracy: 0.5561 - loss: 0.5741 - precision: 0.1588 - recall: 0.8852 - val_accuracy: 0.6627 - val_loss: 0.5031 - val_precision: 0.2466 - val_recall: 0.9474\n",
            "Epoch 33/60\n",
            "42/42 - 0s - 9ms/step - accuracy: 0.5561 - loss: 0.5660 - precision: 0.1588 - recall: 0.8852 - val_accuracy: 0.6627 - val_loss: 0.5085 - val_precision: 0.2466 - val_recall: 0.9474\n",
            "Epoch 34/60\n",
            "42/42 - 0s - 9ms/step - accuracy: 0.5576 - loss: 0.5731 - precision: 0.1613 - recall: 0.9016 - val_accuracy: 0.6627 - val_loss: 0.5040 - val_precision: 0.2466 - val_recall: 0.9474\n",
            "Epoch 35/60\n",
            "42/42 - 0s - 9ms/step - accuracy: 0.5561 - loss: 0.5757 - precision: 0.1588 - recall: 0.8852 - val_accuracy: 0.6627 - val_loss: 0.5028 - val_precision: 0.2466 - val_recall: 0.9474\n",
            "Epoch 36/60\n",
            "42/42 - 0s - 9ms/step - accuracy: 0.5576 - loss: 0.5804 - precision: 0.1613 - recall: 0.9016 - val_accuracy: 0.6627 - val_loss: 0.5002 - val_precision: 0.2466 - val_recall: 0.9474\n",
            "Epoch 37/60\n",
            "42/42 - 0s - 9ms/step - accuracy: 0.5576 - loss: 0.5760 - precision: 0.1593 - recall: 0.8852 - val_accuracy: 0.6627 - val_loss: 0.5015 - val_precision: 0.2466 - val_recall: 0.9474\n",
            "Epoch 38/60\n",
            "42/42 - 0s - 9ms/step - accuracy: 0.5576 - loss: 0.5697 - precision: 0.1613 - recall: 0.9016 - val_accuracy: 0.6627 - val_loss: 0.5047 - val_precision: 0.2466 - val_recall: 0.9474\n",
            "Epoch 39/60\n",
            "42/42 - 0s - 9ms/step - accuracy: 0.5561 - loss: 0.5865 - precision: 0.1588 - recall: 0.8852 - val_accuracy: 0.6627 - val_loss: 0.4925 - val_precision: 0.2466 - val_recall: 0.9474\n",
            "Epoch 40/60\n",
            "42/42 - 0s - 9ms/step - accuracy: 0.5545 - loss: 0.5739 - precision: 0.1563 - recall: 0.8689 - val_accuracy: 0.6627 - val_loss: 0.5060 - val_precision: 0.2466 - val_recall: 0.9474\n",
            "Epoch 41/60\n",
            "42/42 - 0s - 9ms/step - accuracy: 0.5576 - loss: 0.5752 - precision: 0.1613 - recall: 0.9016 - val_accuracy: 0.6627 - val_loss: 0.4989 - val_precision: 0.2466 - val_recall: 0.9474\n",
            "Epoch 42/60\n",
            "42/42 - 0s - 9ms/step - accuracy: 0.5576 - loss: 0.5826 - precision: 0.1613 - recall: 0.9016 - val_accuracy: 0.6627 - val_loss: 0.4928 - val_precision: 0.2466 - val_recall: 0.9474\n",
            "Epoch 43/60\n",
            "42/42 - 0s - 9ms/step - accuracy: 0.5576 - loss: 0.5785 - precision: 0.1613 - recall: 0.9016 - val_accuracy: 0.6627 - val_loss: 0.4987 - val_precision: 0.2466 - val_recall: 0.9474\n",
            "Epoch 44/60\n",
            "42/42 - 0s - 9ms/step - accuracy: 0.5561 - loss: 0.5702 - precision: 0.1588 - recall: 0.8852 - val_accuracy: 0.6627 - val_loss: 0.4883 - val_precision: 0.2466 - val_recall: 0.9474\n",
            "Epoch 45/60\n",
            "42/42 - 0s - 9ms/step - accuracy: 0.5561 - loss: 0.5802 - precision: 0.1588 - recall: 0.8852 - val_accuracy: 0.6627 - val_loss: 0.4865 - val_precision: 0.2466 - val_recall: 0.9474\n",
            "Epoch 46/60\n",
            "42/42 - 0s - 9ms/step - accuracy: 0.5561 - loss: 0.5663 - precision: 0.1588 - recall: 0.8852 - val_accuracy: 0.6627 - val_loss: 0.4923 - val_precision: 0.2466 - val_recall: 0.9474\n",
            "Epoch 47/60\n",
            "42/42 - 0s - 9ms/step - accuracy: 0.5591 - loss: 0.5680 - precision: 0.1637 - recall: 0.9180 - val_accuracy: 0.6627 - val_loss: 0.4842 - val_precision: 0.2466 - val_recall: 0.9474\n",
            "Epoch 48/60\n",
            "42/42 - 0s - 9ms/step - accuracy: 0.5576 - loss: 0.5751 - precision: 0.1613 - recall: 0.9016 - val_accuracy: 0.6627 - val_loss: 0.4941 - val_precision: 0.2466 - val_recall: 0.9474\n",
            "Epoch 49/60\n",
            "42/42 - 0s - 9ms/step - accuracy: 0.5576 - loss: 0.5694 - precision: 0.1613 - recall: 0.9016 - val_accuracy: 0.6627 - val_loss: 0.4815 - val_precision: 0.2466 - val_recall: 0.9474\n",
            "Epoch 50/60\n",
            "42/42 - 0s - 9ms/step - accuracy: 0.5576 - loss: 0.5581 - precision: 0.1613 - recall: 0.9016 - val_accuracy: 0.6627 - val_loss: 0.4878 - val_precision: 0.2466 - val_recall: 0.9474\n",
            "Epoch 51/60\n",
            "42/42 - 0s - 9ms/step - accuracy: 0.5591 - loss: 0.5723 - precision: 0.1637 - recall: 0.9180 - val_accuracy: 0.6627 - val_loss: 0.4901 - val_precision: 0.2466 - val_recall: 0.9474\n",
            "Epoch 52/60\n",
            "42/42 - 0s - 9ms/step - accuracy: 0.5576 - loss: 0.5703 - precision: 0.1613 - recall: 0.9016 - val_accuracy: 0.6627 - val_loss: 0.4919 - val_precision: 0.2466 - val_recall: 0.9474\n",
            "Epoch 53/60\n",
            "42/42 - 0s - 9ms/step - accuracy: 0.5606 - loss: 0.5739 - precision: 0.1642 - recall: 0.9180 - val_accuracy: 0.6566 - val_loss: 0.4879 - val_precision: 0.2432 - val_recall: 0.9474\n",
            "Epoch 54/60\n",
            "42/42 - 0s - 9ms/step - accuracy: 0.5576 - loss: 0.5647 - precision: 0.1613 - recall: 0.9016 - val_accuracy: 0.6627 - val_loss: 0.4841 - val_precision: 0.2466 - val_recall: 0.9474\n",
            "Epoch 55/60\n",
            "42/42 - 0s - 9ms/step - accuracy: 0.5576 - loss: 0.5752 - precision: 0.1613 - recall: 0.9016 - val_accuracy: 0.6627 - val_loss: 0.4899 - val_precision: 0.2466 - val_recall: 0.9474\n",
            "Epoch 56/60\n",
            "42/42 - 0s - 9ms/step - accuracy: 0.5576 - loss: 0.5587 - precision: 0.1613 - recall: 0.9016 - val_accuracy: 0.6566 - val_loss: 0.4849 - val_precision: 0.2432 - val_recall: 0.9474\n",
            "Epoch 57/60\n",
            "42/42 - 0s - 9ms/step - accuracy: 0.5576 - loss: 0.5624 - precision: 0.1613 - recall: 0.9016 - val_accuracy: 0.6627 - val_loss: 0.4739 - val_precision: 0.2466 - val_recall: 0.9474\n",
            "Epoch 58/60\n",
            "42/42 - 0s - 9ms/step - accuracy: 0.5576 - loss: 0.5600 - precision: 0.1613 - recall: 0.9016 - val_accuracy: 0.6566 - val_loss: 0.4741 - val_precision: 0.2432 - val_recall: 0.9474\n",
            "Epoch 59/60\n",
            "42/42 - 0s - 9ms/step - accuracy: 0.5561 - loss: 0.5731 - precision: 0.1588 - recall: 0.8852 - val_accuracy: 0.6566 - val_loss: 0.4777 - val_precision: 0.2432 - val_recall: 0.9474\n",
            "Epoch 60/60\n",
            "42/42 - 0s - 8ms/step - accuracy: 0.5591 - loss: 0.5708 - precision: 0.1637 - recall: 0.9180 - val_accuracy: 0.6566 - val_loss: 0.4786 - val_precision: 0.2432 - val_recall: 0.9474\n"
          ]
        }
      ],
      "source": [
        "\n",
        "# Entrenar el modelo con class_weight\n",
        "history = model_lstm.fit(\n",
        "    X_train_lstm_red, y_train_lstm_red, \n",
        "    validation_data=(X_test_lstm_red, y_test_lstm_red),\n",
        "    epochs=60,\n",
        "    batch_size=16,\n",
        "    callbacks=[early_stop],\n",
        "    class_weight=class_weight_dict,\n",
        "    verbose=2\n",
        ")\n"
      ]
    },
    {
      "cell_type": "code",
      "execution_count": null,
      "metadata": {},
      "outputs": [
        {
          "name": "stdout",
          "output_type": "stream",
          "text": [
            "Test loss: 1.0233, Test accuracy: 0.0602\n"
          ]
        },
        {
          "data": {
            "text/plain": [
              "[1.0233031511306763, 0.06017192080616951, 0.06017192080616951, 1.0]"
            ]
          },
          "execution_count": 1155,
          "metadata": {},
          "output_type": "execute_result"
        }
      ],
      "source": [
        "\n",
        "# Evaluar el modelo\n",
        "score = model_lstm.evaluate( X_test_lstm , y_test_lstm, verbose=0)\n",
        "print(f\"Test loss: {score[0]:.4f}, Test accuracy: {score[1]:.4f}\")\n"
      ]
    },
    {
      "cell_type": "code",
      "execution_count": null,
      "metadata": {},
      "outputs": [
        {
          "name": "stdout",
          "output_type": "stream",
          "text": [
            "\u001b[1m35/35\u001b[0m \u001b[32m━━━━━━━━━━━━━━━━━━━━\u001b[0m\u001b[37m\u001b[0m \u001b[1m0s\u001b[0m 2ms/step\n"
          ]
        }
      ],
      "source": [
        "# Predicciones\n",
        "y_proba = model_lstm.predict(X_test_lstm, batch_size=10).ravel()"
      ]
    },
    {
      "cell_type": "code",
      "execution_count": null,
      "metadata": {},
      "outputs": [
        {
          "data": {
            "text/html": [
              "<div>\n",
              "<style scoped>\n",
              "    .dataframe tbody tr th:only-of-type {\n",
              "        vertical-align: middle;\n",
              "    }\n",
              "\n",
              "    .dataframe tbody tr th {\n",
              "        vertical-align: top;\n",
              "    }\n",
              "\n",
              "    .dataframe thead th {\n",
              "        text-align: right;\n",
              "    }\n",
              "</style>\n",
              "<table border=\"1\" class=\"dataframe\">\n",
              "  <thead>\n",
              "    <tr style=\"text-align: right;\">\n",
              "      <th></th>\n",
              "      <th>proba</th>\n",
              "    </tr>\n",
              "    <tr>\n",
              "      <th>target</th>\n",
              "      <th></th>\n",
              "    </tr>\n",
              "  </thead>\n",
              "  <tbody>\n",
              "    <tr>\n",
              "      <th>0.0</th>\n",
              "      <td>0.654047</td>\n",
              "    </tr>\n",
              "    <tr>\n",
              "      <th>1.0</th>\n",
              "      <td>0.652940</td>\n",
              "    </tr>\n",
              "  </tbody>\n",
              "</table>\n",
              "</div>"
            ],
            "text/plain": [
              "           proba\n",
              "target          \n",
              "0.0     0.654047\n",
              "1.0     0.652940"
            ]
          },
          "execution_count": 1161,
          "metadata": {},
          "output_type": "execute_result"
        }
      ],
      "source": [
        "tmp=pd.DataFrame(zip(y_proba, y_test_lstm)).rename(columns={0:'proba', 1:'target'})\n",
        "tmp.groupby('target').agg({'proba':'mean'}).sort_values(by='proba', ascending=False)"
      ]
    },
    {
      "cell_type": "code",
      "execution_count": null,
      "metadata": {},
      "outputs": [
        {
          "data": {
            "image/png": "[encoded data removed]",
            "text/plain": [
              "<Figure size 400x300 with 1 Axes>"
            ]
          },
          "metadata": {},
          "output_type": "display_data"
        }
      ],
      "source": [
        "# Predicciones\n",
        "plt.figure(figsize=(4, 3))\n",
        "sns.kdeplot(tmp,hue='target',x='proba',alpha=0.2);\n",
        "plt.ylim(0,100);\n"
      ]
    },
    {
      "cell_type": "code",
      "execution_count": null,
      "metadata": {},
      "outputs": [
        {
          "data": {
            "image/png": "[encoded data removed]",
            "text/plain": [
              "<Figure size 400x300 with 2 Axes>"
            ]
          },
          "metadata": {},
          "output_type": "display_data"
        },
        {
          "name": "stdout",
          "output_type": "stream",
          "text": [
            "True Negatives: 283\n",
            "False Positives: 45 (falsas alarmas)\n",
            "False Negatives: 15 (fallas NO detectadas - CRÍTICO)\n",
            "True Positives: 6 (fallas detectadas)\n",
            "precision: 0.11764705882352941\n",
            "AUC PR (Average Precision): 0.2895\n"
          ]
        }
      ],
      "source": [
        "# Matriz de confusión\n",
        "threshold = 0.65478\n",
        "y_pred_th = (y_proba > threshold).astype(int)\n",
        "\n",
        "cm = confusion_matrix(y_test_lstm, y_pred_th)\n",
        "\n",
        "plt.figure(figsize=(4, 3))\n",
        "sns.heatmap(cm, annot=True, fmt='d', cmap='Blues')\n",
        "plt.title('Matriz de Confusión')\n",
        "plt.ylabel('Real')\n",
        "plt.xlabel('Predicho')\n",
        "plt.show()\n",
        "\n",
        "tn, fp, fn, tp = cm.ravel()\n",
        "print(f'True Negatives: {tn}')\n",
        "print(f'False Positives: {fp} (falsas alarmas)')\n",
        "print(f'False Negatives: {fn} (fallas NO detectadas - CRÍTICO)')\n",
        "print(f'True Positives: {tp} (fallas detectadas)')\n",
        "print(f'precision: {tp/(tp+fp)}')\n",
        "\n",
        "aucpr = average_precision_score(y_test_lstm, y_proba)\n",
        "print(f\"AUC PR (Average Precision): {aucpr:.4f}\")\n"
      ]
    },
    {
      "cell_type": "code",
      "execution_count": 1152,
      "metadata": {},
      "outputs": [],
      "source": [
        "import pickle\n",
        "pickle.dump(model_lstm, open('../models/model_lstm.pkl', 'wb'))"
      ]
    },
    {
      "cell_type": "markdown",
      "metadata": {},
      "source": [
        "## Modelado con Survival Forest"
      ]
    },
    {
      "cell_type": "code",
      "execution_count": 1175,
      "metadata": {},
      "outputs": [],
      "source": [
        "import numpy as np\n",
        "import pandas as pd\n",
        "import matplotlib.pyplot as plt\n",
        "import seaborn as sns\n",
        "from sklearn.preprocessing import StandardScaler\n",
        "from sksurv.ensemble import RandomSurvivalForest\n",
        "from sksurv.util import Surv\n",
        "from sksurv.metrics import concordance_index_censored\n",
        "import warnings\n",
        "warnings.filterwarnings('ignore')\n"
      ]
    },
    {
      "cell_type": "markdown",
      "metadata": {},
      "source": [
        "### split de datasets"
      ]
    },
    {
      "cell_type": "code",
      "execution_count": 1198,
      "metadata": {},
      "outputs": [],
      "source": [
        "exclude_cols = ['date', 'device', 'failure', 'target','last_date', 'last_date_device',\n",
        "'first_date_device','extended_target','days_since_last_failure','is_last_date_device','days_from_last','is_day_0','days_from_last_device']\n",
        "feature_cols = [col for col in df_clean.columns if col not in exclude_cols]\n",
        "#feature_cols =['attribute1','attribute2','attribute3','attribute4','attribute5','attribute6','attribute7','attribute9']\n",
        "\n",
        "train_eventos['date']=pd.to_datetime(train_eventos['date'])\n",
        "test_eventos['date']=pd.to_datetime(test_eventos['date'])"
      ]
    },
    {
      "cell_type": "code",
      "execution_count": 1199,
      "metadata": {},
      "outputs": [
        {
          "name": "stdout",
          "output_type": "stream",
          "text": [
            "✓ Features preparadas: 224 variables\n",
            "✓ Train: (8085, 224)\n",
            "✓ Test: (5175, 224)\n"
          ]
        }
      ],
      "source": [
        "## train and test\n",
        "\n",
        "X_train = train_eventos[feature_cols].values\n",
        "X_test = test_eventos[feature_cols].values\n",
        "\n",
        "# Crear structured arrays para scikit-survival\n",
        "y_train = Surv.from_arrays(\n",
        "    event=train_eventos['target'].values,\n",
        "    time=train_eventos['date'].values\n",
        ")\n",
        "\n",
        "y_test = Surv.from_arrays(\n",
        "    event=test_eventos['target'].values,\n",
        "    time=test_eventos['date'].values\n",
        ")\n",
        "\n",
        "print(f\"✓ Features preparadas: {len(feature_cols)} variables\")\n",
        "print(f\"✓ Train: {X_train.shape}\")\n",
        "print(f\"✓ Test: {X_test.shape}\")\n",
        "\n",
        "# Normalización (importante para algunos features)\n",
        "scaler = StandardScaler()\n",
        "X_train_scaled = scaler.fit_transform(X_train)\n",
        "X_test_scaled = scaler.transform(X_test)\n"
      ]
    },
    {
      "cell_type": "markdown",
      "metadata": {},
      "source": [
        "### Modelo train Survival"
      ]
    },
    {
      "cell_type": "code",
      "execution_count": 1200,
      "metadata": {},
      "outputs": [
        {
          "name": "stdout",
          "output_type": "stream",
          "text": [
            "Modelo entrenado exitosamente\n"
          ]
        }
      ],
      "source": [
        "from sksurv.ensemble import RandomSurvivalForest\n",
        "\n",
        "rsf = RandomSurvivalForest(\n",
        "    n_estimators=200,\n",
        "    min_samples_split=10,\n",
        "    min_samples_leaf=5,\n",
        "    max_features=\"sqrt\",\n",
        "    n_jobs=-1,\n",
        "    random_state=42,\n",
        "    verbose=0,\n",
        "    max_depth=None\n",
        ")\n",
        "\n",
        "rsf.fit(X_train_scaled, y_train)\n",
        "\n",
        "print(\"Modelo entrenado exitosamente\")\n"
      ]
    },
    {
      "cell_type": "code",
      "execution_count": 1201,
      "metadata": {},
      "outputs": [
        {
          "name": "stdout",
          "output_type": "stream",
          "text": [
            "   Train: 0.9939\n",
            "   Test:  0.7231\n",
            "   Diferencia: 0.2708\n",
            "Posible overfitting - considerar regularización\n",
            "Interpretación del C-index:\n",
            " Buena capacidad predictiva (0.70-0.80)\n"
          ]
        }
      ],
      "source": [
        "\n",
        "train_c_index = rsf.score(X_train_scaled, y_train)\n",
        "test_c_index = rsf.score(X_test_scaled, y_test)\n",
        "\n",
        "print(f\"   Train: {train_c_index:.4f}\")\n",
        "print(f\"   Test:  {test_c_index:.4f}\")\n",
        "print(f\"   Diferencia: {abs(train_c_index - test_c_index):.4f}\")\n",
        "\n",
        "if abs(train_c_index - test_c_index) < 0.05:\n",
        "    print(\"Buen balance - no hay overfitting significativo\")\n",
        "elif abs(train_c_index - test_c_index) < 0.10:\n",
        "    print(\"Ligero overfitting\")\n",
        "else:\n",
        "    print(\"Posible overfitting - considerar regularización\")\n",
        "\n",
        "print(f\"Interpretación del C-index:\")\n",
        "if test_c_index > 0.8:\n",
        "    print(\"Excelente capacidad predictiva (>0.80)\")\n",
        "elif test_c_index > 0.7:\n",
        "    print(\" Buena capacidad predictiva (0.70-0.80)\")\n",
        "elif test_c_index > 0.6:\n",
        "    print(\"Capacidad predictiva moderada (0.60-0.70)\")\n",
        "else:\n",
        "    print(\" Capacidad predictiva limitada (<0.60)\")\n"
      ]
    },
    {
      "cell_type": "code",
      "execution_count": 1204,
      "metadata": {},
      "outputs": [
        {
          "data": {
            "text/html": [
              "<div>\n",
              "<style scoped>\n",
              "    .dataframe tbody tr th:only-of-type {\n",
              "        vertical-align: middle;\n",
              "    }\n",
              "\n",
              "    .dataframe tbody tr th {\n",
              "        vertical-align: top;\n",
              "    }\n",
              "\n",
              "    .dataframe thead th {\n",
              "        text-align: right;\n",
              "    }\n",
              "</style>\n",
              "<table border=\"1\" class=\"dataframe\">\n",
              "  <thead>\n",
              "    <tr style=\"text-align: right;\">\n",
              "      <th></th>\n",
              "      <th>device</th>\n",
              "      <th>date</th>\n",
              "      <th>risk_score</th>\n",
              "      <th>failure</th>\n",
              "    </tr>\n",
              "  </thead>\n",
              "  <tbody>\n",
              "    <tr>\n",
              "      <th>0</th>\n",
              "      <td>S1F01R2B</td>\n",
              "      <td>2015-08-09</td>\n",
              "      <td>0.009050</td>\n",
              "      <td>0</td>\n",
              "    </tr>\n",
              "    <tr>\n",
              "      <th>1</th>\n",
              "      <td>S1F01R2B</td>\n",
              "      <td>2015-08-10</td>\n",
              "      <td>0.008800</td>\n",
              "      <td>0</td>\n",
              "    </tr>\n",
              "    <tr>\n",
              "      <th>2</th>\n",
              "      <td>S1F01R2B</td>\n",
              "      <td>2015-08-11</td>\n",
              "      <td>0.009315</td>\n",
              "      <td>0</td>\n",
              "    </tr>\n",
              "    <tr>\n",
              "      <th>3</th>\n",
              "      <td>S1F01R2B</td>\n",
              "      <td>2015-08-12</td>\n",
              "      <td>0.008550</td>\n",
              "      <td>0</td>\n",
              "    </tr>\n",
              "    <tr>\n",
              "      <th>4</th>\n",
              "      <td>S1F01R2B</td>\n",
              "      <td>2015-08-13</td>\n",
              "      <td>0.007370</td>\n",
              "      <td>0</td>\n",
              "    </tr>\n",
              "    <tr>\n",
              "      <th>...</th>\n",
              "      <td>...</td>\n",
              "      <td>...</td>\n",
              "      <td>...</td>\n",
              "      <td>...</td>\n",
              "    </tr>\n",
              "    <tr>\n",
              "      <th>5170</th>\n",
              "      <td>Z1F1VMZB</td>\n",
              "      <td>2015-10-14</td>\n",
              "      <td>0.004450</td>\n",
              "      <td>0</td>\n",
              "    </tr>\n",
              "    <tr>\n",
              "      <th>5171</th>\n",
              "      <td>Z1F1VMZB</td>\n",
              "      <td>2015-10-15</td>\n",
              "      <td>0.004050</td>\n",
              "      <td>0</td>\n",
              "    </tr>\n",
              "    <tr>\n",
              "      <th>5172</th>\n",
              "      <td>Z1F1VMZB</td>\n",
              "      <td>2015-10-16</td>\n",
              "      <td>0.005665</td>\n",
              "      <td>0</td>\n",
              "    </tr>\n",
              "    <tr>\n",
              "      <th>5173</th>\n",
              "      <td>Z1F1VMZB</td>\n",
              "      <td>2015-10-17</td>\n",
              "      <td>0.005750</td>\n",
              "      <td>0</td>\n",
              "    </tr>\n",
              "    <tr>\n",
              "      <th>5174</th>\n",
              "      <td>Z1F1VMZB</td>\n",
              "      <td>2015-10-18</td>\n",
              "      <td>0.005700</td>\n",
              "      <td>0</td>\n",
              "    </tr>\n",
              "  </tbody>\n",
              "</table>\n",
              "<p>5175 rows × 4 columns</p>\n",
              "</div>"
            ],
            "text/plain": [
              "        device       date  risk_score  failure\n",
              "0     S1F01R2B 2015-08-09    0.009050        0\n",
              "1     S1F01R2B 2015-08-10    0.008800        0\n",
              "2     S1F01R2B 2015-08-11    0.009315        0\n",
              "3     S1F01R2B 2015-08-12    0.008550        0\n",
              "4     S1F01R2B 2015-08-13    0.007370        0\n",
              "...        ...        ...         ...      ...\n",
              "5170  Z1F1VMZB 2015-10-14    0.004450        0\n",
              "5171  Z1F1VMZB 2015-10-15    0.004050        0\n",
              "5172  Z1F1VMZB 2015-10-16    0.005665        0\n",
              "5173  Z1F1VMZB 2015-10-17    0.005750        0\n",
              "5174  Z1F1VMZB 2015-10-18    0.005700        0\n",
              "\n",
              "[5175 rows x 4 columns]"
            ]
          },
          "execution_count": 1204,
          "metadata": {},
          "output_type": "execute_result"
        }
      ],
      "source": [
        "\n",
        "risk_scores_test = rsf.predict(X_test_scaled)/100\n",
        "\n",
        "# Crear DataFrame de resultados\n",
        "results_df = pd.DataFrame({\n",
        "    'device': test_eventos['device'].values,\n",
        "    'date': test_eventos['date'].values,\n",
        "    'risk_score': risk_scores_test,\n",
        "    'failure': test_eventos['failure'].values,\n",
        "    'date': test_eventos['date'].values\n",
        "})\n",
        "results_df\n"
      ]
    },
    {
      "cell_type": "code",
      "execution_count": 1206,
      "metadata": {},
      "outputs": [
        {
          "data": {
            "image/png": "[encoded data removed]",
            "text/plain": [
              "<Figure size 400x300 with 2 Axes>"
            ]
          },
          "metadata": {},
          "output_type": "display_data"
        },
        {
          "name": "stdout",
          "output_type": "stream",
          "text": [
            "True Negatives: 4111\n",
            "False Positives: 1063 (falsas alarmas)\n",
            "False Negatives: 1 (fallas NO detectadas - CRÍTICO)\n",
            "True Positives: 0 (fallas detectadas)\n",
            "precision: 0.0\n",
            "AUC PR (Average Precision): 0.0003\n"
          ]
        }
      ],
      "source": [
        "# Matriz de confusión\n",
        "threshold = 0.05\n",
        "y_pred_th = (results_df.risk_score > threshold).astype(int)\n",
        "\n",
        "cm = confusion_matrix(results_df.failure, y_pred_th)\n",
        "\n",
        "plt.figure(figsize=(4, 3))\n",
        "sns.heatmap(cm, annot=True, fmt='d', cmap='Blues')\n",
        "plt.title('Matriz de Confusión')\n",
        "plt.ylabel('Real')\n",
        "plt.xlabel('Predicho')\n",
        "plt.show()\n",
        "\n",
        "tn, fp, fn, tp = cm.ravel()\n",
        "print(f'True Negatives: {tn}')\n",
        "print(f'False Positives: {fp} (falsas alarmas)')\n",
        "print(f'False Negatives: {fn} (fallas NO detectadas - CRÍTICO)')\n",
        "print(f'True Positives: {tp} (fallas detectadas)')\n",
        "print(f'precision: {tp/(tp+fp)}')   \n",
        "\n",
        "aucpr = average_precision_score(results_df.failure, results_df.risk_score)\n",
        "print(f\"AUC PR (Average Precision): {aucpr:.4f}\")\n"
      ]
    },
    {
      "cell_type": "code",
      "execution_count": null,
      "metadata": {},
      "outputs": [],
      "source": []
    },
    {
      "cell_type": "code",
      "execution_count": null,
      "metadata": {},
      "outputs": [],
      "source": []
    }
  ],
  "metadata": {
    "kernelspec": {
      "display_name": "venv",
      "language": "python",
      "name": "python3"
    },
    "language_info": {
      "codemirror_mode": {
        "name": "ipython",
        "version": 3
      },
      "file_extension": ".py",
      "mimetype": "text/x-python",
      "name": "python",
      "nbconvert_exporter": "python",
      "pygments_lexer": "ipython3",
      "version": "3.13.2"
    }
  },
  "nbformat": 4,
  "nbformat_minor": 4
}
